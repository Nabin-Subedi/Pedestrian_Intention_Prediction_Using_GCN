{
 "cells": [
  {
   "cell_type": "code",
   "execution_count": null,
   "metadata": {
    "id": "3eV--5KUJ9U_"
   },
   "outputs": [],
   "source": [
    "# from google.colab import drive\r\n",
    "# drive.mount('/content/drive')"
   ]
  },
  {
   "cell_type": "code",
   "execution_count": 1,
   "metadata": {
    "executionInfo": {
     "elapsed": 5642,
     "status": "ok",
     "timestamp": 1613929557484,
     "user": {
      "displayName": "Snbn subedi",
      "photoUrl": "",
      "userId": "08622599957170027744"
     },
     "user_tz": -345
    },
    "id": "gjZZYxW1KZD5"
   },
   "outputs": [],
   "source": [
    "# !cp -r /content/drive/MyDrive/Gcn/C_NC_csv_data/c_nc_averaged_dropped_null.pkl /content/"
   ]
  },
  {
   "cell_type": "code",
   "execution_count": 1,
   "metadata": {
    "executionInfo": {
     "elapsed": 2730,
     "status": "ok",
     "timestamp": 1613914651726,
     "user": {
      "displayName": "Snbn subedi",
      "photoUrl": "",
      "userId": "08622599957170027744"
     },
     "user_tz": -345
    },
    "id": "USfFq4DfJ5Qr"
   },
   "outputs": [
    {
     "name": "stderr",
     "output_type": "stream",
     "text": [
      "C:\\Users\\nbnsu\\anaconda3\\envs\\tfpose\\lib\\site-packages\\tensorflow\\python\\framework\\dtypes.py:516: FutureWarning: Passing (type, 1) or '1type' as a synonym of type is deprecated; in a future version of numpy, it will be understood as (type, (1,)) / '(1,)type'.\n",
      "  _np_qint8 = np.dtype([(\"qint8\", np.int8, 1)])\n",
      "C:\\Users\\nbnsu\\anaconda3\\envs\\tfpose\\lib\\site-packages\\tensorflow\\python\\framework\\dtypes.py:517: FutureWarning: Passing (type, 1) or '1type' as a synonym of type is deprecated; in a future version of numpy, it will be understood as (type, (1,)) / '(1,)type'.\n",
      "  _np_quint8 = np.dtype([(\"quint8\", np.uint8, 1)])\n",
      "C:\\Users\\nbnsu\\anaconda3\\envs\\tfpose\\lib\\site-packages\\tensorflow\\python\\framework\\dtypes.py:518: FutureWarning: Passing (type, 1) or '1type' as a synonym of type is deprecated; in a future version of numpy, it will be understood as (type, (1,)) / '(1,)type'.\n",
      "  _np_qint16 = np.dtype([(\"qint16\", np.int16, 1)])\n",
      "C:\\Users\\nbnsu\\anaconda3\\envs\\tfpose\\lib\\site-packages\\tensorflow\\python\\framework\\dtypes.py:519: FutureWarning: Passing (type, 1) or '1type' as a synonym of type is deprecated; in a future version of numpy, it will be understood as (type, (1,)) / '(1,)type'.\n",
      "  _np_quint16 = np.dtype([(\"quint16\", np.uint16, 1)])\n",
      "C:\\Users\\nbnsu\\anaconda3\\envs\\tfpose\\lib\\site-packages\\tensorflow\\python\\framework\\dtypes.py:520: FutureWarning: Passing (type, 1) or '1type' as a synonym of type is deprecated; in a future version of numpy, it will be understood as (type, (1,)) / '(1,)type'.\n",
      "  _np_qint32 = np.dtype([(\"qint32\", np.int32, 1)])\n",
      "C:\\Users\\nbnsu\\anaconda3\\envs\\tfpose\\lib\\site-packages\\tensorflow\\python\\framework\\dtypes.py:525: FutureWarning: Passing (type, 1) or '1type' as a synonym of type is deprecated; in a future version of numpy, it will be understood as (type, (1,)) / '(1,)type'.\n",
      "  np_resource = np.dtype([(\"resource\", np.ubyte, 1)])\n",
      "C:\\Users\\nbnsu\\anaconda3\\envs\\tfpose\\lib\\site-packages\\tensorboard\\compat\\tensorflow_stub\\dtypes.py:541: FutureWarning: Passing (type, 1) or '1type' as a synonym of type is deprecated; in a future version of numpy, it will be understood as (type, (1,)) / '(1,)type'.\n",
      "  _np_qint8 = np.dtype([(\"qint8\", np.int8, 1)])\n",
      "C:\\Users\\nbnsu\\anaconda3\\envs\\tfpose\\lib\\site-packages\\tensorboard\\compat\\tensorflow_stub\\dtypes.py:542: FutureWarning: Passing (type, 1) or '1type' as a synonym of type is deprecated; in a future version of numpy, it will be understood as (type, (1,)) / '(1,)type'.\n",
      "  _np_quint8 = np.dtype([(\"quint8\", np.uint8, 1)])\n",
      "C:\\Users\\nbnsu\\anaconda3\\envs\\tfpose\\lib\\site-packages\\tensorboard\\compat\\tensorflow_stub\\dtypes.py:543: FutureWarning: Passing (type, 1) or '1type' as a synonym of type is deprecated; in a future version of numpy, it will be understood as (type, (1,)) / '(1,)type'.\n",
      "  _np_qint16 = np.dtype([(\"qint16\", np.int16, 1)])\n",
      "C:\\Users\\nbnsu\\anaconda3\\envs\\tfpose\\lib\\site-packages\\tensorboard\\compat\\tensorflow_stub\\dtypes.py:544: FutureWarning: Passing (type, 1) or '1type' as a synonym of type is deprecated; in a future version of numpy, it will be understood as (type, (1,)) / '(1,)type'.\n",
      "  _np_quint16 = np.dtype([(\"quint16\", np.uint16, 1)])\n",
      "C:\\Users\\nbnsu\\anaconda3\\envs\\tfpose\\lib\\site-packages\\tensorboard\\compat\\tensorflow_stub\\dtypes.py:545: FutureWarning: Passing (type, 1) or '1type' as a synonym of type is deprecated; in a future version of numpy, it will be understood as (type, (1,)) / '(1,)type'.\n",
      "  _np_qint32 = np.dtype([(\"qint32\", np.int32, 1)])\n",
      "C:\\Users\\nbnsu\\anaconda3\\envs\\tfpose\\lib\\site-packages\\tensorboard\\compat\\tensorflow_stub\\dtypes.py:550: FutureWarning: Passing (type, 1) or '1type' as a synonym of type is deprecated; in a future version of numpy, it will be understood as (type, (1,)) / '(1,)type'.\n",
      "  np_resource = np.dtype([(\"resource\", np.ubyte, 1)])\n"
     ]
    }
   ],
   "source": [
    "import numpy as np\n",
    "import tensorflow as tf\n",
    "import pandas as pd\n",
    "import matplotlib.pyplot as plt\n",
    "# import pickle\n",
    "import networkx as nx"
   ]
  },
  {
   "cell_type": "code",
   "execution_count": 2,
   "metadata": {
    "executionInfo": {
     "elapsed": 1026,
     "status": "ok",
     "timestamp": 1613914652136,
     "user": {
      "displayName": "Snbn subedi",
      "photoUrl": "",
      "userId": "08622599957170027744"
     },
     "user_tz": -345
    },
    "id": "nvqDBVrVJ5Q8"
   },
   "outputs": [
    {
     "name": "stderr",
     "output_type": "stream",
     "text": [
      "Using TensorFlow backend.\n"
     ]
    }
   ],
   "source": [
    "import keras\n",
    "from keras.models import Sequential,Model\n",
    "from keras.layers import Dense,Conv2D,Flatten,Input,Activation,Dropout,BatchNormalization,GlobalAveragePooling2D,Lambda,Layer,PReLU,LeakyReLU"
   ]
  },
  {
   "cell_type": "code",
   "execution_count": 3,
   "metadata": {
    "executionInfo": {
     "elapsed": 1473,
     "status": "ok",
     "timestamp": 1613929669589,
     "user": {
      "displayName": "Snbn subedi",
      "photoUrl": "",
      "userId": "08622599957170027744"
     },
     "user_tz": -345
    },
    "id": "6z95VV4hJ5Q8"
   },
   "outputs": [],
   "source": [
    "from sklearn.model_selection import train_test_split\n",
    "from sklearn.metrics import classification_report"
   ]
  },
  {
   "cell_type": "code",
   "execution_count": 4,
   "metadata": {
    "executionInfo": {
     "elapsed": 1020,
     "status": "ok",
     "timestamp": 1613929699301,
     "user": {
      "displayName": "Snbn subedi",
      "photoUrl": "",
      "userId": "08622599957170027744"
     },
     "user_tz": -345
    },
    "id": "dKtcyGTOJ5Q9"
   },
   "outputs": [],
   "source": [
    "df=pd.read_pickle('GCN/c_nc_averaged_dropped_null.pkl')\n",
    "# df = pickle.load(open('c_nc_averaged_dropped_null.pkl', \"rb\"))\n",
    "lookup = {\"C\": 1, \"NC\": 0}\n",
    "df = df.rename(columns={\"keypoints\": \"X\", \"C/NC\": \"Y\"})\n",
    "df[\"Y\"] = df.Y.apply(lambda x: lookup.get(x))"
   ]
  },
  {
   "cell_type": "code",
   "execution_count": 5,
   "metadata": {
    "executionInfo": {
     "elapsed": 1278,
     "status": "ok",
     "timestamp": 1613929703380,
     "user": {
      "displayName": "Snbn subedi",
      "photoUrl": "",
      "userId": "08622599957170027744"
     },
     "user_tz": -345
    },
    "id": "koCFa8pRJ5Q9"
   },
   "outputs": [],
   "source": [
    "X = np.stack(list(df[\"X\"]))\n",
    "X = X.reshape(-1, 300, 25, 2)\n",
    "X[:, :, :, 0] /= 1920.0\n",
    "X[:, :, :, 1] /= 1080.0\n",
    "Y=df['Y'].values"
   ]
  },
  {
   "cell_type": "code",
   "execution_count": 6,
   "metadata": {
    "executionInfo": {
     "elapsed": 1034,
     "status": "ok",
     "timestamp": 1613929763996,
     "user": {
      "displayName": "Snbn subedi",
      "photoUrl": "",
      "userId": "08622599957170027744"
     },
     "user_tz": -345
    },
    "id": "X6ZjafYjJ5Q_"
   },
   "outputs": [],
   "source": [
    "A=[    \n",
    "    [1, 1, 0, 0, 0, 0, 0, 0, 0, 0, 0,  0,  0,  0,  0,  1,  1,  0,  0,  0,  0,  0,  0,  0,  0],\n",
    "    [1, 1, 1, 0, 0, 1, 0, 0, 1, 0, 0,  0,  0,  0,  0,  0,  0,  0,  0,  0,  0,  0,  0,  0,  0],    \n",
    "    [0, 1, 1, 1, 0, 0, 0, 0, 0, 0, 0,  0,  0,  0,  0,  0,  0,  0,  0,  0,  0,  0,  0,  0,  0],    \n",
    "    [0, 0, 1, 1, 1, 0, 0, 0, 0, 0, 0,  0,  0,  0,  0,  0,  0,  0,  0,  0,  0,  0,  0,  0,  0],    \n",
    "    [0, 0, 0, 1, 1, 0, 0, 0, 0, 0, 0,  0,  0,  0,  0,  0,  0,  0,  0,  0,  0,  0,  0,  0,  0],    \n",
    "    [0, 1, 0, 0, 0, 1, 1, 0, 0, 0, 0,  0,  0,  0,  0,  0,  0,  0,  0,  0,  0,  0,  0,  0,  0],    \n",
    "    [0, 0, 0, 0, 0, 1, 1, 1, 0, 0, 0,  0,  0,  0,  0,  0,  0,  0,  0,  0,  0,  0,  0,  0,  0],    \n",
    "    [0, 0, 0, 0, 0, 0, 1, 1, 0, 0, 0,  0,  0,  0,  0,  0,  0,  0,  0,  0,  0,  0,  0,  0,  0],    \n",
    "    [0, 1, 0, 0, 0, 0, 0, 0, 1, 1, 0,  0,  1,  0,  0,  0,  0,  0,  0,  0,  0,  0,  0,  0,  0],    \n",
    "    [0, 0, 0, 0, 0, 0, 0, 0, 1, 1, 1,  0,  0,  0,  0,  0,  0,  0,  0,  0,  0,  0,  0,  0,  0],    \n",
    "    [0, 0, 0, 0, 0, 0, 0, 0, 0, 1, 1,  1,  0,  0,  0,  0,  0,  0,  0,  0,  0,  0,  0,  0,  0],    \n",
    "    [0, 0, 0, 0, 0, 0, 0, 0, 0, 0, 1,  1,  0,  0,  0,  0,  0,  0,  0,  0,  0,  0,  1,  0,  1],    \n",
    "    [0, 0, 0, 0, 0, 0, 0, 0, 1, 0, 0,  0,  1,  1,  0,  0,  0,  0,  0,  0,  0,  0,  0,  0,  0],    \n",
    "    [0, 0, 0, 0, 0, 0, 0, 0, 0, 0, 0,  0,  1,  1,  1,  0,  0,  0,  0,  0,  0,  0,  0,  0,  0],    \n",
    "    [0, 0, 0, 0, 0, 0, 0, 0, 0, 0, 0,  0,  0,  1,  1,  0,  0,  0,  0,  1,  0,  1,  0,  0,  0],    \n",
    "    [1, 0, 0, 0, 0, 0, 0, 0, 0, 0, 0,  0,  0,  0,  0,  1,  0,  1,  0,  0,  0,  0,  0,  0,  0],    \n",
    "    [1, 0, 0, 0, 0, 0, 0, 0, 0, 0, 0,  0,  0,  0,  0,  0,  1,  0,  1,  0,  0,  0,  0,  0,  0],    \n",
    "    [0, 0, 0, 0, 0, 0, 0, 0, 0, 0, 0,  0,  0,  0,  0,  1,  0,  1,  0,  0,  0,  0,  0,  0,  0],    \n",
    "    [0, 0, 0, 0, 0, 0, 0, 0, 0, 0, 0,  0,  0,  0,  0,  0,  1,  0,  1,  0,  0,  0,  0,  0,  0],    \n",
    "    [0, 0, 0, 0, 0, 0, 0, 0, 0, 0, 0,  0,  0,  0,  1,  0,  0,  0,  0,  1,  1,  0,  0,  0,  0],    \n",
    "    [0, 0, 0, 0, 0, 0, 0, 0, 0, 0, 0,  0,  0,  0,  0,  0,  0,  0,  0,  1,  1,  0,  0,  0,  0],    \n",
    "    [0, 0, 0, 0, 0, 0, 0, 0, 0, 0, 0,  0,  0,  0,  1,  0,  0,  0,  0,  0,  0,  1,  0,  0,  0],    \n",
    "    [0, 0, 0, 0, 0, 0, 0, 0, 0, 0, 0,  1,  0,  0,  0,  0,  0,  0,  0,  0,  0,  0,  1,  1,  0],    \n",
    "    [0, 0, 0, 0, 0, 0, 0, 0, 0, 0, 0,  0,  0,  0,  0,  0,  0,  0,  0,  0,  0,  0,  1,  1,  0],\n",
    "    [0, 0, 0, 0, 0, 0, 0, 0, 0, 0, 0,  1,  0,  0,  0,  0,  0,  0,  0,  0,  0,  0,  0,  0,  1]\n",
    "    \n",
    "]\n",
    "A = np.array(A , dtype='float')\n",
    "# A_300 = np.stack([A for _ in range(300)])\n",
    "# A_300_t=tf.convert_to_tensor(A_300,dtype='float32')"
   ]
  },
  {
   "cell_type": "code",
   "execution_count": 7,
   "metadata": {
    "executionInfo": {
     "elapsed": 999,
     "status": "ok",
     "timestamp": 1613929709370,
     "user": {
      "displayName": "Snbn subedi",
      "photoUrl": "",
      "userId": "08622599957170027744"
     },
     "user_tz": -345
    },
    "id": "zS9vBlViJ5Q-"
   },
   "outputs": [],
   "source": [
    "X_train, X_test, y_train, y_test = train_test_split(X, Y, test_size=0.2, random_state=42)"
   ]
  },
  {
   "cell_type": "code",
   "execution_count": null,
   "metadata": {
    "id": "HljZS-5qo8oJ"
   },
   "outputs": [],
   "source": [
    "## A_300=A_300.numpy()\r\n",
    "# for s in range(A_300.shape[0]):\r\n",
    "#     G = nx.from_numpy_matrix(A_300[s,:,:])\r\n",
    "#     A_300[s,:,:] = nx.normalized_laplacian_matrix(G).toarray()\r\n",
    "# A=A_300[0]"
   ]
  },
  {
   "cell_type": "code",
   "execution_count": 8,
   "metadata": {
    "executionInfo": {
     "elapsed": 1050,
     "status": "ok",
     "timestamp": 1613929796464,
     "user": {
      "displayName": "Snbn subedi",
      "photoUrl": "",
      "userId": "08622599957170027744"
     },
     "user_tz": -345
    },
    "id": "b9fopx6ymSnU"
   },
   "outputs": [],
   "source": [
    "G= nx.from_numpy_matrix(A)\r\n",
    "A= nx.normalized_laplacian_matrix(G).toarray()"
   ]
  },
  {
   "cell_type": "code",
   "execution_count": null,
   "metadata": {
    "id": "kH2YpgeSJ5RG"
   },
   "outputs": [],
   "source": [
    "# X_train=X_train.transpose(0,3,1,2)\n",
    "# X_train=np.einsum('nctv,tvw->nctw', X_train, A_300)\n",
    "# X_train=X_train.transpose(0,3,1,2)"
   ]
  },
  {
   "cell_type": "code",
   "execution_count": 9,
   "metadata": {
    "colab": {
     "base_uri": "https://localhost:8080/"
    },
    "executionInfo": {
     "elapsed": 1320,
     "status": "ok",
     "timestamp": 1613546598107,
     "user": {
      "displayName": "Snbn subedi",
      "photoUrl": "",
      "userId": "08622599957170027744"
     },
     "user_tz": -345
    },
    "id": "S0_Tuu843Kjm",
    "outputId": "e1975fbb-273f-4215-db4e-0b299bd6023d"
   },
   "outputs": [
    {
     "data": {
      "text/plain": [
       "(82,)"
      ]
     },
     "execution_count": 9,
     "metadata": {},
     "output_type": "execute_result"
    }
   ],
   "source": [
    "y_test.shape"
   ]
  },
  {
   "cell_type": "code",
   "execution_count": 10,
   "metadata": {
    "executionInfo": {
     "elapsed": 1241,
     "status": "ok",
     "timestamp": 1613913656172,
     "user": {
      "displayName": "Snbn subedi",
      "photoUrl": "",
      "userId": "08622599957170027744"
     },
     "user_tz": -345
    },
    "id": "50ogv1ltJ5RI"
   },
   "outputs": [],
   "source": [
    "\n",
    "def get_einsum(x,temporal=300):\n",
    "  A_stack = np.stack([A for _ in range(temporal)])\n",
    "  A_stack = tf.convert_to_tensor(A_stack,dtype='float')\n",
    "  x=tf.transpose(x,perm=[0,3,1,2])\n",
    "  x=tf.einsum('nctv,tvw->nctw', x, A_stack)\n",
    "  x=tf.transpose(x,perm=[0,2,3,1])\n",
    "  return x\n",
    "\n",
    "def change_shape(x):\n",
    "  x=tf.transpose(x,perm=[0,1,3,2])\n",
    "  return x"
   ]
  },
  {
   "cell_type": "code",
   "execution_count": 11,
   "metadata": {
    "executionInfo": {
     "elapsed": 6560,
     "status": "ok",
     "timestamp": 1613913664671,
     "user": {
      "displayName": "Snbn subedi",
      "photoUrl": "",
      "userId": "08622599957170027744"
     },
     "user_tz": -345
    },
    "id": "UbOPtrq3J5RI"
   },
   "outputs": [],
   "source": [
    "\n",
    "i=Input(shape=(300,25,2))\n",
    "\n",
    "x=Lambda(get_einsum , arguments={'temporal':300})(i)\n",
    "x=Conv2D(filters=64,kernel_size=(3,3),padding='same')(x)\n",
    "x=LeakyReLU()(x)\n",
    "# x=Activation('relu')(x)\n",
    "x=Dropout(0.5)(x)\n",
    "\n",
    "# x=Einsum(A,64,activation='relu')(x)\n",
    "# x=Lambda(get_einsum , arguments={'temporal':300})(x)\n",
    "# x=Conv2D(filters=32,kernel_size=(5,5),padding='same')(x)\n",
    "# x=Activation('relu')(x)\n",
    "# x=Dropout(0.2)(x)\n",
    "\n",
    "# x=Einsum(A,32,activation='relu')(x)\n",
    "# x=Lambda(get_einsum , arguments={'temporal':300})(x)\n",
    "# x=Conv2D(filters=16,kernel_size=(5,5),padding='same')(x)\n",
    "# x=Activation('relu')(x)\n",
    "# x=Dropout(0.2)(x)\n",
    "\n",
    "\n",
    "x=Lambda(get_einsum , arguments={'temporal':300})(x)\n",
    "x=Conv2D(filters=32,kernel_size=(3,3),padding='same')(x)\n",
    "x=LeakyReLU()(x)\n",
    "# x=Activation('relu')(x)\n",
    "x=Dropout(0.5)(x)\n",
    "\n",
    "x=Lambda(get_einsum , arguments={'temporal':300})(x)\n",
    "x=Conv2D(filters=16,kernel_size=(5,5),padding='same')(x)\n",
    "x=LeakyReLU()(x)\n",
    "x=Dropout(0.2)(x)\n",
    "\n",
    "x=Lambda(change_shape)(x)\n",
    "x=GlobalAveragePooling2D()(x)\n",
    "\n",
    "# x=Flatten()(x)\n",
    "x=Dense(units=10)(x)\n",
    "x=LeakyReLU()(x)\n",
    "# x=Activation('relu')(x)\n",
    "x=Dropout(0.2)(x)\n",
    "x=Dense(units=1)(x)\n",
    "x=Activation('sigmoid')(x)\n",
    "\n",
    "model=Model(inputs=i,outputs=x)"
   ]
  },
  {
   "cell_type": "code",
   "execution_count": null,
   "metadata": {
    "id": "yKdFilDcJ5RJ"
   },
   "outputs": [],
   "source": [
    "# lr_schedule = keras.optimizers.schedules.ExponentialDecay(\n",
    "#     initial_learning_rate=1e-2,\n",
    "#     decay_steps=100000,\n",
    "#     decay_rate=0.9)\n",
    "# optimizer = keras.optimizers.SGD(learning_rate=lr_schedule)\n",
    "\n",
    "opt = keras.optimizers.Adam(learning_rate=0.01)\n",
    "model.compile(loss='binary_crossentropy',optimizer=opt,metrics=['accuracy'])"
   ]
  },
  {
   "cell_type": "code",
   "execution_count": null,
   "metadata": {
    "colab": {
     "base_uri": "https://localhost:8080/"
    },
    "executionInfo": {
     "elapsed": 1222,
     "status": "ok",
     "timestamp": 1613549122695,
     "user": {
      "displayName": "Snbn subedi",
      "photoUrl": "",
      "userId": "08622599957170027744"
     },
     "user_tz": -345
    },
    "id": "uXNIyS92sK7L",
    "outputId": "65982bde-a04a-47ff-fd7d-eb175fd2d415"
   },
   "outputs": [
    {
     "data": {
      "text/plain": [
       "0.00018315602"
      ]
     },
     "execution_count": 67,
     "metadata": {
      "tags": []
     },
     "output_type": "execute_result"
    }
   ],
   "source": [
    "model.optimizer.learning_rate.numpy()"
   ]
  },
  {
   "cell_type": "code",
   "execution_count": null,
   "metadata": {
    "colab": {
     "base_uri": "https://localhost:8080/"
    },
    "executionInfo": {
     "elapsed": 210967,
     "status": "ok",
     "timestamp": 1613549097706,
     "user": {
      "displayName": "Snbn subedi",
      "photoUrl": "",
      "userId": "08622599957170027744"
     },
     "user_tz": -345
    },
    "id": "EehUopkWJ5RJ",
    "outputId": "34617eae-cda5-4c36-9231-b2732f8e495a"
   },
   "outputs": [
    {
     "name": "stdout",
     "output_type": "stream",
     "text": [
      "Epoch 1/400\n",
      "11/11 [==============================] - 1s 54ms/step - loss: 0.3074 - accuracy: 0.8933 - val_loss: 0.3343 - val_accuracy: 0.8293\n",
      "Epoch 2/400\n",
      "11/11 [==============================] - 1s 46ms/step - loss: 0.2936 - accuracy: 0.8689 - val_loss: 0.3482 - val_accuracy: 0.8415\n",
      "Epoch 3/400\n",
      "11/11 [==============================] - 1s 46ms/step - loss: 0.3137 - accuracy: 0.8750 - val_loss: 0.3365 - val_accuracy: 0.8415\n",
      "Epoch 4/400\n",
      "11/11 [==============================] - 1s 47ms/step - loss: 0.2978 - accuracy: 0.8720 - val_loss: 0.3017 - val_accuracy: 0.8537\n",
      "Epoch 5/400\n",
      "11/11 [==============================] - 1s 46ms/step - loss: 0.2511 - accuracy: 0.8902 - val_loss: 0.3592 - val_accuracy: 0.8780\n",
      "Epoch 6/400\n",
      "11/11 [==============================] - 0s 46ms/step - loss: 0.2601 - accuracy: 0.8963 - val_loss: 0.3234 - val_accuracy: 0.8659\n",
      "Epoch 7/400\n",
      "11/11 [==============================] - 1s 46ms/step - loss: 0.2674 - accuracy: 0.8963 - val_loss: 0.3218 - val_accuracy: 0.8659\n",
      "Epoch 8/400\n",
      "11/11 [==============================] - 1s 46ms/step - loss: 0.2790 - accuracy: 0.8872 - val_loss: 0.3336 - val_accuracy: 0.8537\n",
      "Epoch 9/400\n",
      "11/11 [==============================] - 1s 46ms/step - loss: 0.2498 - accuracy: 0.9055 - val_loss: 0.3167 - val_accuracy: 0.8537\n",
      "Epoch 10/400\n",
      "11/11 [==============================] - 1s 46ms/step - loss: 0.2318 - accuracy: 0.9116 - val_loss: 0.3116 - val_accuracy: 0.8293\n",
      "Epoch 11/400\n",
      "11/11 [==============================] - 1s 57ms/step - loss: 0.2851 - accuracy: 0.8841 - val_loss: 0.3176 - val_accuracy: 0.8537\n",
      "Epoch 12/400\n",
      "11/11 [==============================] - 1s 46ms/step - loss: 0.2581 - accuracy: 0.8994 - val_loss: 0.3177 - val_accuracy: 0.8415\n",
      "Epoch 13/400\n",
      "11/11 [==============================] - 1s 47ms/step - loss: 0.2345 - accuracy: 0.9085 - val_loss: 0.3048 - val_accuracy: 0.8537\n",
      "Epoch 14/400\n",
      "11/11 [==============================] - 0s 46ms/step - loss: 0.2532 - accuracy: 0.9146 - val_loss: 0.3025 - val_accuracy: 0.8537\n",
      "Epoch 15/400\n",
      "11/11 [==============================] - 0s 46ms/step - loss: 0.2850 - accuracy: 0.8902 - val_loss: 0.3170 - val_accuracy: 0.8537\n",
      "Epoch 16/400\n",
      "11/11 [==============================] - 1s 46ms/step - loss: 0.3003 - accuracy: 0.8841 - val_loss: 0.3456 - val_accuracy: 0.8537\n",
      "Epoch 17/400\n",
      "11/11 [==============================] - 1s 46ms/step - loss: 0.2649 - accuracy: 0.8933 - val_loss: 0.3330 - val_accuracy: 0.8659\n",
      "Epoch 18/400\n",
      "11/11 [==============================] - 1s 46ms/step - loss: 0.2790 - accuracy: 0.8933 - val_loss: 0.3292 - val_accuracy: 0.8293\n",
      "Epoch 19/400\n",
      "11/11 [==============================] - 1s 46ms/step - loss: 0.2810 - accuracy: 0.9116 - val_loss: 0.3208 - val_accuracy: 0.8537\n",
      "Epoch 20/400\n",
      "11/11 [==============================] - 1s 46ms/step - loss: 0.2725 - accuracy: 0.8811 - val_loss: 0.3099 - val_accuracy: 0.8537\n",
      "Epoch 21/400\n",
      "11/11 [==============================] - 1s 46ms/step - loss: 0.2666 - accuracy: 0.8963 - val_loss: 0.3087 - val_accuracy: 0.8537\n",
      "Epoch 22/400\n",
      "11/11 [==============================] - 1s 46ms/step - loss: 0.2383 - accuracy: 0.9055 - val_loss: 0.3151 - val_accuracy: 0.8537\n",
      "Epoch 23/400\n",
      "11/11 [==============================] - 1s 46ms/step - loss: 0.2732 - accuracy: 0.8902 - val_loss: 0.3081 - val_accuracy: 0.8415\n",
      "Epoch 24/400\n",
      "11/11 [==============================] - 1s 46ms/step - loss: 0.2637 - accuracy: 0.8872 - val_loss: 0.3171 - val_accuracy: 0.8537\n",
      "Epoch 25/400\n",
      "11/11 [==============================] - 1s 46ms/step - loss: 0.2803 - accuracy: 0.8780 - val_loss: 0.3254 - val_accuracy: 0.8659\n",
      "Epoch 26/400\n",
      "11/11 [==============================] - 0s 46ms/step - loss: 0.2849 - accuracy: 0.8780 - val_loss: 0.3377 - val_accuracy: 0.8415\n",
      "Epoch 27/400\n",
      "11/11 [==============================] - 1s 46ms/step - loss: 0.2879 - accuracy: 0.8933 - val_loss: 0.3070 - val_accuracy: 0.8659\n",
      "Epoch 28/400\n",
      "11/11 [==============================] - 1s 46ms/step - loss: 0.3557 - accuracy: 0.8811 - val_loss: 0.4018 - val_accuracy: 0.8415\n",
      "Epoch 29/400\n",
      "11/11 [==============================] - 1s 47ms/step - loss: 0.3151 - accuracy: 0.8659 - val_loss: 0.3268 - val_accuracy: 0.8537\n",
      "Epoch 30/400\n",
      "11/11 [==============================] - 1s 47ms/step - loss: 0.2646 - accuracy: 0.8963 - val_loss: 0.3441 - val_accuracy: 0.8415\n",
      "Epoch 31/400\n",
      "11/11 [==============================] - 1s 47ms/step - loss: 0.2701 - accuracy: 0.8872 - val_loss: 0.3141 - val_accuracy: 0.8415\n",
      "Epoch 32/400\n",
      "11/11 [==============================] - 1s 47ms/step - loss: 0.3096 - accuracy: 0.8720 - val_loss: 0.3335 - val_accuracy: 0.8537\n",
      "Epoch 33/400\n",
      "11/11 [==============================] - 1s 47ms/step - loss: 0.2698 - accuracy: 0.9024 - val_loss: 0.3338 - val_accuracy: 0.8415\n",
      "Epoch 34/400\n",
      "11/11 [==============================] - 1s 47ms/step - loss: 0.2898 - accuracy: 0.8750 - val_loss: 0.3019 - val_accuracy: 0.8537\n",
      "Epoch 35/400\n",
      "11/11 [==============================] - 1s 47ms/step - loss: 0.2492 - accuracy: 0.9055 - val_loss: 0.3043 - val_accuracy: 0.8415\n",
      "Epoch 36/400\n",
      "11/11 [==============================] - 1s 47ms/step - loss: 0.2842 - accuracy: 0.8811 - val_loss: 0.3152 - val_accuracy: 0.8293\n",
      "Epoch 37/400\n",
      "11/11 [==============================] - 1s 46ms/step - loss: 0.2669 - accuracy: 0.8902 - val_loss: 0.3031 - val_accuracy: 0.8537\n",
      "Epoch 38/400\n",
      "11/11 [==============================] - 1s 47ms/step - loss: 0.2438 - accuracy: 0.8933 - val_loss: 0.3096 - val_accuracy: 0.8415\n",
      "Epoch 39/400\n",
      "11/11 [==============================] - 1s 47ms/step - loss: 0.2484 - accuracy: 0.8963 - val_loss: 0.3136 - val_accuracy: 0.8537\n",
      "Epoch 40/400\n",
      "11/11 [==============================] - 1s 46ms/step - loss: 0.2554 - accuracy: 0.9055 - val_loss: 0.3321 - val_accuracy: 0.8293\n",
      "Epoch 41/400\n",
      "11/11 [==============================] - 1s 46ms/step - loss: 0.2857 - accuracy: 0.8902 - val_loss: 0.3111 - val_accuracy: 0.8415\n",
      "Epoch 42/400\n",
      "11/11 [==============================] - 1s 47ms/step - loss: 0.2417 - accuracy: 0.9055 - val_loss: 0.3051 - val_accuracy: 0.8415\n",
      "Epoch 43/400\n",
      "11/11 [==============================] - 1s 47ms/step - loss: 0.2753 - accuracy: 0.8963 - val_loss: 0.3024 - val_accuracy: 0.8537\n",
      "Epoch 44/400\n",
      "11/11 [==============================] - 1s 46ms/step - loss: 0.2897 - accuracy: 0.8994 - val_loss: 0.3268 - val_accuracy: 0.8537\n",
      "Epoch 45/400\n",
      "11/11 [==============================] - 1s 48ms/step - loss: 0.2569 - accuracy: 0.8902 - val_loss: 0.3185 - val_accuracy: 0.8415\n",
      "Epoch 46/400\n",
      "11/11 [==============================] - 1s 47ms/step - loss: 0.2625 - accuracy: 0.9085 - val_loss: 0.3182 - val_accuracy: 0.8659\n",
      "Epoch 47/400\n",
      "11/11 [==============================] - 1s 47ms/step - loss: 0.2692 - accuracy: 0.8933 - val_loss: 0.3251 - val_accuracy: 0.8780\n",
      "Epoch 48/400\n",
      "11/11 [==============================] - 1s 47ms/step - loss: 0.2657 - accuracy: 0.8902 - val_loss: 0.3098 - val_accuracy: 0.8659\n",
      "Epoch 49/400\n",
      "11/11 [==============================] - 1s 47ms/step - loss: 0.2732 - accuracy: 0.8963 - val_loss: 0.3221 - val_accuracy: 0.8659\n",
      "Epoch 50/400\n",
      "11/11 [==============================] - 1s 48ms/step - loss: 0.2436 - accuracy: 0.9116 - val_loss: 0.3123 - val_accuracy: 0.8537\n",
      "Epoch 51/400\n",
      "11/11 [==============================] - 1s 47ms/step - loss: 0.2680 - accuracy: 0.8872 - val_loss: 0.2952 - val_accuracy: 0.8537\n",
      "Epoch 52/400\n",
      "11/11 [==============================] - 1s 47ms/step - loss: 0.2916 - accuracy: 0.8811 - val_loss: 0.3172 - val_accuracy: 0.8537\n",
      "Epoch 53/400\n",
      "11/11 [==============================] - 1s 47ms/step - loss: 0.2681 - accuracy: 0.8872 - val_loss: 0.3312 - val_accuracy: 0.8537\n",
      "Epoch 54/400\n",
      "11/11 [==============================] - 1s 58ms/step - loss: 0.2777 - accuracy: 0.8780 - val_loss: 0.2967 - val_accuracy: 0.8659\n",
      "Epoch 55/400\n",
      "11/11 [==============================] - 1s 46ms/step - loss: 0.2708 - accuracy: 0.8902 - val_loss: 0.2930 - val_accuracy: 0.8659\n",
      "Epoch 56/400\n",
      "11/11 [==============================] - 1s 47ms/step - loss: 0.2701 - accuracy: 0.8963 - val_loss: 0.3884 - val_accuracy: 0.8415\n",
      "Epoch 57/400\n",
      "11/11 [==============================] - 1s 47ms/step - loss: 0.2877 - accuracy: 0.8780 - val_loss: 0.2940 - val_accuracy: 0.8780\n",
      "Epoch 58/400\n",
      "11/11 [==============================] - 1s 47ms/step - loss: 0.2737 - accuracy: 0.9085 - val_loss: 0.2886 - val_accuracy: 0.8537\n",
      "Epoch 59/400\n",
      "11/11 [==============================] - 1s 46ms/step - loss: 0.2684 - accuracy: 0.8963 - val_loss: 0.3286 - val_accuracy: 0.8659\n",
      "Epoch 60/400\n",
      "11/11 [==============================] - 1s 47ms/step - loss: 0.2833 - accuracy: 0.8780 - val_loss: 0.2961 - val_accuracy: 0.8537\n",
      "Epoch 61/400\n",
      "11/11 [==============================] - 1s 47ms/step - loss: 0.2838 - accuracy: 0.8963 - val_loss: 0.2956 - val_accuracy: 0.8537\n",
      "Epoch 62/400\n",
      "11/11 [==============================] - 1s 47ms/step - loss: 0.2873 - accuracy: 0.8933 - val_loss: 0.3041 - val_accuracy: 0.8537\n",
      "Epoch 63/400\n",
      "11/11 [==============================] - 1s 47ms/step - loss: 0.2730 - accuracy: 0.8780 - val_loss: 0.2884 - val_accuracy: 0.8659\n",
      "Epoch 64/400\n",
      "11/11 [==============================] - 1s 47ms/step - loss: 0.2656 - accuracy: 0.8994 - val_loss: 0.3042 - val_accuracy: 0.8537\n",
      "Epoch 65/400\n",
      "11/11 [==============================] - 1s 47ms/step - loss: 0.2444 - accuracy: 0.8994 - val_loss: 0.3037 - val_accuracy: 0.8780\n",
      "Epoch 66/400\n",
      "11/11 [==============================] - 1s 47ms/step - loss: 0.2595 - accuracy: 0.9085 - val_loss: 0.2875 - val_accuracy: 0.8659\n",
      "Epoch 67/400\n",
      "11/11 [==============================] - 1s 47ms/step - loss: 0.2686 - accuracy: 0.8933 - val_loss: 0.2994 - val_accuracy: 0.8780\n",
      "Epoch 68/400\n",
      "11/11 [==============================] - 1s 47ms/step - loss: 0.2394 - accuracy: 0.9116 - val_loss: 0.2943 - val_accuracy: 0.8659\n",
      "Epoch 69/400\n",
      "11/11 [==============================] - 1s 47ms/step - loss: 0.2482 - accuracy: 0.9024 - val_loss: 0.2952 - val_accuracy: 0.8415\n",
      "Epoch 70/400\n",
      "11/11 [==============================] - 1s 48ms/step - loss: 0.2831 - accuracy: 0.8689 - val_loss: 0.3602 - val_accuracy: 0.8415\n",
      "Epoch 71/400\n",
      "11/11 [==============================] - 1s 47ms/step - loss: 0.2683 - accuracy: 0.8994 - val_loss: 0.3018 - val_accuracy: 0.8537\n",
      "Epoch 72/400\n",
      "11/11 [==============================] - 1s 48ms/step - loss: 0.2819 - accuracy: 0.8963 - val_loss: 0.3073 - val_accuracy: 0.8537\n",
      "Epoch 73/400\n",
      "11/11 [==============================] - 1s 47ms/step - loss: 0.2785 - accuracy: 0.8902 - val_loss: 0.3025 - val_accuracy: 0.8659\n",
      "Epoch 74/400\n",
      "11/11 [==============================] - 1s 48ms/step - loss: 0.2640 - accuracy: 0.8933 - val_loss: 0.3045 - val_accuracy: 0.8902\n",
      "Epoch 75/400\n",
      "11/11 [==============================] - 1s 47ms/step - loss: 0.2331 - accuracy: 0.8902 - val_loss: 0.3204 - val_accuracy: 0.8537\n",
      "Epoch 76/400\n",
      "11/11 [==============================] - 1s 48ms/step - loss: 0.2595 - accuracy: 0.9116 - val_loss: 0.3002 - val_accuracy: 0.8537\n",
      "Epoch 77/400\n",
      "11/11 [==============================] - 1s 47ms/step - loss: 0.2568 - accuracy: 0.9024 - val_loss: 0.2985 - val_accuracy: 0.8537\n",
      "Epoch 78/400\n",
      "11/11 [==============================] - 1s 48ms/step - loss: 0.2956 - accuracy: 0.8659 - val_loss: 0.3205 - val_accuracy: 0.8415\n",
      "Epoch 79/400\n",
      "11/11 [==============================] - 1s 48ms/step - loss: 0.2647 - accuracy: 0.8963 - val_loss: 0.2973 - val_accuracy: 0.8537\n",
      "Epoch 80/400\n",
      "11/11 [==============================] - 1s 47ms/step - loss: 0.2603 - accuracy: 0.9055 - val_loss: 0.2980 - val_accuracy: 0.8659\n",
      "Epoch 81/400\n",
      "11/11 [==============================] - 1s 48ms/step - loss: 0.2539 - accuracy: 0.8902 - val_loss: 0.3109 - val_accuracy: 0.8659\n",
      "Epoch 82/400\n",
      "11/11 [==============================] - 1s 48ms/step - loss: 0.2601 - accuracy: 0.8963 - val_loss: 0.3017 - val_accuracy: 0.8659\n",
      "Epoch 83/400\n",
      "11/11 [==============================] - 1s 48ms/step - loss: 0.2527 - accuracy: 0.9024 - val_loss: 0.2967 - val_accuracy: 0.8537\n",
      "Epoch 84/400\n",
      "11/11 [==============================] - 1s 47ms/step - loss: 0.2883 - accuracy: 0.8994 - val_loss: 0.3098 - val_accuracy: 0.8537\n",
      "Epoch 85/400\n",
      "11/11 [==============================] - 1s 48ms/step - loss: 0.2374 - accuracy: 0.9116 - val_loss: 0.3009 - val_accuracy: 0.8537\n",
      "Epoch 86/400\n",
      "11/11 [==============================] - 1s 47ms/step - loss: 0.2475 - accuracy: 0.9146 - val_loss: 0.2936 - val_accuracy: 0.8537\n",
      "Epoch 87/400\n",
      "11/11 [==============================] - 1s 48ms/step - loss: 0.2446 - accuracy: 0.9085 - val_loss: 0.2885 - val_accuracy: 0.8659\n",
      "Epoch 88/400\n",
      "11/11 [==============================] - 1s 47ms/step - loss: 0.2710 - accuracy: 0.8933 - val_loss: 0.3205 - val_accuracy: 0.8415\n",
      "Epoch 89/400\n",
      "11/11 [==============================] - 1s 48ms/step - loss: 0.2775 - accuracy: 0.8689 - val_loss: 0.3062 - val_accuracy: 0.8415\n",
      "Epoch 90/400\n",
      "11/11 [==============================] - 1s 47ms/step - loss: 0.2734 - accuracy: 0.9024 - val_loss: 0.2880 - val_accuracy: 0.8537\n",
      "Epoch 91/400\n",
      "11/11 [==============================] - 1s 48ms/step - loss: 0.2724 - accuracy: 0.8933 - val_loss: 0.2935 - val_accuracy: 0.8659\n",
      "Epoch 92/400\n",
      "11/11 [==============================] - 1s 48ms/step - loss: 0.2730 - accuracy: 0.8659 - val_loss: 0.2905 - val_accuracy: 0.8780\n",
      "Epoch 93/400\n",
      "11/11 [==============================] - 1s 48ms/step - loss: 0.2569 - accuracy: 0.8994 - val_loss: 0.2985 - val_accuracy: 0.8415\n",
      "Epoch 94/400\n",
      "11/11 [==============================] - 1s 48ms/step - loss: 0.2453 - accuracy: 0.9024 - val_loss: 0.2953 - val_accuracy: 0.8537\n",
      "Epoch 95/400\n",
      "11/11 [==============================] - 1s 48ms/step - loss: 0.2630 - accuracy: 0.9024 - val_loss: 0.3107 - val_accuracy: 0.8537\n",
      "Epoch 96/400\n",
      "11/11 [==============================] - 1s 48ms/step - loss: 0.2886 - accuracy: 0.8811 - val_loss: 0.3066 - val_accuracy: 0.8537\n",
      "Epoch 97/400\n",
      "11/11 [==============================] - 1s 58ms/step - loss: 0.2540 - accuracy: 0.8933 - val_loss: 0.2897 - val_accuracy: 0.8537\n",
      "Epoch 98/400\n",
      "11/11 [==============================] - 1s 47ms/step - loss: 0.2598 - accuracy: 0.8933 - val_loss: 0.3058 - val_accuracy: 0.8537\n",
      "Epoch 99/400\n",
      "11/11 [==============================] - 1s 48ms/step - loss: 0.2726 - accuracy: 0.8841 - val_loss: 0.3064 - val_accuracy: 0.8537\n",
      "Epoch 100/400\n",
      "11/11 [==============================] - 1s 47ms/step - loss: 0.2495 - accuracy: 0.8963 - val_loss: 0.2998 - val_accuracy: 0.8537\n",
      "Epoch 101/400\n",
      "11/11 [==============================] - 1s 47ms/step - loss: 0.2805 - accuracy: 0.8902 - val_loss: 0.2980 - val_accuracy: 0.8537\n",
      "Epoch 102/400\n",
      "11/11 [==============================] - 1s 48ms/step - loss: 0.2434 - accuracy: 0.9085 - val_loss: 0.3072 - val_accuracy: 0.8415\n",
      "Epoch 103/400\n",
      "11/11 [==============================] - 1s 48ms/step - loss: 0.2568 - accuracy: 0.8902 - val_loss: 0.2953 - val_accuracy: 0.8537\n",
      "Epoch 104/400\n",
      "11/11 [==============================] - 1s 48ms/step - loss: 0.2801 - accuracy: 0.9055 - val_loss: 0.3135 - val_accuracy: 0.8415\n",
      "Epoch 105/400\n",
      "11/11 [==============================] - 1s 48ms/step - loss: 0.2544 - accuracy: 0.9146 - val_loss: 0.3081 - val_accuracy: 0.8049\n",
      "Epoch 106/400\n",
      "11/11 [==============================] - 1s 48ms/step - loss: 0.3276 - accuracy: 0.8689 - val_loss: 0.2843 - val_accuracy: 0.8537\n",
      "Epoch 107/400\n",
      "11/11 [==============================] - 1s 48ms/step - loss: 0.2674 - accuracy: 0.8902 - val_loss: 0.3549 - val_accuracy: 0.8415\n",
      "Epoch 108/400\n",
      "11/11 [==============================] - 1s 48ms/step - loss: 0.2820 - accuracy: 0.8963 - val_loss: 0.2967 - val_accuracy: 0.8537\n",
      "Epoch 109/400\n",
      "11/11 [==============================] - 1s 48ms/step - loss: 0.2910 - accuracy: 0.8994 - val_loss: 0.2928 - val_accuracy: 0.8659\n",
      "Epoch 110/400\n",
      "11/11 [==============================] - 1s 48ms/step - loss: 0.2520 - accuracy: 0.8994 - val_loss: 0.2977 - val_accuracy: 0.8415\n",
      "Epoch 111/400\n",
      "11/11 [==============================] - 1s 48ms/step - loss: 0.2620 - accuracy: 0.8994 - val_loss: 0.3075 - val_accuracy: 0.8659\n",
      "Epoch 112/400\n",
      "11/11 [==============================] - 1s 48ms/step - loss: 0.2606 - accuracy: 0.9055 - val_loss: 0.2899 - val_accuracy: 0.8537\n",
      "Epoch 113/400\n",
      "11/11 [==============================] - 1s 48ms/step - loss: 0.2711 - accuracy: 0.8933 - val_loss: 0.3185 - val_accuracy: 0.8415\n",
      "Epoch 114/400\n",
      "11/11 [==============================] - 1s 49ms/step - loss: 0.2726 - accuracy: 0.8902 - val_loss: 0.3116 - val_accuracy: 0.8415\n",
      "Epoch 115/400\n",
      "11/11 [==============================] - 1s 47ms/step - loss: 0.2658 - accuracy: 0.8780 - val_loss: 0.2955 - val_accuracy: 0.8537\n",
      "Epoch 116/400\n",
      "11/11 [==============================] - 1s 48ms/step - loss: 0.2692 - accuracy: 0.8872 - val_loss: 0.2959 - val_accuracy: 0.8537\n",
      "Epoch 117/400\n",
      "11/11 [==============================] - 1s 48ms/step - loss: 0.2195 - accuracy: 0.9360 - val_loss: 0.3026 - val_accuracy: 0.8537\n",
      "Epoch 118/400\n",
      "11/11 [==============================] - 1s 48ms/step - loss: 0.2373 - accuracy: 0.9116 - val_loss: 0.3034 - val_accuracy: 0.8537\n",
      "Epoch 119/400\n",
      "11/11 [==============================] - 1s 48ms/step - loss: 0.2666 - accuracy: 0.8933 - val_loss: 0.3031 - val_accuracy: 0.8415\n",
      "Epoch 120/400\n",
      "11/11 [==============================] - 1s 48ms/step - loss: 0.2635 - accuracy: 0.8963 - val_loss: 0.3268 - val_accuracy: 0.8537\n",
      "Epoch 121/400\n",
      "11/11 [==============================] - 1s 47ms/step - loss: 0.2429 - accuracy: 0.9085 - val_loss: 0.2944 - val_accuracy: 0.8659\n",
      "Epoch 122/400\n",
      "11/11 [==============================] - 1s 48ms/step - loss: 0.2500 - accuracy: 0.9146 - val_loss: 0.2938 - val_accuracy: 0.8537\n",
      "Epoch 123/400\n",
      "11/11 [==============================] - 1s 48ms/step - loss: 0.2539 - accuracy: 0.8994 - val_loss: 0.2940 - val_accuracy: 0.8659\n",
      "Epoch 124/400\n",
      "11/11 [==============================] - 1s 47ms/step - loss: 0.2628 - accuracy: 0.8841 - val_loss: 0.3074 - val_accuracy: 0.8415\n",
      "Epoch 125/400\n",
      "11/11 [==============================] - 1s 48ms/step - loss: 0.2303 - accuracy: 0.9146 - val_loss: 0.2910 - val_accuracy: 0.8537\n",
      "Epoch 126/400\n",
      "11/11 [==============================] - 1s 48ms/step - loss: 0.2562 - accuracy: 0.8933 - val_loss: 0.3004 - val_accuracy: 0.8537\n",
      "Epoch 127/400\n",
      "11/11 [==============================] - 1s 47ms/step - loss: 0.2439 - accuracy: 0.9146 - val_loss: 0.3046 - val_accuracy: 0.8537\n",
      "Epoch 128/400\n",
      "11/11 [==============================] - 1s 48ms/step - loss: 0.2653 - accuracy: 0.8963 - val_loss: 0.3014 - val_accuracy: 0.8659\n",
      "Epoch 129/400\n",
      "11/11 [==============================] - 1s 47ms/step - loss: 0.2521 - accuracy: 0.8963 - val_loss: 0.3244 - val_accuracy: 0.8537\n",
      "Epoch 130/400\n",
      "11/11 [==============================] - 1s 48ms/step - loss: 0.2538 - accuracy: 0.9024 - val_loss: 0.3015 - val_accuracy: 0.8537\n",
      "Epoch 131/400\n",
      "11/11 [==============================] - 1s 48ms/step - loss: 0.2709 - accuracy: 0.8963 - val_loss: 0.2844 - val_accuracy: 0.8659\n",
      "Epoch 132/400\n",
      "11/11 [==============================] - 1s 48ms/step - loss: 0.2605 - accuracy: 0.8933 - val_loss: 0.2880 - val_accuracy: 0.8659\n",
      "Epoch 133/400\n",
      "11/11 [==============================] - 1s 47ms/step - loss: 0.2580 - accuracy: 0.8994 - val_loss: 0.2976 - val_accuracy: 0.8537\n",
      "Epoch 134/400\n",
      "11/11 [==============================] - 1s 48ms/step - loss: 0.2919 - accuracy: 0.8780 - val_loss: 0.2976 - val_accuracy: 0.8659\n",
      "Epoch 135/400\n",
      "11/11 [==============================] - 1s 48ms/step - loss: 0.2706 - accuracy: 0.8689 - val_loss: 0.2934 - val_accuracy: 0.8537\n",
      "Epoch 136/400\n",
      "11/11 [==============================] - 1s 48ms/step - loss: 0.2651 - accuracy: 0.8963 - val_loss: 0.3084 - val_accuracy: 0.8415\n",
      "Epoch 137/400\n",
      "11/11 [==============================] - 1s 48ms/step - loss: 0.2361 - accuracy: 0.9177 - val_loss: 0.2985 - val_accuracy: 0.8537\n",
      "Epoch 138/400\n",
      "11/11 [==============================] - 1s 48ms/step - loss: 0.2491 - accuracy: 0.9177 - val_loss: 0.3002 - val_accuracy: 0.8537\n",
      "Epoch 139/400\n",
      "11/11 [==============================] - 1s 48ms/step - loss: 0.2359 - accuracy: 0.9024 - val_loss: 0.3093 - val_accuracy: 0.8537\n",
      "Epoch 140/400\n",
      "11/11 [==============================] - 1s 58ms/step - loss: 0.2608 - accuracy: 0.9085 - val_loss: 0.3032 - val_accuracy: 0.8537\n",
      "Epoch 141/400\n",
      "11/11 [==============================] - 1s 48ms/step - loss: 0.2711 - accuracy: 0.8902 - val_loss: 0.2940 - val_accuracy: 0.8415\n",
      "Epoch 142/400\n",
      "11/11 [==============================] - 1s 47ms/step - loss: 0.2523 - accuracy: 0.8963 - val_loss: 0.2893 - val_accuracy: 0.8537\n",
      "Epoch 143/400\n",
      "11/11 [==============================] - 1s 47ms/step - loss: 0.2748 - accuracy: 0.8933 - val_loss: 0.3022 - val_accuracy: 0.8537\n",
      "Epoch 144/400\n",
      "11/11 [==============================] - 1s 47ms/step - loss: 0.2775 - accuracy: 0.8963 - val_loss: 0.3263 - val_accuracy: 0.8537\n",
      "Epoch 145/400\n",
      "11/11 [==============================] - 1s 48ms/step - loss: 0.2513 - accuracy: 0.8963 - val_loss: 0.2951 - val_accuracy: 0.8659\n",
      "Epoch 146/400\n",
      "11/11 [==============================] - 1s 48ms/step - loss: 0.2759 - accuracy: 0.9085 - val_loss: 0.3195 - val_accuracy: 0.8415\n",
      "Epoch 147/400\n",
      "11/11 [==============================] - 1s 47ms/step - loss: 0.2512 - accuracy: 0.8963 - val_loss: 0.2958 - val_accuracy: 0.8415\n",
      "Epoch 148/400\n",
      "11/11 [==============================] - 1s 48ms/step - loss: 0.2499 - accuracy: 0.9055 - val_loss: 0.2818 - val_accuracy: 0.8659\n",
      "Epoch 149/400\n",
      "11/11 [==============================] - 1s 47ms/step - loss: 0.2686 - accuracy: 0.8902 - val_loss: 0.2913 - val_accuracy: 0.8537\n",
      "Epoch 150/400\n",
      "11/11 [==============================] - 1s 47ms/step - loss: 0.2803 - accuracy: 0.9085 - val_loss: 0.2991 - val_accuracy: 0.8537\n",
      "Epoch 151/400\n",
      "11/11 [==============================] - 1s 48ms/step - loss: 0.2635 - accuracy: 0.8963 - val_loss: 0.2859 - val_accuracy: 0.8659\n",
      "Epoch 152/400\n",
      "11/11 [==============================] - 1s 47ms/step - loss: 0.2403 - accuracy: 0.9116 - val_loss: 0.2918 - val_accuracy: 0.8659\n",
      "Epoch 153/400\n",
      "11/11 [==============================] - 1s 48ms/step - loss: 0.2802 - accuracy: 0.8933 - val_loss: 0.2823 - val_accuracy: 0.8780\n",
      "Epoch 154/400\n",
      "11/11 [==============================] - 1s 48ms/step - loss: 0.2569 - accuracy: 0.8933 - val_loss: 0.2959 - val_accuracy: 0.8780\n",
      "Epoch 155/400\n",
      "11/11 [==============================] - 1s 48ms/step - loss: 0.2556 - accuracy: 0.8902 - val_loss: 0.2890 - val_accuracy: 0.8537\n",
      "Epoch 156/400\n",
      "11/11 [==============================] - 1s 47ms/step - loss: 0.2519 - accuracy: 0.9146 - val_loss: 0.2827 - val_accuracy: 0.8537\n",
      "Epoch 157/400\n",
      "11/11 [==============================] - 1s 49ms/step - loss: 0.2437 - accuracy: 0.9177 - val_loss: 0.2727 - val_accuracy: 0.8659\n",
      "Epoch 158/400\n",
      "11/11 [==============================] - 1s 48ms/step - loss: 0.2471 - accuracy: 0.9177 - val_loss: 0.2858 - val_accuracy: 0.8902\n",
      "Epoch 159/400\n",
      "11/11 [==============================] - 1s 47ms/step - loss: 0.2920 - accuracy: 0.8841 - val_loss: 0.2777 - val_accuracy: 0.8780\n",
      "Epoch 160/400\n",
      "11/11 [==============================] - 1s 48ms/step - loss: 0.2770 - accuracy: 0.8994 - val_loss: 0.2708 - val_accuracy: 0.8537\n",
      "Epoch 161/400\n",
      "11/11 [==============================] - 1s 48ms/step - loss: 0.2590 - accuracy: 0.8994 - val_loss: 0.2793 - val_accuracy: 0.8537\n",
      "Epoch 162/400\n",
      "11/11 [==============================] - 1s 48ms/step - loss: 0.2185 - accuracy: 0.9177 - val_loss: 0.2831 - val_accuracy: 0.8537\n",
      "Epoch 163/400\n",
      "11/11 [==============================] - 1s 48ms/step - loss: 0.2520 - accuracy: 0.9055 - val_loss: 0.2805 - val_accuracy: 0.8537\n",
      "Epoch 164/400\n",
      "11/11 [==============================] - 1s 47ms/step - loss: 0.2491 - accuracy: 0.9055 - val_loss: 0.2889 - val_accuracy: 0.8537\n",
      "Epoch 165/400\n",
      "11/11 [==============================] - 1s 47ms/step - loss: 0.2515 - accuracy: 0.8841 - val_loss: 0.2812 - val_accuracy: 0.8537\n",
      "Epoch 166/400\n",
      "11/11 [==============================] - 1s 48ms/step - loss: 0.2342 - accuracy: 0.9055 - val_loss: 0.2913 - val_accuracy: 0.8780\n",
      "Epoch 167/400\n",
      "11/11 [==============================] - 1s 47ms/step - loss: 0.2143 - accuracy: 0.9238 - val_loss: 0.3075 - val_accuracy: 0.8537\n",
      "Epoch 168/400\n",
      "11/11 [==============================] - 1s 48ms/step - loss: 0.2508 - accuracy: 0.9085 - val_loss: 0.2889 - val_accuracy: 0.8537\n",
      "Epoch 169/400\n",
      "11/11 [==============================] - 1s 48ms/step - loss: 0.2328 - accuracy: 0.9085 - val_loss: 0.2917 - val_accuracy: 0.8537\n",
      "Epoch 170/400\n",
      "11/11 [==============================] - 1s 47ms/step - loss: 0.2555 - accuracy: 0.9116 - val_loss: 0.2861 - val_accuracy: 0.8537\n",
      "Epoch 171/400\n",
      "11/11 [==============================] - 1s 48ms/step - loss: 0.2303 - accuracy: 0.9146 - val_loss: 0.2909 - val_accuracy: 0.8537\n",
      "Epoch 172/400\n",
      "11/11 [==============================] - 1s 48ms/step - loss: 0.2725 - accuracy: 0.8841 - val_loss: 0.2817 - val_accuracy: 0.8537\n",
      "Epoch 173/400\n",
      "11/11 [==============================] - 1s 48ms/step - loss: 0.2474 - accuracy: 0.9085 - val_loss: 0.2869 - val_accuracy: 0.8537\n",
      "Epoch 174/400\n",
      "11/11 [==============================] - 1s 47ms/step - loss: 0.2555 - accuracy: 0.9055 - val_loss: 0.2998 - val_accuracy: 0.8537\n",
      "Epoch 175/400\n",
      "11/11 [==============================] - 1s 48ms/step - loss: 0.2469 - accuracy: 0.9055 - val_loss: 0.2879 - val_accuracy: 0.8659\n",
      "Epoch 176/400\n",
      "11/11 [==============================] - 1s 48ms/step - loss: 0.2641 - accuracy: 0.8872 - val_loss: 0.2801 - val_accuracy: 0.8659\n",
      "Epoch 177/400\n",
      "11/11 [==============================] - 1s 47ms/step - loss: 0.2523 - accuracy: 0.9085 - val_loss: 0.2748 - val_accuracy: 0.8537\n",
      "Epoch 178/400\n",
      "11/11 [==============================] - 1s 47ms/step - loss: 0.2238 - accuracy: 0.9024 - val_loss: 0.2751 - val_accuracy: 0.8537\n",
      "Epoch 179/400\n",
      "11/11 [==============================] - 1s 47ms/step - loss: 0.2467 - accuracy: 0.9116 - val_loss: 0.2719 - val_accuracy: 0.8537\n",
      "Epoch 180/400\n",
      "11/11 [==============================] - 1s 47ms/step - loss: 0.2190 - accuracy: 0.9177 - val_loss: 0.2763 - val_accuracy: 0.8537\n",
      "Epoch 181/400\n",
      "11/11 [==============================] - 1s 48ms/step - loss: 0.2719 - accuracy: 0.8811 - val_loss: 0.2833 - val_accuracy: 0.8659\n",
      "Epoch 182/400\n",
      "11/11 [==============================] - 1s 48ms/step - loss: 0.3208 - accuracy: 0.8780 - val_loss: 0.3403 - val_accuracy: 0.8415\n",
      "Epoch 183/400\n",
      "11/11 [==============================] - 1s 57ms/step - loss: 0.3106 - accuracy: 0.8841 - val_loss: 0.2846 - val_accuracy: 0.8415\n",
      "Epoch 184/400\n",
      "11/11 [==============================] - 1s 47ms/step - loss: 0.2692 - accuracy: 0.8902 - val_loss: 0.2891 - val_accuracy: 0.8537\n",
      "Epoch 185/400\n",
      "11/11 [==============================] - 1s 48ms/step - loss: 0.2652 - accuracy: 0.8902 - val_loss: 0.3371 - val_accuracy: 0.8415\n",
      "Epoch 186/400\n",
      "11/11 [==============================] - 1s 47ms/step - loss: 0.2587 - accuracy: 0.8994 - val_loss: 0.3034 - val_accuracy: 0.8415\n",
      "Epoch 187/400\n",
      "11/11 [==============================] - 1s 48ms/step - loss: 0.2299 - accuracy: 0.8994 - val_loss: 0.2832 - val_accuracy: 0.8537\n",
      "Epoch 188/400\n",
      "11/11 [==============================] - 1s 47ms/step - loss: 0.2389 - accuracy: 0.8994 - val_loss: 0.2832 - val_accuracy: 0.8780\n",
      "Epoch 189/400\n",
      "11/11 [==============================] - 1s 48ms/step - loss: 0.2670 - accuracy: 0.8933 - val_loss: 0.2679 - val_accuracy: 0.8537\n",
      "Epoch 190/400\n",
      "11/11 [==============================] - 1s 47ms/step - loss: 0.2579 - accuracy: 0.8994 - val_loss: 0.2712 - val_accuracy: 0.8537\n",
      "Epoch 191/400\n",
      "11/11 [==============================] - 1s 47ms/step - loss: 0.2504 - accuracy: 0.9024 - val_loss: 0.2802 - val_accuracy: 0.8537\n",
      "Epoch 192/400\n",
      "11/11 [==============================] - 1s 47ms/step - loss: 0.2255 - accuracy: 0.9116 - val_loss: 0.2936 - val_accuracy: 0.8659\n",
      "Epoch 193/400\n",
      "11/11 [==============================] - 1s 47ms/step - loss: 0.2554 - accuracy: 0.8963 - val_loss: 0.2830 - val_accuracy: 0.8415\n",
      "Epoch 194/400\n",
      "11/11 [==============================] - 1s 47ms/step - loss: 0.2782 - accuracy: 0.8902 - val_loss: 0.3172 - val_accuracy: 0.8780\n",
      "Epoch 195/400\n",
      "11/11 [==============================] - 1s 48ms/step - loss: 0.2832 - accuracy: 0.8872 - val_loss: 0.3000 - val_accuracy: 0.8537\n",
      "Epoch 196/400\n",
      "11/11 [==============================] - 1s 47ms/step - loss: 0.2972 - accuracy: 0.8872 - val_loss: 0.3144 - val_accuracy: 0.8537\n",
      "Epoch 197/400\n",
      "11/11 [==============================] - 1s 47ms/step - loss: 0.2516 - accuracy: 0.8994 - val_loss: 0.2712 - val_accuracy: 0.8780\n",
      "Epoch 198/400\n",
      "11/11 [==============================] - 1s 47ms/step - loss: 0.2769 - accuracy: 0.8994 - val_loss: 0.2751 - val_accuracy: 0.8780\n",
      "Epoch 199/400\n",
      "11/11 [==============================] - 1s 48ms/step - loss: 0.2268 - accuracy: 0.8994 - val_loss: 0.2783 - val_accuracy: 0.8780\n",
      "Epoch 200/400\n",
      "11/11 [==============================] - 1s 47ms/step - loss: 0.2541 - accuracy: 0.9024 - val_loss: 0.2896 - val_accuracy: 0.8537\n",
      "Epoch 201/400\n",
      "11/11 [==============================] - 1s 47ms/step - loss: 0.2260 - accuracy: 0.9177 - val_loss: 0.2718 - val_accuracy: 0.8780\n",
      "Epoch 202/400\n",
      "11/11 [==============================] - 1s 47ms/step - loss: 0.2750 - accuracy: 0.8994 - val_loss: 0.2674 - val_accuracy: 0.8780\n",
      "Epoch 203/400\n",
      "11/11 [==============================] - 1s 47ms/step - loss: 0.2316 - accuracy: 0.9085 - val_loss: 0.2732 - val_accuracy: 0.8537\n",
      "Epoch 204/400\n",
      "11/11 [==============================] - 1s 47ms/step - loss: 0.2537 - accuracy: 0.8933 - val_loss: 0.2748 - val_accuracy: 0.8537\n",
      "Epoch 205/400\n",
      "11/11 [==============================] - 1s 48ms/step - loss: 0.2820 - accuracy: 0.8902 - val_loss: 0.2664 - val_accuracy: 0.8659\n",
      "Epoch 206/400\n",
      "11/11 [==============================] - 1s 48ms/step - loss: 0.2478 - accuracy: 0.9085 - val_loss: 0.2865 - val_accuracy: 0.8659\n",
      "Epoch 207/400\n",
      "11/11 [==============================] - 1s 47ms/step - loss: 0.2555 - accuracy: 0.9085 - val_loss: 0.2765 - val_accuracy: 0.8659\n",
      "Epoch 208/400\n",
      "11/11 [==============================] - 1s 47ms/step - loss: 0.2410 - accuracy: 0.8963 - val_loss: 0.2752 - val_accuracy: 0.8659\n",
      "Epoch 209/400\n",
      "11/11 [==============================] - 1s 47ms/step - loss: 0.2388 - accuracy: 0.9177 - val_loss: 0.2782 - val_accuracy: 0.8659\n",
      "Epoch 210/400\n",
      "11/11 [==============================] - 1s 48ms/step - loss: 0.2431 - accuracy: 0.8933 - val_loss: 0.2937 - val_accuracy: 0.8659\n",
      "Epoch 211/400\n",
      "11/11 [==============================] - 1s 48ms/step - loss: 0.2575 - accuracy: 0.8994 - val_loss: 0.2750 - val_accuracy: 0.8659\n",
      "Epoch 212/400\n",
      "11/11 [==============================] - 1s 48ms/step - loss: 0.2348 - accuracy: 0.9116 - val_loss: 0.2720 - val_accuracy: 0.8537\n",
      "Epoch 213/400\n",
      "11/11 [==============================] - 1s 47ms/step - loss: 0.2519 - accuracy: 0.8994 - val_loss: 0.2676 - val_accuracy: 0.8537\n",
      "Epoch 214/400\n",
      "11/11 [==============================] - 1s 47ms/step - loss: 0.2215 - accuracy: 0.9146 - val_loss: 0.2665 - val_accuracy: 0.8780\n",
      "Epoch 215/400\n",
      "11/11 [==============================] - 1s 47ms/step - loss: 0.2532 - accuracy: 0.8994 - val_loss: 0.2905 - val_accuracy: 0.8537\n",
      "Epoch 216/400\n",
      "11/11 [==============================] - 1s 48ms/step - loss: 0.2457 - accuracy: 0.9085 - val_loss: 0.2783 - val_accuracy: 0.8659\n",
      "Epoch 217/400\n",
      "11/11 [==============================] - 1s 47ms/step - loss: 0.2580 - accuracy: 0.8933 - val_loss: 0.2708 - val_accuracy: 0.8659\n",
      "Epoch 218/400\n",
      "11/11 [==============================] - 1s 47ms/step - loss: 0.2393 - accuracy: 0.9207 - val_loss: 0.2854 - val_accuracy: 0.8415\n",
      "Epoch 219/400\n",
      "11/11 [==============================] - 1s 47ms/step - loss: 0.2400 - accuracy: 0.9146 - val_loss: 0.2860 - val_accuracy: 0.8537\n",
      "Epoch 220/400\n",
      "11/11 [==============================] - 1s 48ms/step - loss: 0.2347 - accuracy: 0.9146 - val_loss: 0.2774 - val_accuracy: 0.8537\n",
      "Epoch 221/400\n",
      "11/11 [==============================] - 1s 48ms/step - loss: 0.2543 - accuracy: 0.8933 - val_loss: 0.2812 - val_accuracy: 0.8537\n",
      "Epoch 222/400\n",
      "11/11 [==============================] - 1s 48ms/step - loss: 0.2217 - accuracy: 0.9207 - val_loss: 0.2684 - val_accuracy: 0.8659\n",
      "Epoch 223/400\n",
      "11/11 [==============================] - 1s 47ms/step - loss: 0.2127 - accuracy: 0.9268 - val_loss: 0.2793 - val_accuracy: 0.8780\n",
      "Epoch 224/400\n",
      "11/11 [==============================] - 1s 48ms/step - loss: 0.2446 - accuracy: 0.9268 - val_loss: 0.2703 - val_accuracy: 0.8659\n",
      "Epoch 225/400\n",
      "11/11 [==============================] - 1s 47ms/step - loss: 0.2390 - accuracy: 0.9085 - val_loss: 0.2788 - val_accuracy: 0.8537\n",
      "Epoch 226/400\n",
      "11/11 [==============================] - 1s 58ms/step - loss: 0.2085 - accuracy: 0.9116 - val_loss: 0.2836 - val_accuracy: 0.8659\n",
      "Epoch 227/400\n",
      "11/11 [==============================] - 1s 47ms/step - loss: 0.2258 - accuracy: 0.9268 - val_loss: 0.2940 - val_accuracy: 0.8659\n",
      "Epoch 228/400\n",
      "11/11 [==============================] - 1s 48ms/step - loss: 0.2538 - accuracy: 0.9207 - val_loss: 0.2797 - val_accuracy: 0.8659\n",
      "Epoch 229/400\n",
      "11/11 [==============================] - 1s 47ms/step - loss: 0.2472 - accuracy: 0.8933 - val_loss: 0.2887 - val_accuracy: 0.8537\n",
      "Epoch 230/400\n",
      "11/11 [==============================] - 1s 47ms/step - loss: 0.2679 - accuracy: 0.8963 - val_loss: 0.2808 - val_accuracy: 0.8537\n",
      "Epoch 231/400\n",
      "11/11 [==============================] - 1s 47ms/step - loss: 0.2410 - accuracy: 0.9024 - val_loss: 0.2903 - val_accuracy: 0.8415\n",
      "Epoch 232/400\n",
      "11/11 [==============================] - 1s 47ms/step - loss: 0.2791 - accuracy: 0.9085 - val_loss: 0.2839 - val_accuracy: 0.8780\n",
      "Epoch 233/400\n",
      "11/11 [==============================] - 1s 47ms/step - loss: 0.2377 - accuracy: 0.9024 - val_loss: 0.2756 - val_accuracy: 0.8659\n",
      "Epoch 234/400\n",
      "11/11 [==============================] - 1s 47ms/step - loss: 0.2446 - accuracy: 0.8933 - val_loss: 0.3009 - val_accuracy: 0.8293\n",
      "Epoch 235/400\n",
      "11/11 [==============================] - 1s 48ms/step - loss: 0.2744 - accuracy: 0.8994 - val_loss: 0.3112 - val_accuracy: 0.8537\n",
      "Epoch 236/400\n",
      "11/11 [==============================] - 1s 48ms/step - loss: 0.2426 - accuracy: 0.9085 - val_loss: 0.2764 - val_accuracy: 0.8659\n",
      "Epoch 237/400\n",
      "11/11 [==============================] - 1s 47ms/step - loss: 0.2532 - accuracy: 0.8902 - val_loss: 0.2755 - val_accuracy: 0.8537\n",
      "Epoch 238/400\n",
      "11/11 [==============================] - 1s 48ms/step - loss: 0.2311 - accuracy: 0.9085 - val_loss: 0.2805 - val_accuracy: 0.8659\n",
      "Epoch 239/400\n",
      "11/11 [==============================] - 1s 47ms/step - loss: 0.2489 - accuracy: 0.9116 - val_loss: 0.2782 - val_accuracy: 0.8659\n",
      "Epoch 240/400\n",
      "11/11 [==============================] - 1s 48ms/step - loss: 0.2833 - accuracy: 0.8872 - val_loss: 0.2916 - val_accuracy: 0.8659\n",
      "Epoch 241/400\n",
      "11/11 [==============================] - 1s 48ms/step - loss: 0.1999 - accuracy: 0.9116 - val_loss: 0.2762 - val_accuracy: 0.8537\n",
      "Epoch 242/400\n",
      "11/11 [==============================] - 1s 48ms/step - loss: 0.2429 - accuracy: 0.8994 - val_loss: 0.2678 - val_accuracy: 0.8659\n",
      "Epoch 243/400\n",
      "11/11 [==============================] - 1s 48ms/step - loss: 0.2276 - accuracy: 0.9268 - val_loss: 0.2672 - val_accuracy: 0.8659\n",
      "Epoch 244/400\n",
      "11/11 [==============================] - 1s 48ms/step - loss: 0.2396 - accuracy: 0.9177 - val_loss: 0.2650 - val_accuracy: 0.8780\n",
      "Epoch 245/400\n",
      "11/11 [==============================] - 1s 48ms/step - loss: 0.2041 - accuracy: 0.9268 - val_loss: 0.2631 - val_accuracy: 0.8659\n",
      "Epoch 246/400\n",
      "11/11 [==============================] - 1s 48ms/step - loss: 0.2498 - accuracy: 0.9116 - val_loss: 0.2584 - val_accuracy: 0.8659\n",
      "Epoch 247/400\n",
      "11/11 [==============================] - 1s 47ms/step - loss: 0.2631 - accuracy: 0.8963 - val_loss: 0.2670 - val_accuracy: 0.8659\n",
      "Epoch 248/400\n",
      "11/11 [==============================] - 1s 48ms/step - loss: 0.2473 - accuracy: 0.9024 - val_loss: 0.2646 - val_accuracy: 0.8537\n",
      "Epoch 249/400\n",
      "11/11 [==============================] - 1s 47ms/step - loss: 0.2151 - accuracy: 0.9085 - val_loss: 0.2604 - val_accuracy: 0.8780\n",
      "Epoch 250/400\n",
      "11/11 [==============================] - 1s 47ms/step - loss: 0.2138 - accuracy: 0.9299 - val_loss: 0.2637 - val_accuracy: 0.8780\n",
      "Epoch 251/400\n",
      "11/11 [==============================] - 1s 47ms/step - loss: 0.2153 - accuracy: 0.9299 - val_loss: 0.2687 - val_accuracy: 0.8537\n",
      "Epoch 252/400\n",
      "11/11 [==============================] - 1s 48ms/step - loss: 0.2684 - accuracy: 0.8933 - val_loss: 0.2626 - val_accuracy: 0.8659\n",
      "Epoch 253/400\n",
      "11/11 [==============================] - 1s 48ms/step - loss: 0.2602 - accuracy: 0.8994 - val_loss: 0.2653 - val_accuracy: 0.8659\n",
      "Epoch 254/400\n",
      "11/11 [==============================] - 1s 48ms/step - loss: 0.2333 - accuracy: 0.9177 - val_loss: 0.2784 - val_accuracy: 0.8537\n",
      "Epoch 255/400\n",
      "11/11 [==============================] - 1s 48ms/step - loss: 0.2536 - accuracy: 0.9116 - val_loss: 0.2592 - val_accuracy: 0.8537\n",
      "Epoch 256/400\n",
      "11/11 [==============================] - 1s 47ms/step - loss: 0.2307 - accuracy: 0.9055 - val_loss: 0.2635 - val_accuracy: 0.8659\n",
      "Epoch 257/400\n",
      "11/11 [==============================] - 1s 48ms/step - loss: 0.2190 - accuracy: 0.9146 - val_loss: 0.2643 - val_accuracy: 0.8659\n",
      "Epoch 258/400\n",
      "11/11 [==============================] - 1s 48ms/step - loss: 0.2239 - accuracy: 0.8963 - val_loss: 0.2625 - val_accuracy: 0.8659\n",
      "Epoch 259/400\n",
      "11/11 [==============================] - 1s 48ms/step - loss: 0.2205 - accuracy: 0.8933 - val_loss: 0.2683 - val_accuracy: 0.8780\n",
      "Epoch 260/400\n",
      "11/11 [==============================] - 1s 48ms/step - loss: 0.2366 - accuracy: 0.9055 - val_loss: 0.2747 - val_accuracy: 0.8780\n",
      "Epoch 261/400\n",
      "11/11 [==============================] - 1s 47ms/step - loss: 0.2538 - accuracy: 0.9024 - val_loss: 0.2691 - val_accuracy: 0.8659\n",
      "Epoch 262/400\n",
      "11/11 [==============================] - 1s 48ms/step - loss: 0.2559 - accuracy: 0.8963 - val_loss: 0.2761 - val_accuracy: 0.8902\n",
      "Epoch 263/400\n",
      "11/11 [==============================] - 1s 48ms/step - loss: 0.2378 - accuracy: 0.9177 - val_loss: 0.2799 - val_accuracy: 0.8780\n",
      "Epoch 264/400\n",
      "11/11 [==============================] - 1s 48ms/step - loss: 0.2362 - accuracy: 0.8963 - val_loss: 0.2845 - val_accuracy: 0.8537\n",
      "Epoch 265/400\n",
      "11/11 [==============================] - 1s 48ms/step - loss: 0.2348 - accuracy: 0.9024 - val_loss: 0.2887 - val_accuracy: 0.8537\n",
      "Epoch 266/400\n",
      "11/11 [==============================] - 1s 47ms/step - loss: 0.2687 - accuracy: 0.9055 - val_loss: 0.2727 - val_accuracy: 0.8537\n",
      "Epoch 267/400\n",
      "11/11 [==============================] - 1s 48ms/step - loss: 0.2338 - accuracy: 0.9207 - val_loss: 0.2923 - val_accuracy: 0.8780\n",
      "Epoch 268/400\n",
      "11/11 [==============================] - 1s 49ms/step - loss: 0.2200 - accuracy: 0.9085 - val_loss: 0.2826 - val_accuracy: 0.8780\n",
      "Epoch 269/400\n",
      "11/11 [==============================] - 1s 58ms/step - loss: 0.2354 - accuracy: 0.9177 - val_loss: 0.2696 - val_accuracy: 0.8780\n",
      "Epoch 270/400\n",
      "11/11 [==============================] - 1s 47ms/step - loss: 0.2054 - accuracy: 0.9238 - val_loss: 0.2729 - val_accuracy: 0.8780\n",
      "Epoch 271/400\n",
      "11/11 [==============================] - 1s 48ms/step - loss: 0.2301 - accuracy: 0.9116 - val_loss: 0.2853 - val_accuracy: 0.8780\n",
      "Epoch 272/400\n",
      "11/11 [==============================] - 1s 48ms/step - loss: 0.2369 - accuracy: 0.9024 - val_loss: 0.2755 - val_accuracy: 0.8780\n",
      "Epoch 273/400\n",
      "11/11 [==============================] - 1s 49ms/step - loss: 0.2210 - accuracy: 0.9207 - val_loss: 0.2690 - val_accuracy: 0.8780\n",
      "Epoch 274/400\n",
      "11/11 [==============================] - 1s 48ms/step - loss: 0.2553 - accuracy: 0.8963 - val_loss: 0.2738 - val_accuracy: 0.8537\n",
      "Epoch 275/400\n",
      "11/11 [==============================] - 1s 47ms/step - loss: 0.2393 - accuracy: 0.9238 - val_loss: 0.2689 - val_accuracy: 0.8780\n",
      "Epoch 276/400\n",
      "11/11 [==============================] - 1s 48ms/step - loss: 0.2487 - accuracy: 0.9177 - val_loss: 0.3086 - val_accuracy: 0.8537\n",
      "Epoch 277/400\n",
      "11/11 [==============================] - 1s 48ms/step - loss: 0.2865 - accuracy: 0.8902 - val_loss: 0.2688 - val_accuracy: 0.9024\n",
      "Epoch 278/400\n",
      "11/11 [==============================] - 1s 48ms/step - loss: 0.2207 - accuracy: 0.9238 - val_loss: 0.2784 - val_accuracy: 0.8537\n",
      "Epoch 279/400\n",
      "11/11 [==============================] - 1s 48ms/step - loss: 0.2555 - accuracy: 0.9055 - val_loss: 0.2712 - val_accuracy: 0.8780\n",
      "Epoch 280/400\n",
      "11/11 [==============================] - 1s 48ms/step - loss: 0.2649 - accuracy: 0.8963 - val_loss: 0.2668 - val_accuracy: 0.8659\n",
      "Epoch 281/400\n",
      "11/11 [==============================] - 1s 47ms/step - loss: 0.2233 - accuracy: 0.9238 - val_loss: 0.2696 - val_accuracy: 0.8659\n",
      "Epoch 282/400\n",
      "11/11 [==============================] - 1s 47ms/step - loss: 0.2321 - accuracy: 0.9085 - val_loss: 0.2704 - val_accuracy: 0.8780\n",
      "Epoch 283/400\n",
      "11/11 [==============================] - 1s 48ms/step - loss: 0.2404 - accuracy: 0.9177 - val_loss: 0.2684 - val_accuracy: 0.8780\n",
      "Epoch 284/400\n",
      "11/11 [==============================] - 1s 48ms/step - loss: 0.2238 - accuracy: 0.9085 - val_loss: 0.2663 - val_accuracy: 0.8780\n",
      "Epoch 285/400\n",
      "11/11 [==============================] - 1s 48ms/step - loss: 0.2384 - accuracy: 0.9116 - val_loss: 0.2649 - val_accuracy: 0.8902\n",
      "Epoch 286/400\n",
      "11/11 [==============================] - 1s 48ms/step - loss: 0.2178 - accuracy: 0.9055 - val_loss: 0.2653 - val_accuracy: 0.8780\n",
      "Epoch 287/400\n",
      "11/11 [==============================] - 1s 48ms/step - loss: 0.2387 - accuracy: 0.8963 - val_loss: 0.2655 - val_accuracy: 0.8902\n",
      "Epoch 288/400\n",
      "11/11 [==============================] - 1s 48ms/step - loss: 0.2279 - accuracy: 0.9116 - val_loss: 0.2648 - val_accuracy: 0.8902\n",
      "Epoch 289/400\n",
      "11/11 [==============================] - 1s 48ms/step - loss: 0.2134 - accuracy: 0.9390 - val_loss: 0.2639 - val_accuracy: 0.8902\n",
      "Epoch 290/400\n",
      "11/11 [==============================] - 1s 48ms/step - loss: 0.2432 - accuracy: 0.8811 - val_loss: 0.2579 - val_accuracy: 0.8780\n",
      "Epoch 291/400\n",
      "11/11 [==============================] - 1s 49ms/step - loss: 0.2451 - accuracy: 0.9024 - val_loss: 0.2748 - val_accuracy: 0.8780\n",
      "Epoch 292/400\n",
      "11/11 [==============================] - 1s 48ms/step - loss: 0.2601 - accuracy: 0.9055 - val_loss: 0.2628 - val_accuracy: 0.8780\n",
      "Epoch 293/400\n",
      "11/11 [==============================] - 1s 47ms/step - loss: 0.2499 - accuracy: 0.8963 - val_loss: 0.2809 - val_accuracy: 0.8659\n",
      "Epoch 294/400\n",
      "11/11 [==============================] - 1s 48ms/step - loss: 0.2694 - accuracy: 0.9024 - val_loss: 0.2648 - val_accuracy: 0.8659\n",
      "Epoch 295/400\n",
      "11/11 [==============================] - 1s 47ms/step - loss: 0.2259 - accuracy: 0.9207 - val_loss: 0.2643 - val_accuracy: 0.8659\n",
      "Epoch 296/400\n",
      "11/11 [==============================] - 1s 48ms/step - loss: 0.2365 - accuracy: 0.9116 - val_loss: 0.2661 - val_accuracy: 0.8659\n",
      "Epoch 297/400\n",
      "11/11 [==============================] - 1s 48ms/step - loss: 0.2062 - accuracy: 0.9238 - val_loss: 0.2662 - val_accuracy: 0.8659\n",
      "Epoch 298/400\n",
      "11/11 [==============================] - 1s 48ms/step - loss: 0.2313 - accuracy: 0.9116 - val_loss: 0.2678 - val_accuracy: 0.8780\n",
      "Epoch 299/400\n",
      "11/11 [==============================] - 1s 48ms/step - loss: 0.2528 - accuracy: 0.9116 - val_loss: 0.2788 - val_accuracy: 0.8659\n",
      "Epoch 300/400\n",
      "11/11 [==============================] - 1s 48ms/step - loss: 0.2329 - accuracy: 0.9146 - val_loss: 0.2761 - val_accuracy: 0.8780\n",
      "Epoch 301/400\n",
      "11/11 [==============================] - 1s 47ms/step - loss: 0.2500 - accuracy: 0.9085 - val_loss: 0.2663 - val_accuracy: 0.8780\n",
      "Epoch 302/400\n",
      "11/11 [==============================] - 1s 47ms/step - loss: 0.2518 - accuracy: 0.8872 - val_loss: 0.2654 - val_accuracy: 0.8780\n",
      "Epoch 303/400\n",
      "11/11 [==============================] - 1s 47ms/step - loss: 0.2612 - accuracy: 0.8902 - val_loss: 0.2668 - val_accuracy: 0.8780\n",
      "Epoch 304/400\n",
      "11/11 [==============================] - 1s 47ms/step - loss: 0.2332 - accuracy: 0.9146 - val_loss: 0.2726 - val_accuracy: 0.8902\n",
      "Epoch 305/400\n",
      "11/11 [==============================] - 1s 48ms/step - loss: 0.2547 - accuracy: 0.9116 - val_loss: 0.2727 - val_accuracy: 0.8902\n",
      "Epoch 306/400\n",
      "11/11 [==============================] - 1s 47ms/step - loss: 0.2430 - accuracy: 0.8841 - val_loss: 0.2654 - val_accuracy: 0.8780\n",
      "Epoch 307/400\n",
      "11/11 [==============================] - 1s 48ms/step - loss: 0.2268 - accuracy: 0.9177 - val_loss: 0.2680 - val_accuracy: 0.8780\n",
      "Epoch 308/400\n",
      "11/11 [==============================] - 1s 48ms/step - loss: 0.2558 - accuracy: 0.8963 - val_loss: 0.2766 - val_accuracy: 0.8780\n",
      "Epoch 309/400\n",
      "11/11 [==============================] - 1s 47ms/step - loss: 0.2563 - accuracy: 0.9024 - val_loss: 0.2688 - val_accuracy: 0.8659\n",
      "Epoch 310/400\n",
      "11/11 [==============================] - 1s 48ms/step - loss: 0.2260 - accuracy: 0.9238 - val_loss: 0.2699 - val_accuracy: 0.8659\n",
      "Epoch 311/400\n",
      "11/11 [==============================] - 1s 48ms/step - loss: 0.2457 - accuracy: 0.9055 - val_loss: 0.2715 - val_accuracy: 0.8659\n",
      "Epoch 312/400\n",
      "11/11 [==============================] - 1s 58ms/step - loss: 0.2561 - accuracy: 0.8994 - val_loss: 0.2679 - val_accuracy: 0.8659\n",
      "Epoch 313/400\n",
      "11/11 [==============================] - 1s 47ms/step - loss: 0.2355 - accuracy: 0.8963 - val_loss: 0.2658 - val_accuracy: 0.8659\n",
      "Epoch 314/400\n",
      "11/11 [==============================] - 1s 48ms/step - loss: 0.2472 - accuracy: 0.9024 - val_loss: 0.2605 - val_accuracy: 0.8659\n",
      "Epoch 315/400\n",
      "11/11 [==============================] - 1s 48ms/step - loss: 0.2040 - accuracy: 0.9177 - val_loss: 0.2585 - val_accuracy: 0.8902\n",
      "Epoch 316/400\n",
      "11/11 [==============================] - 1s 48ms/step - loss: 0.1979 - accuracy: 0.9207 - val_loss: 0.2601 - val_accuracy: 0.8780\n",
      "Epoch 317/400\n",
      "11/11 [==============================] - 1s 48ms/step - loss: 0.2397 - accuracy: 0.9116 - val_loss: 0.2648 - val_accuracy: 0.8902\n",
      "Epoch 318/400\n",
      "11/11 [==============================] - 1s 48ms/step - loss: 0.2416 - accuracy: 0.9116 - val_loss: 0.2605 - val_accuracy: 0.8780\n",
      "Epoch 319/400\n",
      "11/11 [==============================] - 1s 48ms/step - loss: 0.2274 - accuracy: 0.9177 - val_loss: 0.2606 - val_accuracy: 0.8780\n",
      "Epoch 320/400\n",
      "11/11 [==============================] - 1s 48ms/step - loss: 0.2109 - accuracy: 0.9207 - val_loss: 0.2613 - val_accuracy: 0.8780\n",
      "Epoch 321/400\n",
      "11/11 [==============================] - 1s 47ms/step - loss: 0.2330 - accuracy: 0.9177 - val_loss: 0.2613 - val_accuracy: 0.8780\n",
      "Epoch 322/400\n",
      "11/11 [==============================] - 1s 48ms/step - loss: 0.2139 - accuracy: 0.9207 - val_loss: 0.2618 - val_accuracy: 0.8780\n",
      "Epoch 323/400\n",
      "11/11 [==============================] - 1s 47ms/step - loss: 0.2324 - accuracy: 0.9177 - val_loss: 0.2646 - val_accuracy: 0.8659\n",
      "Epoch 324/400\n",
      "11/11 [==============================] - 1s 48ms/step - loss: 0.2041 - accuracy: 0.9116 - val_loss: 0.2648 - val_accuracy: 0.8780\n",
      "Epoch 325/400\n",
      "11/11 [==============================] - 1s 48ms/step - loss: 0.2611 - accuracy: 0.8994 - val_loss: 0.2679 - val_accuracy: 0.8780\n",
      "Epoch 326/400\n",
      "11/11 [==============================] - 1s 48ms/step - loss: 0.2259 - accuracy: 0.9177 - val_loss: 0.2690 - val_accuracy: 0.8902\n",
      "Epoch 327/400\n",
      "11/11 [==============================] - 1s 48ms/step - loss: 0.2753 - accuracy: 0.8902 - val_loss: 0.2667 - val_accuracy: 0.8780\n",
      "Epoch 328/400\n",
      "11/11 [==============================] - 1s 48ms/step - loss: 0.2220 - accuracy: 0.9268 - val_loss: 0.2665 - val_accuracy: 0.8780\n",
      "Epoch 329/400\n",
      "11/11 [==============================] - 1s 48ms/step - loss: 0.2203 - accuracy: 0.9177 - val_loss: 0.2669 - val_accuracy: 0.8780\n",
      "Epoch 330/400\n",
      "11/11 [==============================] - 1s 47ms/step - loss: 0.2365 - accuracy: 0.9207 - val_loss: 0.2681 - val_accuracy: 0.8780\n",
      "Epoch 331/400\n",
      "11/11 [==============================] - 1s 47ms/step - loss: 0.2474 - accuracy: 0.9024 - val_loss: 0.2709 - val_accuracy: 0.8780\n",
      "Epoch 332/400\n",
      "11/11 [==============================] - 1s 48ms/step - loss: 0.2531 - accuracy: 0.9207 - val_loss: 0.2662 - val_accuracy: 0.8780\n",
      "Epoch 333/400\n",
      "11/11 [==============================] - 1s 48ms/step - loss: 0.2073 - accuracy: 0.9268 - val_loss: 0.2669 - val_accuracy: 0.8780\n",
      "Epoch 334/400\n",
      "11/11 [==============================] - 1s 47ms/step - loss: 0.2395 - accuracy: 0.9116 - val_loss: 0.2655 - val_accuracy: 0.8780\n",
      "Epoch 335/400\n",
      "11/11 [==============================] - 1s 48ms/step - loss: 0.2442 - accuracy: 0.9055 - val_loss: 0.2670 - val_accuracy: 0.8780\n",
      "Epoch 336/400\n",
      "11/11 [==============================] - 1s 48ms/step - loss: 0.2416 - accuracy: 0.9055 - val_loss: 0.2711 - val_accuracy: 0.8659\n",
      "Epoch 337/400\n",
      "11/11 [==============================] - 1s 48ms/step - loss: 0.2191 - accuracy: 0.9177 - val_loss: 0.2700 - val_accuracy: 0.8780\n",
      "Epoch 338/400\n",
      "11/11 [==============================] - 1s 47ms/step - loss: 0.2320 - accuracy: 0.9055 - val_loss: 0.2655 - val_accuracy: 0.8659\n",
      "Epoch 339/400\n",
      "11/11 [==============================] - 1s 47ms/step - loss: 0.2352 - accuracy: 0.9238 - val_loss: 0.2710 - val_accuracy: 0.8780\n",
      "Epoch 340/400\n",
      "11/11 [==============================] - 1s 47ms/step - loss: 0.2255 - accuracy: 0.9146 - val_loss: 0.2666 - val_accuracy: 0.8780\n",
      "Epoch 341/400\n",
      "11/11 [==============================] - 1s 47ms/step - loss: 0.2644 - accuracy: 0.8933 - val_loss: 0.2642 - val_accuracy: 0.8902\n",
      "Epoch 342/400\n",
      "11/11 [==============================] - 1s 47ms/step - loss: 0.2202 - accuracy: 0.9177 - val_loss: 0.2716 - val_accuracy: 0.8659\n",
      "Epoch 343/400\n",
      "11/11 [==============================] - 1s 48ms/step - loss: 0.2296 - accuracy: 0.9177 - val_loss: 0.2717 - val_accuracy: 0.8659\n",
      "Epoch 344/400\n",
      "11/11 [==============================] - 1s 48ms/step - loss: 0.2413 - accuracy: 0.9116 - val_loss: 0.2693 - val_accuracy: 0.8902\n",
      "Epoch 345/400\n",
      "11/11 [==============================] - 1s 48ms/step - loss: 0.2162 - accuracy: 0.9055 - val_loss: 0.2775 - val_accuracy: 0.8780\n",
      "Epoch 346/400\n",
      "11/11 [==============================] - 1s 48ms/step - loss: 0.2373 - accuracy: 0.9116 - val_loss: 0.2684 - val_accuracy: 0.8780\n",
      "Epoch 347/400\n",
      "11/11 [==============================] - 1s 48ms/step - loss: 0.2107 - accuracy: 0.9177 - val_loss: 0.2654 - val_accuracy: 0.8902\n",
      "Epoch 348/400\n",
      "11/11 [==============================] - 1s 47ms/step - loss: 0.2220 - accuracy: 0.9085 - val_loss: 0.2682 - val_accuracy: 0.8780\n",
      "Epoch 349/400\n",
      "11/11 [==============================] - 1s 48ms/step - loss: 0.2196 - accuracy: 0.9116 - val_loss: 0.2671 - val_accuracy: 0.8780\n",
      "Epoch 350/400\n",
      "11/11 [==============================] - 1s 48ms/step - loss: 0.2456 - accuracy: 0.9177 - val_loss: 0.2597 - val_accuracy: 0.8659\n",
      "Epoch 351/400\n",
      "11/11 [==============================] - 1s 47ms/step - loss: 0.2556 - accuracy: 0.9085 - val_loss: 0.2583 - val_accuracy: 0.8902\n",
      "Epoch 352/400\n",
      "11/11 [==============================] - 1s 48ms/step - loss: 0.2538 - accuracy: 0.9146 - val_loss: 0.2584 - val_accuracy: 0.8902\n",
      "Epoch 353/400\n",
      "11/11 [==============================] - 1s 49ms/step - loss: 0.2212 - accuracy: 0.9268 - val_loss: 0.2575 - val_accuracy: 0.8780\n",
      "Epoch 354/400\n",
      "11/11 [==============================] - 1s 49ms/step - loss: 0.2249 - accuracy: 0.9055 - val_loss: 0.2566 - val_accuracy: 0.8780\n",
      "Epoch 355/400\n",
      "11/11 [==============================] - 1s 58ms/step - loss: 0.2566 - accuracy: 0.9116 - val_loss: 0.2598 - val_accuracy: 0.8780\n",
      "Epoch 356/400\n",
      "11/11 [==============================] - 1s 49ms/step - loss: 0.2244 - accuracy: 0.9238 - val_loss: 0.2574 - val_accuracy: 0.8902\n",
      "Epoch 357/400\n",
      "11/11 [==============================] - 1s 48ms/step - loss: 0.2456 - accuracy: 0.9238 - val_loss: 0.2695 - val_accuracy: 0.8780\n",
      "Epoch 358/400\n",
      "11/11 [==============================] - 1s 47ms/step - loss: 0.2085 - accuracy: 0.9116 - val_loss: 0.2640 - val_accuracy: 0.8902\n",
      "Epoch 359/400\n",
      "11/11 [==============================] - 1s 48ms/step - loss: 0.2265 - accuracy: 0.9238 - val_loss: 0.2593 - val_accuracy: 0.8902\n",
      "Epoch 360/400\n",
      "11/11 [==============================] - 1s 47ms/step - loss: 0.2355 - accuracy: 0.9177 - val_loss: 0.2604 - val_accuracy: 0.8780\n",
      "Epoch 361/400\n",
      "11/11 [==============================] - 1s 47ms/step - loss: 0.2040 - accuracy: 0.9177 - val_loss: 0.2593 - val_accuracy: 0.8902\n",
      "Epoch 362/400\n",
      "11/11 [==============================] - 1s 48ms/step - loss: 0.2146 - accuracy: 0.9177 - val_loss: 0.2616 - val_accuracy: 0.8902\n",
      "Epoch 363/400\n",
      "11/11 [==============================] - 1s 47ms/step - loss: 0.2229 - accuracy: 0.9085 - val_loss: 0.2697 - val_accuracy: 0.8780\n",
      "Epoch 364/400\n",
      "11/11 [==============================] - 1s 48ms/step - loss: 0.2294 - accuracy: 0.9055 - val_loss: 0.2687 - val_accuracy: 0.8780\n",
      "Epoch 365/400\n",
      "11/11 [==============================] - 1s 47ms/step - loss: 0.2351 - accuracy: 0.9085 - val_loss: 0.2599 - val_accuracy: 0.8780\n",
      "Epoch 366/400\n",
      "11/11 [==============================] - 1s 48ms/step - loss: 0.2047 - accuracy: 0.9421 - val_loss: 0.2590 - val_accuracy: 0.8780\n",
      "Epoch 367/400\n",
      "11/11 [==============================] - 1s 47ms/step - loss: 0.2266 - accuracy: 0.9238 - val_loss: 0.2576 - val_accuracy: 0.8902\n",
      "Epoch 368/400\n",
      "11/11 [==============================] - 1s 48ms/step - loss: 0.2321 - accuracy: 0.8994 - val_loss: 0.2626 - val_accuracy: 0.8780\n",
      "Epoch 369/400\n",
      "11/11 [==============================] - 1s 49ms/step - loss: 0.2353 - accuracy: 0.8872 - val_loss: 0.2681 - val_accuracy: 0.8780\n",
      "Epoch 370/400\n",
      "11/11 [==============================] - 1s 48ms/step - loss: 0.2306 - accuracy: 0.9146 - val_loss: 0.2727 - val_accuracy: 0.8659\n",
      "Epoch 371/400\n",
      "11/11 [==============================] - 1s 48ms/step - loss: 0.2123 - accuracy: 0.9268 - val_loss: 0.2700 - val_accuracy: 0.8659\n",
      "Epoch 372/400\n",
      "11/11 [==============================] - 1s 49ms/step - loss: 0.2164 - accuracy: 0.9055 - val_loss: 0.2605 - val_accuracy: 0.8780\n",
      "Epoch 373/400\n",
      "11/11 [==============================] - 1s 48ms/step - loss: 0.2659 - accuracy: 0.8811 - val_loss: 0.2587 - val_accuracy: 0.8780\n",
      "Epoch 374/400\n",
      "11/11 [==============================] - 1s 48ms/step - loss: 0.2697 - accuracy: 0.9116 - val_loss: 0.2592 - val_accuracy: 0.8780\n",
      "Epoch 375/400\n",
      "11/11 [==============================] - 1s 48ms/step - loss: 0.2237 - accuracy: 0.8994 - val_loss: 0.2598 - val_accuracy: 0.8780\n",
      "Epoch 376/400\n",
      "11/11 [==============================] - 1s 48ms/step - loss: 0.2445 - accuracy: 0.9146 - val_loss: 0.2633 - val_accuracy: 0.8780\n",
      "Epoch 377/400\n",
      "11/11 [==============================] - 1s 48ms/step - loss: 0.2527 - accuracy: 0.9055 - val_loss: 0.2667 - val_accuracy: 0.8902\n",
      "Epoch 378/400\n",
      "11/11 [==============================] - 1s 48ms/step - loss: 0.2373 - accuracy: 0.9299 - val_loss: 0.2601 - val_accuracy: 0.8780\n",
      "Epoch 379/400\n",
      "11/11 [==============================] - 1s 50ms/step - loss: 0.2302 - accuracy: 0.9238 - val_loss: 0.2580 - val_accuracy: 0.8780\n",
      "Epoch 380/400\n",
      "11/11 [==============================] - 1s 48ms/step - loss: 0.2218 - accuracy: 0.9146 - val_loss: 0.2589 - val_accuracy: 0.8902\n",
      "Epoch 381/400\n",
      "11/11 [==============================] - 1s 47ms/step - loss: 0.1936 - accuracy: 0.9329 - val_loss: 0.2597 - val_accuracy: 0.8780\n",
      "Epoch 382/400\n",
      "11/11 [==============================] - 1s 47ms/step - loss: 0.2029 - accuracy: 0.9238 - val_loss: 0.2615 - val_accuracy: 0.8780\n",
      "Epoch 383/400\n",
      "11/11 [==============================] - 1s 48ms/step - loss: 0.2244 - accuracy: 0.9055 - val_loss: 0.2641 - val_accuracy: 0.8780\n",
      "Epoch 384/400\n",
      "11/11 [==============================] - 1s 47ms/step - loss: 0.2186 - accuracy: 0.9177 - val_loss: 0.2640 - val_accuracy: 0.8780\n",
      "Epoch 385/400\n",
      "11/11 [==============================] - 1s 47ms/step - loss: 0.2149 - accuracy: 0.9146 - val_loss: 0.2619 - val_accuracy: 0.8780\n",
      "Epoch 386/400\n",
      "11/11 [==============================] - 1s 48ms/step - loss: 0.2713 - accuracy: 0.8780 - val_loss: 0.2624 - val_accuracy: 0.8780\n",
      "Epoch 387/400\n",
      "11/11 [==============================] - 1s 48ms/step - loss: 0.2134 - accuracy: 0.9268 - val_loss: 0.2659 - val_accuracy: 0.8780\n",
      "Epoch 388/400\n",
      "11/11 [==============================] - 1s 48ms/step - loss: 0.2159 - accuracy: 0.9207 - val_loss: 0.2649 - val_accuracy: 0.8780\n",
      "Epoch 389/400\n",
      "11/11 [==============================] - 1s 48ms/step - loss: 0.2333 - accuracy: 0.8994 - val_loss: 0.2644 - val_accuracy: 0.8902\n",
      "Epoch 390/400\n",
      "11/11 [==============================] - 1s 47ms/step - loss: 0.2422 - accuracy: 0.9055 - val_loss: 0.2625 - val_accuracy: 0.8902\n",
      "Epoch 391/400\n",
      "11/11 [==============================] - 1s 48ms/step - loss: 0.2536 - accuracy: 0.8994 - val_loss: 0.2615 - val_accuracy: 0.8902\n",
      "Epoch 392/400\n",
      "11/11 [==============================] - 1s 48ms/step - loss: 0.2480 - accuracy: 0.9177 - val_loss: 0.2639 - val_accuracy: 0.8780\n",
      "Epoch 393/400\n",
      "11/11 [==============================] - 1s 48ms/step - loss: 0.2170 - accuracy: 0.9085 - val_loss: 0.2641 - val_accuracy: 0.8780\n",
      "Epoch 394/400\n",
      "11/11 [==============================] - 1s 47ms/step - loss: 0.2304 - accuracy: 0.9146 - val_loss: 0.2640 - val_accuracy: 0.8780\n",
      "Epoch 395/400\n",
      "11/11 [==============================] - 1s 48ms/step - loss: 0.2147 - accuracy: 0.9238 - val_loss: 0.2656 - val_accuracy: 0.8780\n",
      "Epoch 396/400\n",
      "11/11 [==============================] - 1s 48ms/step - loss: 0.2278 - accuracy: 0.9024 - val_loss: 0.2630 - val_accuracy: 0.8780\n",
      "Epoch 397/400\n",
      "11/11 [==============================] - 1s 48ms/step - loss: 0.2323 - accuracy: 0.9085 - val_loss: 0.2634 - val_accuracy: 0.8780\n",
      "Epoch 398/400\n",
      "11/11 [==============================] - 1s 58ms/step - loss: 0.2369 - accuracy: 0.9024 - val_loss: 0.2678 - val_accuracy: 0.8780\n",
      "Epoch 399/400\n",
      "11/11 [==============================] - 1s 47ms/step - loss: 0.2374 - accuracy: 0.9177 - val_loss: 0.2652 - val_accuracy: 0.8780\n",
      "Epoch 400/400\n",
      "11/11 [==============================] - 1s 48ms/step - loss: 0.2134 - accuracy: 0.9177 - val_loss: 0.2648 - val_accuracy: 0.8780\n"
     ]
    },
    {
     "data": {
      "text/plain": [
       "<tensorflow.python.keras.callbacks.History at 0x7f23704ffb70>"
      ]
     },
     "execution_count": 66,
     "metadata": {
      "tags": []
     },
     "output_type": "execute_result"
    }
   ],
   "source": [
    "def scheduler(epoch, lr):\r\n",
    "  if epoch < 200:\r\n",
    "    return lr\r\n",
    "  elif epoch % 10 == 0 :\r\n",
    "    return lr * tf.math.exp(-0.1)   \r\n",
    "  else:\r\n",
    "    return lr \r\n",
    "\r\n",
    "callback = keras.callbacks.LearningRateScheduler(scheduler)\r\n",
    "model.fit(X_train,y_train,verbose=1,epochs=400,validation_data=(X_test,y_test),callbacks=[callback])"
   ]
  },
  {
   "cell_type": "code",
   "execution_count": null,
   "metadata": {
    "colab": {
     "base_uri": "https://localhost:8080/"
    },
    "executionInfo": {
     "elapsed": 1200,
     "status": "ok",
     "timestamp": 1613472209841,
     "user": {
      "displayName": "Snbn subedi",
      "photoUrl": "",
      "userId": "08622599957170027744"
     },
     "user_tz": -345
    },
    "id": "SdWYA_p5J5RN",
    "outputId": "423fd116-b497-44d8-d75c-96ac867371be"
   },
   "outputs": [
    {
     "name": "stdout",
     "output_type": "stream",
     "text": [
      "5/5 [==============================] - 0s 12ms/step - loss: 0.4555 - accuracy: 0.8162\n"
     ]
    },
    {
     "data": {
      "text/plain": [
       "[0.4554952383041382, 0.8161764740943909]"
      ]
     },
     "execution_count": 49,
     "metadata": {
      "tags": []
     },
     "output_type": "execute_result"
    }
   ],
   "source": [
    "model.evaluate(X_test,y_test)"
   ]
  },
  {
   "cell_type": "code",
   "execution_count": null,
   "metadata": {
    "colab": {
     "base_uri": "https://localhost:8080/"
    },
    "executionInfo": {
     "elapsed": 1221,
     "status": "ok",
     "timestamp": 1613552892115,
     "user": {
      "displayName": "Snbn subedi",
      "photoUrl": "",
      "userId": "08622599957170027744"
     },
     "user_tz": -345
    },
    "id": "nrYnXxq7J5RP",
    "outputId": "6c823e6a-552b-4cba-c394-a8ceebb3bfd9"
   },
   "outputs": [
    {
     "name": "stdout",
     "output_type": "stream",
     "text": [
      "Model: \"model_2\"\n",
      "_________________________________________________________________\n",
      "Layer (type)                 Output Shape              Param #   \n",
      "=================================================================\n",
      "input_3 (InputLayer)         [(None, 300, 25, 2)]      0         \n",
      "_________________________________________________________________\n",
      "lambda_8 (Lambda)            (None, 300, 25, 2)        0         \n",
      "_________________________________________________________________\n",
      "conv2d_6 (Conv2D)            (None, 300, 25, 64)       1216      \n",
      "_________________________________________________________________\n",
      "leaky_re_lu_8 (LeakyReLU)    (None, 300, 25, 64)       0         \n",
      "_________________________________________________________________\n",
      "dropout_8 (Dropout)          (None, 300, 25, 64)       0         \n",
      "_________________________________________________________________\n",
      "lambda_9 (Lambda)            (None, 300, 25, 64)       0         \n",
      "_________________________________________________________________\n",
      "conv2d_7 (Conv2D)            (None, 300, 25, 32)       18464     \n",
      "_________________________________________________________________\n",
      "leaky_re_lu_9 (LeakyReLU)    (None, 300, 25, 32)       0         \n",
      "_________________________________________________________________\n",
      "dropout_9 (Dropout)          (None, 300, 25, 32)       0         \n",
      "_________________________________________________________________\n",
      "lambda_10 (Lambda)           (None, 300, 25, 32)       0         \n",
      "_________________________________________________________________\n",
      "conv2d_8 (Conv2D)            (None, 300, 25, 16)       12816     \n",
      "_________________________________________________________________\n",
      "leaky_re_lu_10 (LeakyReLU)   (None, 300, 25, 16)       0         \n",
      "_________________________________________________________________\n",
      "dropout_10 (Dropout)         (None, 300, 25, 16)       0         \n",
      "_________________________________________________________________\n",
      "lambda_11 (Lambda)           (None, 300, 16, 25)       0         \n",
      "_________________________________________________________________\n",
      "global_average_pooling2d_2 ( (None, 25)                0         \n",
      "_________________________________________________________________\n",
      "dense_4 (Dense)              (None, 10)                260       \n",
      "_________________________________________________________________\n",
      "leaky_re_lu_11 (LeakyReLU)   (None, 10)                0         \n",
      "_________________________________________________________________\n",
      "dropout_11 (Dropout)         (None, 10)                0         \n",
      "_________________________________________________________________\n",
      "dense_5 (Dense)              (None, 1)                 11        \n",
      "_________________________________________________________________\n",
      "activation_2 (Activation)    (None, 1)                 0         \n",
      "=================================================================\n",
      "Total params: 32,767\n",
      "Trainable params: 32,767\n",
      "Non-trainable params: 0\n",
      "_________________________________________________________________\n"
     ]
    }
   ],
   "source": [
    "model.summary()"
   ]
  },
  {
   "cell_type": "code",
   "execution_count": null,
   "metadata": {
    "id": "LlIaXxC2J5RQ"
   },
   "outputs": [],
   "source": [
    "losses_0=pd.DataFrame(model.history.history)"
   ]
  },
  {
   "cell_type": "code",
   "execution_count": null,
   "metadata": {
    "colab": {
     "base_uri": "https://localhost:8080/",
     "height": 419
    },
    "executionInfo": {
     "elapsed": 1255,
     "status": "ok",
     "timestamp": 1613549149754,
     "user": {
      "displayName": "Snbn subedi",
      "photoUrl": "",
      "userId": "08622599957170027744"
     },
     "user_tz": -345
    },
    "id": "ct6qBULkBgbk",
    "outputId": "250fb246-2336-4bd7-b707-99cd22829595"
   },
   "outputs": [
    {
     "data": {
      "text/html": [
       "<div>\n",
       "<style scoped>\n",
       "    .dataframe tbody tr th:only-of-type {\n",
       "        vertical-align: middle;\n",
       "    }\n",
       "\n",
       "    .dataframe tbody tr th {\n",
       "        vertical-align: top;\n",
       "    }\n",
       "\n",
       "    .dataframe thead th {\n",
       "        text-align: right;\n",
       "    }\n",
       "</style>\n",
       "<table border=\"1\" class=\"dataframe\">\n",
       "  <thead>\n",
       "    <tr style=\"text-align: right;\">\n",
       "      <th></th>\n",
       "      <th>loss</th>\n",
       "      <th>accuracy</th>\n",
       "      <th>val_loss</th>\n",
       "      <th>val_accuracy</th>\n",
       "      <th>lr</th>\n",
       "    </tr>\n",
       "  </thead>\n",
       "  <tbody>\n",
       "    <tr>\n",
       "      <th>0</th>\n",
       "      <td>0.307415</td>\n",
       "      <td>0.893293</td>\n",
       "      <td>0.334320</td>\n",
       "      <td>0.829268</td>\n",
       "      <td>0.001353</td>\n",
       "    </tr>\n",
       "    <tr>\n",
       "      <th>1</th>\n",
       "      <td>0.293557</td>\n",
       "      <td>0.868902</td>\n",
       "      <td>0.348164</td>\n",
       "      <td>0.841463</td>\n",
       "      <td>0.001353</td>\n",
       "    </tr>\n",
       "    <tr>\n",
       "      <th>2</th>\n",
       "      <td>0.313652</td>\n",
       "      <td>0.875000</td>\n",
       "      <td>0.336537</td>\n",
       "      <td>0.841463</td>\n",
       "      <td>0.001353</td>\n",
       "    </tr>\n",
       "    <tr>\n",
       "      <th>3</th>\n",
       "      <td>0.297824</td>\n",
       "      <td>0.871951</td>\n",
       "      <td>0.301667</td>\n",
       "      <td>0.853659</td>\n",
       "      <td>0.001353</td>\n",
       "    </tr>\n",
       "    <tr>\n",
       "      <th>4</th>\n",
       "      <td>0.251066</td>\n",
       "      <td>0.890244</td>\n",
       "      <td>0.359233</td>\n",
       "      <td>0.878049</td>\n",
       "      <td>0.001353</td>\n",
       "    </tr>\n",
       "    <tr>\n",
       "      <th>...</th>\n",
       "      <td>...</td>\n",
       "      <td>...</td>\n",
       "      <td>...</td>\n",
       "      <td>...</td>\n",
       "      <td>...</td>\n",
       "    </tr>\n",
       "    <tr>\n",
       "      <th>395</th>\n",
       "      <td>0.227813</td>\n",
       "      <td>0.902439</td>\n",
       "      <td>0.262979</td>\n",
       "      <td>0.878049</td>\n",
       "      <td>0.000183</td>\n",
       "    </tr>\n",
       "    <tr>\n",
       "      <th>396</th>\n",
       "      <td>0.232341</td>\n",
       "      <td>0.908537</td>\n",
       "      <td>0.263381</td>\n",
       "      <td>0.878049</td>\n",
       "      <td>0.000183</td>\n",
       "    </tr>\n",
       "    <tr>\n",
       "      <th>397</th>\n",
       "      <td>0.236887</td>\n",
       "      <td>0.902439</td>\n",
       "      <td>0.267760</td>\n",
       "      <td>0.878049</td>\n",
       "      <td>0.000183</td>\n",
       "    </tr>\n",
       "    <tr>\n",
       "      <th>398</th>\n",
       "      <td>0.237374</td>\n",
       "      <td>0.917683</td>\n",
       "      <td>0.265159</td>\n",
       "      <td>0.878049</td>\n",
       "      <td>0.000183</td>\n",
       "    </tr>\n",
       "    <tr>\n",
       "      <th>399</th>\n",
       "      <td>0.213433</td>\n",
       "      <td>0.917683</td>\n",
       "      <td>0.264782</td>\n",
       "      <td>0.878049</td>\n",
       "      <td>0.000183</td>\n",
       "    </tr>\n",
       "  </tbody>\n",
       "</table>\n",
       "<p>400 rows × 5 columns</p>\n",
       "</div>"
      ],
      "text/plain": [
       "         loss  accuracy  val_loss  val_accuracy        lr\n",
       "0    0.307415  0.893293  0.334320      0.829268  0.001353\n",
       "1    0.293557  0.868902  0.348164      0.841463  0.001353\n",
       "2    0.313652  0.875000  0.336537      0.841463  0.001353\n",
       "3    0.297824  0.871951  0.301667      0.853659  0.001353\n",
       "4    0.251066  0.890244  0.359233      0.878049  0.001353\n",
       "..        ...       ...       ...           ...       ...\n",
       "395  0.227813  0.902439  0.262979      0.878049  0.000183\n",
       "396  0.232341  0.908537  0.263381      0.878049  0.000183\n",
       "397  0.236887  0.902439  0.267760      0.878049  0.000183\n",
       "398  0.237374  0.917683  0.265159      0.878049  0.000183\n",
       "399  0.213433  0.917683  0.264782      0.878049  0.000183\n",
       "\n",
       "[400 rows x 5 columns]"
      ]
     },
     "execution_count": 69,
     "metadata": {
      "tags": []
     },
     "output_type": "execute_result"
    }
   ],
   "source": [
    "losses_0"
   ]
  },
  {
   "cell_type": "code",
   "execution_count": null,
   "metadata": {
    "colab": {
     "base_uri": "https://localhost:8080/",
     "height": 419
    },
    "executionInfo": {
     "elapsed": 1149,
     "status": "ok",
     "timestamp": 1613548738729,
     "user": {
      "displayName": "Snbn subedi",
      "photoUrl": "",
      "userId": "08622599957170027744"
     },
     "user_tz": -345
    },
    "id": "WdR7LGZt_f5j",
    "outputId": "e15bb76d-cb77-4e9f-9d56-f379a8b2a894"
   },
   "outputs": [
    {
     "data": {
      "text/html": [
       "<div>\n",
       "<style scoped>\n",
       "    .dataframe tbody tr th:only-of-type {\n",
       "        vertical-align: middle;\n",
       "    }\n",
       "\n",
       "    .dataframe tbody tr th {\n",
       "        vertical-align: top;\n",
       "    }\n",
       "\n",
       "    .dataframe thead th {\n",
       "        text-align: right;\n",
       "    }\n",
       "</style>\n",
       "<table border=\"1\" class=\"dataframe\">\n",
       "  <thead>\n",
       "    <tr style=\"text-align: right;\">\n",
       "      <th></th>\n",
       "      <th>loss</th>\n",
       "      <th>accuracy</th>\n",
       "      <th>val_loss</th>\n",
       "      <th>val_accuracy</th>\n",
       "      <th>lr</th>\n",
       "    </tr>\n",
       "  </thead>\n",
       "  <tbody>\n",
       "    <tr>\n",
       "      <th>0</th>\n",
       "      <td>0.695365</td>\n",
       "      <td>0.557927</td>\n",
       "      <td>0.688992</td>\n",
       "      <td>0.548781</td>\n",
       "      <td>0.010000</td>\n",
       "    </tr>\n",
       "    <tr>\n",
       "      <th>1</th>\n",
       "      <td>0.671833</td>\n",
       "      <td>0.631098</td>\n",
       "      <td>0.686268</td>\n",
       "      <td>0.548781</td>\n",
       "      <td>0.010000</td>\n",
       "    </tr>\n",
       "    <tr>\n",
       "      <th>2</th>\n",
       "      <td>0.661831</td>\n",
       "      <td>0.637195</td>\n",
       "      <td>0.694567</td>\n",
       "      <td>0.548781</td>\n",
       "      <td>0.010000</td>\n",
       "    </tr>\n",
       "    <tr>\n",
       "      <th>3</th>\n",
       "      <td>0.639692</td>\n",
       "      <td>0.649390</td>\n",
       "      <td>0.678049</td>\n",
       "      <td>0.573171</td>\n",
       "      <td>0.010000</td>\n",
       "    </tr>\n",
       "    <tr>\n",
       "      <th>4</th>\n",
       "      <td>0.635067</td>\n",
       "      <td>0.649390</td>\n",
       "      <td>0.648871</td>\n",
       "      <td>0.609756</td>\n",
       "      <td>0.010000</td>\n",
       "    </tr>\n",
       "    <tr>\n",
       "      <th>...</th>\n",
       "      <td>...</td>\n",
       "      <td>...</td>\n",
       "      <td>...</td>\n",
       "      <td>...</td>\n",
       "      <td>...</td>\n",
       "    </tr>\n",
       "    <tr>\n",
       "      <th>595</th>\n",
       "      <td>0.255495</td>\n",
       "      <td>0.908537</td>\n",
       "      <td>0.325322</td>\n",
       "      <td>0.853659</td>\n",
       "      <td>0.001353</td>\n",
       "    </tr>\n",
       "    <tr>\n",
       "      <th>596</th>\n",
       "      <td>0.294429</td>\n",
       "      <td>0.896341</td>\n",
       "      <td>0.316837</td>\n",
       "      <td>0.841463</td>\n",
       "      <td>0.001353</td>\n",
       "    </tr>\n",
       "    <tr>\n",
       "      <th>597</th>\n",
       "      <td>0.280770</td>\n",
       "      <td>0.881098</td>\n",
       "      <td>0.345680</td>\n",
       "      <td>0.841463</td>\n",
       "      <td>0.001353</td>\n",
       "    </tr>\n",
       "    <tr>\n",
       "      <th>598</th>\n",
       "      <td>0.267945</td>\n",
       "      <td>0.905488</td>\n",
       "      <td>0.314499</td>\n",
       "      <td>0.853659</td>\n",
       "      <td>0.001353</td>\n",
       "    </tr>\n",
       "    <tr>\n",
       "      <th>599</th>\n",
       "      <td>0.293441</td>\n",
       "      <td>0.890244</td>\n",
       "      <td>0.365337</td>\n",
       "      <td>0.878049</td>\n",
       "      <td>0.001353</td>\n",
       "    </tr>\n",
       "  </tbody>\n",
       "</table>\n",
       "<p>600 rows × 5 columns</p>\n",
       "</div>"
      ],
      "text/plain": [
       "         loss  accuracy  val_loss  val_accuracy        lr\n",
       "0    0.695365  0.557927  0.688992      0.548781  0.010000\n",
       "1    0.671833  0.631098  0.686268      0.548781  0.010000\n",
       "2    0.661831  0.637195  0.694567      0.548781  0.010000\n",
       "3    0.639692  0.649390  0.678049      0.573171  0.010000\n",
       "4    0.635067  0.649390  0.648871      0.609756  0.010000\n",
       "..        ...       ...       ...           ...       ...\n",
       "595  0.255495  0.908537  0.325322      0.853659  0.001353\n",
       "596  0.294429  0.896341  0.316837      0.841463  0.001353\n",
       "597  0.280770  0.881098  0.345680      0.841463  0.001353\n",
       "598  0.267945  0.905488  0.314499      0.853659  0.001353\n",
       "599  0.293441  0.890244  0.365337      0.878049  0.001353\n",
       "\n",
       "[600 rows x 5 columns]"
      ]
     },
     "execution_count": 63,
     "metadata": {
      "tags": []
     },
     "output_type": "execute_result"
    }
   ],
   "source": [
    "losses"
   ]
  },
  {
   "cell_type": "code",
   "execution_count": null,
   "metadata": {
    "id": "o9SoatLSBjsi"
   },
   "outputs": [],
   "source": [
    "new_loss=pd.concat([losses,losses_0],ignore_index=True)"
   ]
  },
  {
   "cell_type": "code",
   "execution_count": null,
   "metadata": {
    "colab": {
     "base_uri": "https://localhost:8080/",
     "height": 282
    },
    "executionInfo": {
     "elapsed": 1455,
     "status": "ok",
     "timestamp": 1613550318397,
     "user": {
      "displayName": "Snbn subedi",
      "photoUrl": "",
      "userId": "08622599957170027744"
     },
     "user_tz": -345
    },
    "id": "-yvkUq3ZCJQa",
    "outputId": "76c907e0-91c6-44c8-aa62-ea8397438365"
   },
   "outputs": [
    {
     "data": {
      "text/plain": [
       "<matplotlib.legend.Legend at 0x7f22dc4e9240>"
      ]
     },
     "execution_count": 89,
     "metadata": {
      "tags": []
     },
     "output_type": "execute_result"
    },
    {
     "data": {
      "image/png": "[encoded data removed]",
      "text/plain": [
       "<Figure size 432x288 with 1 Axes>"
      ]
     },
     "metadata": {
      "needs_background": "light",
      "tags": []
     },
     "output_type": "display_data"
    }
   ],
   "source": [
    "new_loss.plot() \r\n",
    "plt.legend(loc='upper left',bbox_to_anchor=(1.005, 1))"
   ]
  },
  {
   "cell_type": "code",
   "execution_count": null,
   "metadata": {
    "id": "KjLVjwfFG0YV"
   },
   "outputs": [],
   "source": [
    "new_loss.to_pickle('/content/drive/MyDrive/Gcn/C_NC_csv_data/send_loss_acc.pkl')"
   ]
  },
  {
   "cell_type": "code",
   "execution_count": null,
   "metadata": {
    "colab": {
     "base_uri": "https://localhost:8080/",
     "height": 282
    },
    "executionInfo": {
     "elapsed": 1278,
     "status": "ok",
     "timestamp": 1613550450354,
     "user": {
      "displayName": "Snbn subedi",
      "photoUrl": "",
      "userId": "08622599957170027744"
     },
     "user_tz": -345
    },
    "id": "fbM6ISqXGZ8j",
    "outputId": "5b2dbcef-580a-47bf-a64f-e0833f7d0541"
   },
   "outputs": [
    {
     "data": {
      "text/plain": [
       "<matplotlib.axes._subplots.AxesSubplot at 0x7f22dc19eb70>"
      ]
     },
     "execution_count": 90,
     "metadata": {
      "tags": []
     },
     "output_type": "execute_result"
    },
    {
     "data": {
      "image/png": "[encoded data removed]",
      "text/plain": [
       "<Figure size 432x288 with 1 Axes>"
      ]
     },
     "metadata": {
      "needs_background": "light",
      "tags": []
     },
     "output_type": "display_data"
    }
   ],
   "source": [
    "new_loss[['lr']].plot() "
   ]
  },
  {
   "cell_type": "code",
   "execution_count": null,
   "metadata": {
    "colab": {
     "base_uri": "https://localhost:8080/",
     "height": 282
    },
    "executionInfo": {
     "elapsed": 1994,
     "status": "ok",
     "timestamp": 1613546372559,
     "user": {
      "displayName": "Snbn subedi",
      "photoUrl": "",
      "userId": "08622599957170027744"
     },
     "user_tz": -345
    },
    "id": "t4OjXA4y0kt0",
    "outputId": "a59cb531-a3b3-4a75-d353-e854660e37bb"
   },
   "outputs": [
    {
     "data": {
      "text/plain": [
       "<matplotlib.axes._subplots.AxesSubplot at 0x7f23709e0fd0>"
      ]
     },
     "execution_count": 48,
     "metadata": {
      "tags": []
     },
     "output_type": "execute_result"
    },
    {
     "data": {
      "image/png": "[encoded data removed]",
      "text/plain": [
       "<Figure size 432x288 with 1 Axes>"
      ]
     },
     "metadata": {
      "needs_background": "light",
      "tags": []
     },
     "output_type": "display_data"
    }
   ],
   "source": [
    "losses.plot()"
   ]
  },
  {
   "cell_type": "code",
   "execution_count": null,
   "metadata": {
    "colab": {
     "base_uri": "https://localhost:8080/",
     "height": 282
    },
    "executionInfo": {
     "elapsed": 2174,
     "status": "ok",
     "timestamp": 1613499732590,
     "user": {
      "displayName": "Snbn subedi",
      "photoUrl": "",
      "userId": "08622599957170027744"
     },
     "user_tz": -345
    },
    "id": "Iq_Ug4e15jsW",
    "outputId": "3295298c-2627-4cb8-e21c-1e017feea93b"
   },
   "outputs": [
    {
     "data": {
      "text/plain": [
       "<matplotlib.axes._subplots.AxesSubplot at 0x7f4af7763cf8>"
      ]
     },
     "execution_count": 87,
     "metadata": {
      "tags": []
     },
     "output_type": "execute_result"
    },
    {
     "data": {
      "image/png": "[encoded data removed]",
      "text/plain": [
       "<Figure size 432x288 with 1 Axes>"
      ]
     },
     "metadata": {
      "needs_background": "light",
      "tags": []
     },
     "output_type": "display_data"
    }
   ],
   "source": [
    "losses.plot()"
   ]
  },
  {
   "cell_type": "code",
   "execution_count": null,
   "metadata": {
    "colab": {
     "base_uri": "https://localhost:8080/",
     "height": 282
    },
    "executionInfo": {
     "elapsed": 2013,
     "status": "ok",
     "timestamp": 1613474527751,
     "user": {
      "displayName": "Snbn subedi",
      "photoUrl": "",
      "userId": "08622599957170027744"
     },
     "user_tz": -345
    },
    "id": "UOBvQor8QsOn",
    "outputId": "661e0e75-f3e7-4f1c-8d0d-92fd1144adbb"
   },
   "outputs": [
    {
     "data": {
      "text/plain": [
       "<matplotlib.axes._subplots.AxesSubplot at 0x7fb3a928bc50>"
      ]
     },
     "execution_count": 70,
     "metadata": {
      "tags": []
     },
     "output_type": "execute_result"
    },
    {
     "data": {
      "image/png": "[encoded data removed]",
      "text/plain": [
       "<Figure size 432x288 with 1 Axes>"
      ]
     },
     "metadata": {
      "needs_background": "light",
      "tags": []
     },
     "output_type": "display_data"
    }
   ],
   "source": [
    "losses.plot()"
   ]
  },
  {
   "cell_type": "code",
   "execution_count": 13,
   "metadata": {
    "executionInfo": {
     "elapsed": 8020,
     "status": "ok",
     "timestamp": 1613929888666,
     "user": {
      "displayName": "Snbn subedi",
      "photoUrl": "",
      "userId": "08622599957170027744"
     },
     "user_tz": -345
    },
    "id": "qk-ZuJqUJ5RO"
   },
   "outputs": [
    {
     "name": "stdout",
     "output_type": "stream",
     "text": [
      "WARNING:tensorflow:From C:\\Users\\nbnsu\\anaconda3\\envs\\tfpose\\lib\\site-packages\\keras\\backend\\tensorflow_backend.py:422: The name tf.global_variables is deprecated. Please use tf.compat.v1.global_variables instead.\n",
      "\n"
     ]
    }
   ],
   "source": [
    "prediction=model.predict(X_test)\r\n",
    "prediction=prediction>0.5"
   ]
  },
  {
   "cell_type": "code",
   "execution_count": 15,
   "metadata": {
    "colab": {
     "base_uri": "https://localhost:8080/"
    },
    "executionInfo": {
     "elapsed": 1267,
     "status": "ok",
     "timestamp": 1613913917503,
     "user": {
      "displayName": "Snbn subedi",
      "photoUrl": "",
      "userId": "08622599957170027744"
     },
     "user_tz": -345
    },
    "id": "vv4GWcCsw9ZV",
    "outputId": "7b73bad2-949f-4124-9781-4778b40c7869"
   },
   "outputs": [
    {
     "name": "stdout",
     "output_type": "stream",
     "text": [
      "              precision    recall  f1-score   support\n",
      "\n",
      "           0       0.94      0.78      0.85        37\n",
      "           1       0.84      0.96      0.90        45\n",
      "\n",
      "    accuracy                           0.88        82\n",
      "   macro avg       0.89      0.87      0.87        82\n",
      "weighted avg       0.88      0.88      0.88        82\n",
      "\n"
     ]
    }
   ],
   "source": [
    "print(classification_report(y_test,prediction))"
   ]
  },
  {
   "cell_type": "code",
   "execution_count": null,
   "metadata": {
    "colab": {
     "base_uri": "https://localhost:8080/"
    },
    "executionInfo": {
     "elapsed": 1210,
     "status": "ok",
     "timestamp": 1613552016806,
     "user": {
      "displayName": "Snbn subedi",
      "photoUrl": "",
      "userId": "08622599957170027744"
     },
     "user_tz": -345
    },
    "id": "Fp1rcWz6Mcsa",
    "outputId": "adea73fd-2f7a-4c9b-e80a-6b5077a88d39"
   },
   "outputs": [
    {
     "name": "stdout",
     "output_type": "stream",
     "text": [
      "              precision    recall  f1-score   support\n",
      "\n",
      "           0       0.86      0.86      0.86        37\n",
      "           1       0.89      0.89      0.89        45\n",
      "\n",
      "    accuracy                           0.88        82\n",
      "   macro avg       0.88      0.88      0.88        82\n",
      "weighted avg       0.88      0.88      0.88        82\n",
      "\n"
     ]
    }
   ],
   "source": [
    "print(classification_report(y_test,prediction))"
   ]
  },
  {
   "cell_type": "code",
   "execution_count": null,
   "metadata": {
    "id": "culxj3lZJ5RS"
   },
   "outputs": [],
   "source": [
    "## Custom layers keras: \r\n",
    "\r\n",
    "class SimpleDense(Layer):\r\n",
    "  '''Simple dense layer custom built'''\r\n",
    "  def __init__(self,units,activation=None):\r\n",
    "    super(SimpleDense,self).__init__()\r\n",
    "    self.units=units\r\n",
    "    self.activation=keras.activations.get(activation)\r\n",
    "  \r\n",
    "  def build(self,input_shape):\r\n",
    "    w_init = tf.random_normal_initializer()\r\n",
    "    self.w = tf.Variable(name='kernel',initial_value=w_init(shape=(input_shape[-1],self.units),dtype='float32'),trainable=True)\r\n",
    "    b_init = tf.zeros_initializer()\r\n",
    "    self.b = tf.Variable(name='bias',initial_value=b_init(shape=(self.units),dtype='float32'),trainable=True)\r\n",
    "    super().build(input_shape)\r\n",
    "  def call(self,inputs):\r\n",
    "    return self.activation(tf.matmul(inputs,self.w)+self.b)\r\n",
    "\r\n",
    "\r\n",
    "class Einsum(Layer):\r\n",
    "  def __init__(self,adj,features,activation=None):\r\n",
    "    super(Einsum,self).__init__()\r\n",
    "    self.features=features\r\n",
    "    self.activation=keras.activations.get(activation)\r\n",
    "    self.A_stack = tf.convert_to_tensor(np.stack([adj for _ in range(300)]),dtype='float')\r\n",
    "  \r\n",
    "  def build(self,input_shape):\r\n",
    "    w_init = tf.random_normal_initializer()\r\n",
    "    self.w = tf.Variable(name='kernel',initial_value=w_init(shape=(25,self.features),dtype='float32'),trainable=True)\r\n",
    "    b_init = tf.zeros_initializer()\r\n",
    "    self.b = tf.Variable(name='bias',initial_value=b_init(shape=(self.features),dtype='float32'),trainable=True)\r\n",
    "    super().build(input_shape)\r\n",
    "\r\n",
    "  def call(self,inputs):\r\n",
    "    inputs=tf.transpose(inputs,perm=[0,3,1,2])\r\n",
    "    inputs=tf.einsum('nctv,tvw->nctw', inputs, self.A_stack)\r\n",
    "    inputs=tf.transpose(inputs,perm=[0,2,3,1])\r\n",
    "    return self.activation(tf.multiply(inputs,self.w)+self.b)"
   ]
  },
  {
   "cell_type": "markdown",
   "metadata": {
    "id": "1L5oUz2P2Ga8"
   },
   "source": [
    "## Save and Load model weights"
   ]
  },
  {
   "cell_type": "code",
   "execution_count": null,
   "metadata": {
    "id": "3QDU-EtucSVJ"
   },
   "outputs": [],
   "source": [
    "model.save_weights('./checkpointts/my_checkpoint')"
   ]
  },
  {
   "cell_type": "code",
   "execution_count": null,
   "metadata": {
    "id": "QPxQDCWLhQLy"
   },
   "outputs": [],
   "source": [
    "!cp -r /content/checkpointts /content/drive/MyDrive/Gcn/C_NC_csv_data/chkpnt_e600_t80_d400/"
   ]
  },
  {
   "cell_type": "code",
   "execution_count": null,
   "metadata": {
    "id": "9fIo4b7feRHU"
   },
   "outputs": [],
   "source": [
    "!rm -r checkpointts/"
   ]
  },
  {
   "cell_type": "code",
   "execution_count": 13,
   "metadata": {
    "colab": {
     "base_uri": "https://localhost:8080/"
    },
    "executionInfo": {
     "elapsed": 2251,
     "status": "ok",
     "timestamp": 1613913879143,
     "user": {
      "displayName": "Snbn subedi",
      "photoUrl": "",
      "userId": "08622599957170027744"
     },
     "user_tz": -345
    },
    "id": "pDoRPhqNwG_Z",
    "outputId": "a4c21d8e-4a9b-4611-f6af-74bbd70f5c4a"
   },
   "outputs": [
    {
     "data": {
      "text/plain": [
       "<tensorflow.python.training.tracking.util.CheckpointLoadStatus at 0x7f505030ea20>"
      ]
     },
     "execution_count": 13,
     "metadata": {
      "tags": []
     },
     "output_type": "execute_result"
    }
   ],
   "source": [
    "model.load_weights('/content/drive/MyDrive/Gcn/C_NC_csv_data/chkpnt_e600_t80_d400/my_checkpoint')"
   ]
  },
  {
   "cell_type": "code",
   "execution_count": 12,
   "metadata": {},
   "outputs": [],
   "source": [
    "model.load_weights('GCN/my_checkpoint.h5')"
   ]
  },
  {
   "cell_type": "markdown",
   "metadata": {
    "id": "q7w7GwJ018J-"
   },
   "source": [
    "## Save and Load whole Model "
   ]
  },
  {
   "cell_type": "code",
   "execution_count": 57,
   "metadata": {
    "executionInfo": {
     "elapsed": 1051,
     "status": "ok",
     "timestamp": 1613931034177,
     "user": {
      "displayName": "Snbn subedi",
      "photoUrl": "",
      "userId": "08622599957170027744"
     },
     "user_tz": -345
    },
    "id": "mprq_uUFyTfT"
   },
   "outputs": [],
   "source": [
    "model.save('./whole_model/my_checkpoint')"
   ]
  },
  {
   "cell_type": "code",
   "execution_count": 58,
   "metadata": {
    "executionInfo": {
     "elapsed": 948,
     "status": "ok",
     "timestamp": 1613931113881,
     "user": {
      "displayName": "Snbn subedi",
      "photoUrl": "",
      "userId": "08622599957170027744"
     },
     "user_tz": -345
    },
    "id": "aKsdiLU2zTBk"
   },
   "outputs": [],
   "source": [
    "!cp -r /content/whole_model /content/drive/MyDrive/Gcn/C_NC_csv_data/whole_model_e600_t80_d400/"
   ]
  },
  {
   "cell_type": "code",
   "execution_count": 16,
   "metadata": {
    "colab": {
     "base_uri": "https://localhost:8080/"
    },
    "executionInfo": {
     "elapsed": 1405,
     "status": "ok",
     "timestamp": 1613929839534,
     "user": {
      "displayName": "Snbn subedi",
      "photoUrl": "",
      "userId": "08622599957170027744"
     },
     "user_tz": -345
    },
    "id": "dqQWIZXjzr2q",
    "outputId": "31a445db-4c69-4eae-e0e2-8bc1a5e601a6"
   },
   "outputs": [
    {
     "name": "stdout",
     "output_type": "stream",
     "text": [
      "WARNING:tensorflow:No training configuration found in save file, so the model was *not* compiled. Compile it manually.\n"
     ]
    }
   ],
   "source": [
    "model=keras.models.load_model('/content/drive/MyDrive/Gcn/C_NC_csv_data/whole_model_e600_t80_d400/my_checkpoint')"
   ]
  },
  {
   "cell_type": "code",
   "execution_count": 53,
   "metadata": {
    "executionInfo": {
     "elapsed": 1208,
     "status": "ok",
     "timestamp": 1613930970563,
     "user": {
      "displayName": "Snbn subedi",
      "photoUrl": "",
      "userId": "08622599957170027744"
     },
     "user_tz": -345
    },
    "id": "eupWwJ0pxAHe"
   },
   "outputs": [],
   "source": [
    "a= np.expand_dims(X[200],axis=0)"
   ]
  },
  {
   "cell_type": "code",
   "execution_count": 54,
   "metadata": {
    "colab": {
     "base_uri": "https://localhost:8080/"
    },
    "executionInfo": {
     "elapsed": 896,
     "status": "ok",
     "timestamp": 1613930970564,
     "user": {
      "displayName": "Snbn subedi",
      "photoUrl": "",
      "userId": "08622599957170027744"
     },
     "user_tz": -345
    },
    "id": "k4TNmpAZxQ5n",
    "outputId": "5c735214-9c1e-40ca-f65d-98d6789b5695"
   },
   "outputs": [
    {
     "data": {
      "text/plain": [
       "(1, 300, 25, 2)"
      ]
     },
     "execution_count": 54,
     "metadata": {
      "tags": []
     },
     "output_type": "execute_result"
    }
   ],
   "source": [
    "a.shape"
   ]
  },
  {
   "cell_type": "code",
   "execution_count": 55,
   "metadata": {
    "executionInfo": {
     "elapsed": 1020,
     "status": "ok",
     "timestamp": 1613930971038,
     "user": {
      "displayName": "Snbn subedi",
      "photoUrl": "",
      "userId": "08622599957170027744"
     },
     "user_tz": -345
    },
    "id": "-IGEzBD7wvHG"
   },
   "outputs": [],
   "source": [
    "res=model.predict(a)"
   ]
  },
  {
   "cell_type": "code",
   "execution_count": 56,
   "metadata": {
    "colab": {
     "base_uri": "https://localhost:8080/"
    },
    "executionInfo": {
     "elapsed": 984,
     "status": "ok",
     "timestamp": 1613930971486,
     "user": {
      "displayName": "Snbn subedi",
      "photoUrl": "",
      "userId": "08622599957170027744"
     },
     "user_tz": -345
    },
    "id": "dHTxqjv5xaAb",
    "outputId": "470f8900-2076-4147-9139-f345bbd3c8a2"
   },
   "outputs": [
    {
     "data": {
      "text/plain": [
       "array([[ True]])"
      ]
     },
     "execution_count": 56,
     "metadata": {
      "tags": []
     },
     "output_type": "execute_result"
    }
   ],
   "source": [
    "res>0.5"
   ]
  },
  {
   "cell_type": "code",
   "execution_count": 52,
   "metadata": {
    "colab": {
     "base_uri": "https://localhost:8080/"
    },
    "executionInfo": {
     "elapsed": 958,
     "status": "ok",
     "timestamp": 1613930960660,
     "user": {
      "displayName": "Snbn subedi",
      "photoUrl": "",
      "userId": "08622599957170027744"
     },
     "user_tz": -345
    },
    "id": "qiQ1PomKxobG",
    "outputId": "35af10d2-1b61-4424-c624-a954de1d5ed7"
   },
   "outputs": [
    {
     "data": {
      "text/plain": [
       "1"
      ]
     },
     "execution_count": 52,
     "metadata": {
      "tags": []
     },
     "output_type": "execute_result"
    }
   ],
   "source": [
    "Y[200]"
   ]
  },
  {
   "cell_type": "code",
   "execution_count": null,
   "metadata": {
    "id": "ZSIKuT-Qx7i9"
   },
   "outputs": [],
   "source": []
  }
 ],
 "metadata": {
  "accelerator": "GPU",
  "colab": {
   "authorship_tag": "ABX9TyPtvW272Gs+10z5CHC/wjoX",
   "collapsed_sections": [],
   "mount_file_id": "1qkALtqCBqvPwarIsL7m9WKvidv45GiP4",
   "name": "Tf_model_d.ipynb",
   "provenance": []
  },
  "kernelspec": {
   "display_name": "Python 3.6.12 64-bit ('tfpose': conda)",
   "language": "python",
   "name": "python361264bittfposeconda7f29cfc9965a42818f90599a9450e2d2"
  },
  "language_info": {
   "codemirror_mode": {
    "name": "ipython",
    "version": 3
   },
   "file_extension": ".py",
   "mimetype": "text/x-python",
   "name": "python",
   "nbconvert_exporter": "python",
   "pygments_lexer": "ipython3",
   "version": "3.6.12"
  }
 },
 "nbformat": 4,
 "nbformat_minor": 4
}
