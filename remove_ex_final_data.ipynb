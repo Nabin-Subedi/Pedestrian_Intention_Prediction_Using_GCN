{
 "cells": [
  {
   "cell_type": "code",
   "execution_count": 1,
   "metadata": {},
   "outputs": [],
   "source": [
    "import json\n",
    "import xml.etree.ElementTree as et\n",
    "import os\n",
    "# import cv2\n",
    "import numpy as np\n",
    "import sys\n",
    "import pandas as pd"
   ]
  },
  {
   "cell_type": "code",
   "execution_count": null,
   "metadata": {},
   "outputs": [],
   "source": [
    "# %reload_ext autoreload\n",
    "# %autoreload 2"
   ]
  },
  {
   "cell_type": "markdown",
   "metadata": {},
   "source": [
    "## Dividing data to crossing and not crossing (2nd)"
   ]
  },
  {
   "cell_type": "code",
   "execution_count": 147,
   "metadata": {},
   "outputs": [],
   "source": [
    "#### for filtering crossing and not crossing ###\n",
    "def get_cnc_id(data):\n",
    "    crossing_id_frame={}\n",
    "    ncrossing_id=[]\n",
    "    person_ids=[*data]\n",
    "    for person_id in person_ids:\n",
    "        frames=[*data[person_id]]\n",
    "        count=0\n",
    "        if (data[person_id][frames[0]]['c_nc']=='crossing'): # ignoring crossing from the start person.\n",
    "            continue\n",
    "\n",
    "        crossing=False\n",
    "        nc_candidate=False\n",
    "\n",
    "        for frame in frames:\n",
    "            c_nc=data[person_id][frame]['c_nc']\n",
    "            if c_nc=='not-crossing':\n",
    "                nc_candidate=True\n",
    "            elif c_nc=='crossing':\n",
    "                crossing=True\n",
    "                nc_candidate=False\n",
    "                last_frame=int(frame)\n",
    "                break\n",
    "        if crossing==True:\n",
    "            crossing_id_frame[person_id]=str(last_frame)\n",
    "        elif nc_candidate==True:\n",
    "            ncrossing_id.append(person_id)\n",
    "    return crossing_id_frame,ncrossing_id\n",
    "    "
   ]
  },
  {
   "cell_type": "code",
   "execution_count": 219,
   "metadata": {},
   "outputs": [],
   "source": [
    "for i in range(5,347):\n",
    "    video_num='0000'+str(i)\n",
    "    video_num=video_num[-4:]\n",
    "    json_path='./final_annot/data_with_keypoints/video_'+video_num+'.json' #'./annot_json/video_'+video_num+'.json' \n",
    "\n",
    "    with open(json_path,'r') as f:\n",
    "        data=json.load(f)\n",
    "\n",
    "    crossing_id_frame,ncrossing_id=get_cnc_id(data)\n",
    "    \n",
    "    if len(crossing_id_frame)!= 0:\n",
    "        new_data_crossing={}\n",
    "        for person_id in crossing_id_frame:\n",
    "            frames=[*data[person_id]]\n",
    "            frame_dict={}\n",
    "            for frame in frames:\n",
    "                box=data[person_id][frame]['bbox']\n",
    "                c_nc=data[person_id][frame]['c_nc']\n",
    "                keypoints=data[person_id][frame]['keypoints']\n",
    "                frame_dict[frame]={'bbox':box,'c_nc':c_nc,'keypoints':keypoints}\n",
    "                if frame==crossing_id_frame[person_id]:\n",
    "                    break\n",
    "            new_data_crossing[person_id]=frame_dict\n",
    "\n",
    "        json_write_path_crossing='./final_annot/crossing_candidate/video_'+video_num+'.json'\n",
    "\n",
    "        #for writing json\n",
    "        with open(json_write_path_crossing,'w') as f:\n",
    "            json.dump(new_data_crossing,f,indent=2)\n",
    "\n",
    "    if len(ncrossing_id)!= 0:\n",
    "        new_data_ncrossing={}\n",
    "        for person_id in ncrossing_id:\n",
    "            frames=[*data[person_id]]\n",
    "            frame_dict={}\n",
    "            for frame in frames:\n",
    "                box=data[person_id][frame]['bbox']\n",
    "                c_nc=data[person_id][frame]['c_nc']\n",
    "                keypoints=data[person_id][frame]['keypoints']\n",
    "                frame_dict[frame]={'bbox':box,'c_nc':c_nc,'keypoints':keypoints}\n",
    "            new_data_ncrossing[person_id]=frame_dict\n",
    "\n",
    "        json_write_path_ncrossing='./final_annot/ncrossing_candidate/video_'+video_num+'.json'\n",
    "\n",
    "        ##for writing json\n",
    "        with open(json_write_path_ncrossing,'w') as f:\n",
    "            json.dump(new_data_ncrossing,f,indent=2)"
   ]
  },
  {
   "cell_type": "code",
   "execution_count": 214,
   "metadata": {},
   "outputs": [],
   "source": [
    "crossing_id_frame,ncrossing_id=get_cnc_id(data)"
   ]
  },
  {
   "cell_type": "code",
   "execution_count": 215,
   "metadata": {},
   "outputs": [
    {
     "data": {
      "text/plain": [
       "['person_0']"
      ]
     },
     "execution_count": 215,
     "metadata": {},
     "output_type": "execute_result"
    }
   ],
   "source": [
    "ncrossing_id"
   ]
  },
  {
   "cell_type": "code",
   "execution_count": 216,
   "metadata": {},
   "outputs": [
    {
     "data": {
      "text/plain": [
       "{}"
      ]
     },
     "execution_count": 216,
     "metadata": {},
     "output_type": "execute_result"
    }
   ],
   "source": [
    "crossing_id_frame"
   ]
  },
  {
   "cell_type": "code",
   "execution_count": 116,
   "metadata": {},
   "outputs": [
    {
     "data": {
      "text/plain": [
       "'18'"
      ]
     },
     "execution_count": 116,
     "metadata": {},
     "output_type": "execute_result"
    }
   ],
   "source": [
    "[*data[person_id]][0]"
   ]
  },
  {
   "cell_type": "markdown",
   "metadata": {},
   "source": [
    "## Getting keypoints and creating new json with keypoints for each frame(1st)"
   ]
  },
  {
   "cell_type": "code",
   "execution_count": 60,
   "metadata": {},
   "outputs": [],
   "source": [
    "def iou_end(bbox, candidates):\n",
    "    \"\"\"Computes intersection over union.\n",
    "\n",
    "    Parameters\n",
    "    ----------\n",
    "    bbox : ndarray\n",
    "        A bounding box in format `(top left x, top left y, width, height)`.\n",
    "    candidates : ndarray\n",
    "        A matrix of candidate bounding boxes (one per row) in the same format\n",
    "        as `bbox`.\n",
    "\n",
    "    Returns\n",
    "    -------\n",
    "    ndarray\n",
    "        The intersection over union in [0, 1] between the `bbox` and each\n",
    "        candidate. A higher score means a larger fraction of the `bbox` is\n",
    "        occluded by the candidate.\n",
    "\n",
    "    \"\"\"\n",
    "    bbox_tl, bbox_br = bbox[:2], bbox[:2] + bbox[2:]\n",
    "    candidates_tl = candidates[:, :2]\n",
    "    candidates_br = candidates[:, :2] + candidates[:, 2:]\n",
    "\n",
    "    tl = np.c_[np.maximum(bbox_tl[0], candidates_tl[:, 0])[:, np.newaxis],\n",
    "               np.maximum(bbox_tl[1], candidates_tl[:, 1])[:, np.newaxis]]\n",
    "    br = np.c_[np.minimum(bbox_br[0], candidates_br[:, 0])[:, np.newaxis],\n",
    "               np.minimum(bbox_br[1], candidates_br[:, 1])[:, np.newaxis]]\n",
    "    wh = np.maximum(0., br - tl)\n",
    "\n",
    "    area_intersection = wh.prod(axis=1)\n",
    "    area_bbox = bbox[2:].prod()\n",
    "    area_candidates = candidates[:, 2:].prod(axis=1)\n",
    "    return area_intersection / (area_bbox + area_candidates - area_intersection)"
   ]
  },
  {
   "cell_type": "code",
   "execution_count": 87,
   "metadata": {},
   "outputs": [],
   "source": [
    "###### for keypoints openpose json#####\n",
    "def calculate_boxes(keypoints):\n",
    "    keypoints=keypoints[np.invert(keypoints[:,2]==0)]\n",
    "    #keypoints=keypoints[np.all(keypoints != 0, axis=1)] # for comparing if all three values in a row is equal to zero. \n",
    "    x1=keypoints[:,0].min()\n",
    "    y1=keypoints[:,1].min()\n",
    "    x2=keypoints[:,0].max()\n",
    "    y2=keypoints[:,1].max()\n",
    "    width=x2-x1\n",
    "    height=y2-y1\n",
    "    height=height+(0.08*height)\n",
    "    y1=max((y1-(0.08*height)),0)\n",
    "    bbox=[x1,y1,width,height]\n",
    "    return bbox\n",
    "\n",
    "def get_keypoints_and_boxes(file_name):\n",
    "    bboxes=[]\n",
    "    keypoints_lists=[]\n",
    "    with open (file_name) as f:\n",
    "        data= json .load(f)\n",
    "    if len(data['people'])==0:\n",
    "        bboxes.append([0.0,0.0,0.0,0.0])\n",
    "        keypoints_lists.append(np.zeros((25,2)).tolist())\n",
    "    else:\n",
    "        for i in range(len(data['people'])):\n",
    "            keypoints=data['people'][i]['pose_keypoints_2d']\n",
    "            keypoints=np.array(keypoints)\n",
    "            keypoints=keypoints.reshape(25,3)\n",
    "            keypoints_array=keypoints.copy()\n",
    "            keypoints=keypoints.tolist()\n",
    "            keypoints_lists.append(keypoints_array[:,:2].tolist())\n",
    "\n",
    "            bbox=calculate_boxes(keypoints_array)\n",
    "            bboxes.append(bbox)\n",
    "    return bboxes,keypoints_lists\n",
    "\n",
    "def convert_to_tlwh(bbox):\n",
    "    x1=float(bbox[0])\n",
    "    y1=float(bbox[1])\n",
    "    x2=float(bbox[2])\n",
    "    y2=float(bbox[3])\n",
    "    width=x2-x1\n",
    "    height=y2-y1\n",
    "    box=[x1,y1,width,height]\n",
    "    return box\n",
    "\n",
    "def convert_to_tlbr(bbox):\n",
    "    x1=float(bbox[0])\n",
    "    y1=float(bbox[1])\n",
    "    width=float(bbox[2])\n",
    "    height=float(bbox[3])\n",
    "    x2=x1+width\n",
    "    y2=y1+height\n",
    "    box=[x1,y1,x2,y2]\n",
    "    return box"
   ]
  },
  {
   "cell_type": "code",
   "execution_count": 86,
   "metadata": {},
   "outputs": [],
   "source": [
    "##### for openpose keypoints and jaad boxes both ######\n",
    "# def get_head_cord(bbox,boxes,head_cords):\n",
    "#     '''\n",
    "#     Comparing tracked boxes with original boxes based on iou \n",
    "#     and getting head co-ordinate of that person in paricular bounding box.\n",
    "#     Note: head_cord in'head_cords' for each person is in same position as bounding box in 'boxes'  \n",
    "#     '''\n",
    "#     iou_values=iou_end(bbox, boxes)\n",
    "#     iou_dict={'position':np.argmax(iou_values),'iou_value':np.max(iou_values)}\n",
    "#     if iou_dict['iou_value'] >0.80:\n",
    "#         head_cord=head_cords[iou_dict['position']]\n",
    "#     else:\n",
    "#         head_cord=(None,None)\n",
    "#     return head_cord\n",
    "\n",
    "def get_keypoints(bbox,boxes,keypoints_lists):\n",
    "    '''\n",
    "    Comparing tracked boxes with original boxes based on iou \n",
    "    and getting head co-ordinate of that person in paricular bounding box.\n",
    "    Note: head_cord in'head_cords' for each person is in same position as bounding box in 'boxes'  \n",
    "    '''\n",
    "    bbox=np.array(bbox)\n",
    "    boxes=np.array(boxes)\n",
    "    iou_values=iou_end(bbox, boxes)\n",
    "    iou_dict={'position':np.argmax(iou_values),'iou_value':np.max(iou_values)}\n",
    "    if iou_dict['iou_value'] >0.10: #0.90 # infact change this to 0 to take any highest probablity value\n",
    "        keypoints_list=keypoints_lists[iou_dict['position']]\n",
    "    else:\n",
    "        keypoints_list=np.zeros((25,2)).tolist() # make 25*2 matrix of zeros or think...\n",
    "    return keypoints_list"
   ]
  },
  {
   "cell_type": "code",
   "execution_count": 91,
   "metadata": {},
   "outputs": [],
   "source": [
    "# for jaad json\n",
    "for i in range(1,347):\n",
    "    video_num='0000'+str(i)\n",
    "    video_num=video_num[-4:]\n",
    "    json_path='./annot_json/video_'+video_num+'.json'\n",
    "\n",
    "    with open(json_path,'r') as f:\n",
    "        jaad_data=json.load(f)\n",
    "\n",
    "    #for keypoints json\n",
    "    total_frame =len(os.listdir('./nbn_output/video_'+video_num))\n",
    "\n",
    "    for frame_num in range(total_frame):\n",
    "        if len(jaad_data)==0:\n",
    "            break\n",
    "        file_num='000000000000'+str(frame_num)\n",
    "        file_num=file_num[-12:]\n",
    "        file_name='./nbn_output/video_'+video_num+'/video_'+video_num+'_'+file_num+'_keypoints.json'\n",
    "        with open(json_path,'r') as f:\n",
    "            keypoints_data=json.load(f)\n",
    "\n",
    "        #getting bbox from jaad data dictionary for every person in this frame_num\n",
    "        jaad_bboxes={}\n",
    "        for person_id in range (len(jaad_data)):\n",
    "            keys=[*jaad_data]\n",
    "            try:\n",
    "                jaad_bbox_tlbr=jaad_data[keys[person_id]][str(frame_num)]['bbox']\n",
    "                jaad_bbox=convert_to_tlwh(jaad_bbox_tlbr)\n",
    "            except:\n",
    "                continue\n",
    "            jaad_bboxes[keys[person_id]]=jaad_bbox\n",
    "\n",
    "        pose_bboxes,keypoints_lists=get_keypoints_and_boxes(file_name) # here pose_bboxes is list of list and one bbox is in the form x,y,w,h\n",
    "        for person_id in jaad_bboxes:\n",
    "            try:\n",
    "                keypoints_list=get_keypoints(jaad_bboxes[person_id],pose_bboxes,keypoints_lists) #here 1 keypoints_list can be related to more than 1 id incase of congestion\n",
    "            except:\n",
    "                print(file_name)\n",
    "                print(jaad_bboxes[person_id])\n",
    "                print('....')\n",
    "                print(pose_bboxes)\n",
    "                sys.exit('got exception')\n",
    "            jaad_data[person_id][str(frame_num)]['keypoints']=keypoints_list\n",
    "\n",
    "    json_write_path='./final_annot/data_with_keypoints/video_'+video_num+'.json'\n",
    "\n",
    "    ##for writing json\n",
    "#     with open(json_write_path,'w') as f:\n",
    "#         json.dump(jaad_data,f,indent=2)\n"
   ]
  },
  {
   "cell_type": "markdown",
   "metadata": {},
   "source": [
    "## Converting data to (300, 25, 2) and dataframe and saving csv as (15000,) df"
   ]
  },
  {
   "cell_type": "code",
   "execution_count": 255,
   "metadata": {},
   "outputs": [],
   "source": [
    "## for not-crossing dataset\n",
    "files_name=os.listdir('./final_annot/ncrossing_candidate/')\n",
    "files_num=len(files_name)\n",
    "\n",
    "ncrossing_df=pd.DataFrame(index=np.arange(0,158),columns=['keypoints','C/NC'])\n",
    "ncrossing_df['C/NC']='NC'\n",
    "index=0\n",
    "\n",
    "ncrossing_json={}\n",
    "for file_name in files_name:\n",
    "    json_path='./final_annot/ncrossing_candidate/'+file_name\n",
    "    with open(json_path,'r') as f:\n",
    "        crossing_data=json.load(f)\n",
    "    for person_id in crossing_data:\n",
    "        keypoints_lists=[]\n",
    "        if len(crossing_data[person_id])>300:\n",
    "            frames_to_ignore=len(crossing_data[person_id])-300\n",
    "        for frame in crossing_data[person_id]:\n",
    "            if frames_to_ignore>0:\n",
    "                frames_to_ignore-=1\n",
    "                continue\n",
    "            keypoints_lists.append(crossing_data[person_id][frame]['keypoints'])\n",
    "        for _ in range(len(keypoints_lists),300):\n",
    "            keypoints_lists.append(np.zeros((25,2)).tolist())\n",
    "            \n",
    "            \n",
    "        keypoints_array=np.array(keypoints_lists)\n",
    "        keypoints_array_flat=keypoints_array.flatten()\n",
    "        ncrossing_json[index]=keypoints_array_flat.tolist()   \n",
    "        \n",
    "        ncrossing_df['keypoints'][index]=keypoints_array_flat\n",
    "        index+=1"
   ]
  },
  {
   "cell_type": "code",
   "execution_count": 280,
   "metadata": {
    "jupyter": {
     "source_hidden": true
    }
   },
   "outputs": [],
   "source": [
    "## for csv dump##\n",
    "# np.set_printoptions(threshold=sys.maxsize)\n",
    "# ncrossing_df.to_csv('./final_annot/csv_data/ncrossing.csv',index=False)\n",
    "\n",
    "## for json dump##\n",
    "# json_write_path='./final_annot/csv_data/ncrossing.json'\n",
    "\n",
    "#     ##for writing json\n",
    "# with open(json_write_path,'w') as f:\n",
    "#     json.dump(ncrossing_json,f) #,indent=2)"
   ]
  },
  {
   "cell_type": "code",
   "execution_count": 265,
   "metadata": {},
   "outputs": [
    {
     "data": {
      "text/plain": [
       "158"
      ]
     },
     "execution_count": 265,
     "metadata": {},
     "output_type": "execute_result"
    }
   ],
   "source": [
    "len(ncrossing_json)"
   ]
  },
  {
   "cell_type": "code",
   "execution_count": 264,
   "metadata": {},
   "outputs": [],
   "source": [
    "# for i in range(157):\n",
    "#     #print(ncrossing_df['keypoints'][i].shape)\n",
    "#     print(len(ncrossing_json[i]))"
   ]
  },
  {
   "cell_type": "code",
   "execution_count": 267,
   "metadata": {},
   "outputs": [],
   "source": [
    "crossing_data"
   ]
  },
  {
   "cell_type": "code",
   "execution_count": 268,
   "metadata": {
    "jupyter": {
     "source_hidden": true
    }
   },
   "outputs": [],
   "source": [
    "## for crossing dataset\n",
    "files_name=os.listdir('./final_annot/crossing_candidate/')\n",
    "files_num=len(files_name)\n",
    "\n",
    "crossing_df=pd.DataFrame(index=np.arange(0,287),columns=['keypoints','C/NC'])\n",
    "crossing_df['C/NC']='C'\n",
    "index=0\n",
    "frames_to_ignore=0\n",
    "crossing_json={}\n",
    "for file_name in files_name:\n",
    "    json_path='./final_annot/crossing_candidate/'+file_name\n",
    "    with open(json_path,'r') as f:\n",
    "        crossing_data=json.load(f)\n",
    "    for person_id in crossing_data:\n",
    "        keypoints_lists=[]\n",
    "        if len(crossing_data[person_id])>300:\n",
    "            frames_to_ignore=len(crossing_data[person_id])-300\n",
    "        for frame in crossing_data[person_id]:\n",
    "            if frames_to_ignore>0:\n",
    "                frames_to_ignore-=1\n",
    "                continue\n",
    "            keypoints_lists.append(crossing_data[person_id][frame]['keypoints'])\n",
    "        for _ in range(len(keypoints_lists),300):\n",
    "            keypoints_lists.append(np.zeros((25,2)).tolist())\n",
    "            \n",
    "        keypoints_array=np.array(keypoints_lists)\n",
    "        keypoints_array_flat=keypoints_array.flatten()\n",
    "        crossing_json[index]=keypoints_array_flat.tolist()\n",
    "        \n",
    "        crossing_df['keypoints'][index]=keypoints_array_flat\n",
    "        index+=1"
   ]
  },
  {
   "cell_type": "code",
   "execution_count": 273,
   "metadata": {
    "jupyter": {
     "source_hidden": true
    }
   },
   "outputs": [],
   "source": [
    "## for crossing json dump##\n",
    "# crossing_df.to_csv('./final_annot/csv_data/crossing.csv',index=False)\n",
    "\n",
    "## for ncrossing json dump##\n",
    "json_write_path='./final_annot/csv_data/crossing.json'\n",
    "\n",
    "    ##for writing json\n",
    "with open(json_write_path,'w') as f:\n",
    "    json.dump(crossing_json,f) #,indent=2)"
   ]
  },
  {
   "cell_type": "code",
   "execution_count": 269,
   "metadata": {},
   "outputs": [
    {
     "data": {
      "text/plain": [
       "287"
      ]
     },
     "execution_count": 269,
     "metadata": {},
     "output_type": "execute_result"
    }
   ],
   "source": [
    "len(crossing_json)"
   ]
  },
  {
   "cell_type": "code",
   "execution_count": 276,
   "metadata": {},
   "outputs": [],
   "source": [
    "# for i in range(287):\n",
    "#     print(crossing_df['keypoints'][i].shape)\n",
    "#     #print(len(crossing_json[i]))"
   ]
  },
  {
   "cell_type": "code",
   "execution_count": 277,
   "metadata": {
    "collapsed": true,
    "jupyter": {
     "outputs_hidden": true
    }
   },
   "outputs": [
    {
     "data": {
      "text/html": [
       "<div>\n",
       "<style scoped>\n",
       "    .dataframe tbody tr th:only-of-type {\n",
       "        vertical-align: middle;\n",
       "    }\n",
       "\n",
       "    .dataframe tbody tr th {\n",
       "        vertical-align: top;\n",
       "    }\n",
       "\n",
       "    .dataframe thead th {\n",
       "        text-align: right;\n",
       "    }\n",
       "</style>\n",
       "<table border=\"1\" class=\"dataframe\">\n",
       "  <thead>\n",
       "    <tr style=\"text-align: right;\">\n",
       "      <th></th>\n",
       "      <th>keypoints</th>\n",
       "      <th>C/NC</th>\n",
       "    </tr>\n",
       "  </thead>\n",
       "  <tbody>\n",
       "    <tr>\n",
       "      <th>0</th>\n",
       "      <td>[568.542, 718.622, 592.123, 739.291, 603.817, ...</td>\n",
       "      <td>NC</td>\n",
       "    </tr>\n",
       "    <tr>\n",
       "      <th>1</th>\n",
       "      <td>[1448.57, 674.503, 1442.74, 698.071, 1422.12, ...</td>\n",
       "      <td>NC</td>\n",
       "    </tr>\n",
       "    <tr>\n",
       "      <th>2</th>\n",
       "      <td>[0.0, 0.0, 0.0, 0.0, 0.0, 0.0, 0.0, 0.0, 0.0, ...</td>\n",
       "      <td>NC</td>\n",
       "    </tr>\n",
       "    <tr>\n",
       "      <th>3</th>\n",
       "      <td>[998.371, 695.195, 1001.12, 712.743, 989.487, ...</td>\n",
       "      <td>NC</td>\n",
       "    </tr>\n",
       "    <tr>\n",
       "      <th>4</th>\n",
       "      <td>[1110.14, 692.249, 1104.25, 701.048, 1095.41, ...</td>\n",
       "      <td>NC</td>\n",
       "    </tr>\n",
       "    <tr>\n",
       "      <th>...</th>\n",
       "      <td>...</td>\n",
       "      <td>...</td>\n",
       "    </tr>\n",
       "    <tr>\n",
       "      <th>153</th>\n",
       "      <td>[0.0, 0.0, 951.211, 612.727, 954.079, 615.62, ...</td>\n",
       "      <td>NC</td>\n",
       "    </tr>\n",
       "    <tr>\n",
       "      <th>154</th>\n",
       "      <td>[998.272, 680.349, 1001.15, 695.095, 986.477, ...</td>\n",
       "      <td>NC</td>\n",
       "    </tr>\n",
       "    <tr>\n",
       "      <th>155</th>\n",
       "      <td>[0.0, 0.0, 1051.22, 727.479, 1062.96, 727.484,...</td>\n",
       "      <td>NC</td>\n",
       "    </tr>\n",
       "    <tr>\n",
       "      <th>156</th>\n",
       "      <td>[998.272, 680.349, 1001.15, 695.095, 986.477, ...</td>\n",
       "      <td>NC</td>\n",
       "    </tr>\n",
       "    <tr>\n",
       "      <th>157</th>\n",
       "      <td>[0.0, 0.0, 0.0, 0.0, 0.0, 0.0, 0.0, 0.0, 0.0, ...</td>\n",
       "      <td>NC</td>\n",
       "    </tr>\n",
       "  </tbody>\n",
       "</table>\n",
       "<p>158 rows × 2 columns</p>\n",
       "</div>"
      ],
      "text/plain": [
       "                                             keypoints C/NC\n",
       "0    [568.542, 718.622, 592.123, 739.291, 603.817, ...   NC\n",
       "1    [1448.57, 674.503, 1442.74, 698.071, 1422.12, ...   NC\n",
       "2    [0.0, 0.0, 0.0, 0.0, 0.0, 0.0, 0.0, 0.0, 0.0, ...   NC\n",
       "3    [998.371, 695.195, 1001.12, 712.743, 989.487, ...   NC\n",
       "4    [1110.14, 692.249, 1104.25, 701.048, 1095.41, ...   NC\n",
       "..                                                 ...  ...\n",
       "153  [0.0, 0.0, 951.211, 612.727, 954.079, 615.62, ...   NC\n",
       "154  [998.272, 680.349, 1001.15, 695.095, 986.477, ...   NC\n",
       "155  [0.0, 0.0, 1051.22, 727.479, 1062.96, 727.484,...   NC\n",
       "156  [998.272, 680.349, 1001.15, 695.095, 986.477, ...   NC\n",
       "157  [0.0, 0.0, 0.0, 0.0, 0.0, 0.0, 0.0, 0.0, 0.0, ...   NC\n",
       "\n",
       "[158 rows x 2 columns]"
      ]
     },
     "execution_count": 277,
     "metadata": {},
     "output_type": "execute_result"
    }
   ],
   "source": [
    "ncrossing_df"
   ]
  },
  {
   "cell_type": "code",
   "execution_count": 278,
   "metadata": {},
   "outputs": [
    {
     "data": {
      "text/html": [
       "<div>\n",
       "<style scoped>\n",
       "    .dataframe tbody tr th:only-of-type {\n",
       "        vertical-align: middle;\n",
       "    }\n",
       "\n",
       "    .dataframe tbody tr th {\n",
       "        vertical-align: top;\n",
       "    }\n",
       "\n",
       "    .dataframe thead th {\n",
       "        text-align: right;\n",
       "    }\n",
       "</style>\n",
       "<table border=\"1\" class=\"dataframe\">\n",
       "  <thead>\n",
       "    <tr style=\"text-align: right;\">\n",
       "      <th></th>\n",
       "      <th>keypoints</th>\n",
       "      <th>C/NC</th>\n",
       "    </tr>\n",
       "  </thead>\n",
       "  <tbody>\n",
       "    <tr>\n",
       "      <th>0</th>\n",
       "      <td>[0.0, 0.0, 0.0, 0.0, 0.0, 0.0, 0.0, 0.0, 0.0, ...</td>\n",
       "      <td>C</td>\n",
       "    </tr>\n",
       "    <tr>\n",
       "      <th>1</th>\n",
       "      <td>[0.0, 0.0, 0.0, 0.0, 0.0, 0.0, 0.0, 0.0, 0.0, ...</td>\n",
       "      <td>C</td>\n",
       "    </tr>\n",
       "    <tr>\n",
       "      <th>2</th>\n",
       "      <td>[0.0, 0.0, 0.0, 0.0, 0.0, 0.0, 0.0, 0.0, 0.0, ...</td>\n",
       "      <td>C</td>\n",
       "    </tr>\n",
       "    <tr>\n",
       "      <th>3</th>\n",
       "      <td>[0.0, 0.0, 0.0, 0.0, 0.0, 0.0, 0.0, 0.0, 0.0, ...</td>\n",
       "      <td>C</td>\n",
       "    </tr>\n",
       "    <tr>\n",
       "      <th>4</th>\n",
       "      <td>[1354.36, 648.205, 1357.44, 662.749, 1366.14, ...</td>\n",
       "      <td>C</td>\n",
       "    </tr>\n",
       "    <tr>\n",
       "      <th>...</th>\n",
       "      <td>...</td>\n",
       "      <td>...</td>\n",
       "    </tr>\n",
       "    <tr>\n",
       "      <th>282</th>\n",
       "      <td>[0.0, 0.0, 0.0, 0.0, 0.0, 0.0, 0.0, 0.0, 0.0, ...</td>\n",
       "      <td>C</td>\n",
       "    </tr>\n",
       "    <tr>\n",
       "      <th>283</th>\n",
       "      <td>[0.0, 0.0, 0.0, 0.0, 0.0, 0.0, 0.0, 0.0, 0.0, ...</td>\n",
       "      <td>C</td>\n",
       "    </tr>\n",
       "    <tr>\n",
       "      <th>284</th>\n",
       "      <td>[409.747, 656.802, 406.572, 668.61, 406.676, 6...</td>\n",
       "      <td>C</td>\n",
       "    </tr>\n",
       "    <tr>\n",
       "      <th>285</th>\n",
       "      <td>[409.747, 656.802, 406.572, 668.61, 406.676, 6...</td>\n",
       "      <td>C</td>\n",
       "    </tr>\n",
       "    <tr>\n",
       "      <th>286</th>\n",
       "      <td>[0.0, 0.0, 0.0, 0.0, 0.0, 0.0, 0.0, 0.0, 0.0, ...</td>\n",
       "      <td>C</td>\n",
       "    </tr>\n",
       "  </tbody>\n",
       "</table>\n",
       "<p>287 rows × 2 columns</p>\n",
       "</div>"
      ],
      "text/plain": [
       "                                             keypoints C/NC\n",
       "0    [0.0, 0.0, 0.0, 0.0, 0.0, 0.0, 0.0, 0.0, 0.0, ...    C\n",
       "1    [0.0, 0.0, 0.0, 0.0, 0.0, 0.0, 0.0, 0.0, 0.0, ...    C\n",
       "2    [0.0, 0.0, 0.0, 0.0, 0.0, 0.0, 0.0, 0.0, 0.0, ...    C\n",
       "3    [0.0, 0.0, 0.0, 0.0, 0.0, 0.0, 0.0, 0.0, 0.0, ...    C\n",
       "4    [1354.36, 648.205, 1357.44, 662.749, 1366.14, ...    C\n",
       "..                                                 ...  ...\n",
       "282  [0.0, 0.0, 0.0, 0.0, 0.0, 0.0, 0.0, 0.0, 0.0, ...    C\n",
       "283  [0.0, 0.0, 0.0, 0.0, 0.0, 0.0, 0.0, 0.0, 0.0, ...    C\n",
       "284  [409.747, 656.802, 406.572, 668.61, 406.676, 6...    C\n",
       "285  [409.747, 656.802, 406.572, 668.61, 406.676, 6...    C\n",
       "286  [0.0, 0.0, 0.0, 0.0, 0.0, 0.0, 0.0, 0.0, 0.0, ...    C\n",
       "\n",
       "[287 rows x 2 columns]"
      ]
     },
     "execution_count": 278,
     "metadata": {},
     "output_type": "execute_result"
    }
   ],
   "source": [
    "crossing_df"
   ]
  },
  {
   "cell_type": "code",
   "execution_count": 166,
   "metadata": {
    "collapsed": true,
    "jupyter": {
     "outputs_hidden": true
    }
   },
   "outputs": [
    {
     "data": {
      "text/html": [
       "<div>\n",
       "<style scoped>\n",
       "    .dataframe tbody tr th:only-of-type {\n",
       "        vertical-align: middle;\n",
       "    }\n",
       "\n",
       "    .dataframe tbody tr th {\n",
       "        vertical-align: top;\n",
       "    }\n",
       "\n",
       "    .dataframe thead th {\n",
       "        text-align: right;\n",
       "    }\n",
       "</style>\n",
       "<table border=\"1\" class=\"dataframe\">\n",
       "  <thead>\n",
       "    <tr style=\"text-align: right;\">\n",
       "      <th></th>\n",
       "      <th>keypoints</th>\n",
       "      <th>C/NC</th>\n",
       "    </tr>\n",
       "  </thead>\n",
       "  <tbody>\n",
       "    <tr>\n",
       "      <th>0</th>\n",
       "      <td>[0.0, 0.0, 500.893, 753.958, 506.685, 754.027,...</td>\n",
       "      <td>NC</td>\n",
       "    </tr>\n",
       "    <tr>\n",
       "      <th>1</th>\n",
       "      <td>[1448.57, 674.503, 1442.74, 698.071, 1422.12, ...</td>\n",
       "      <td>NC</td>\n",
       "    </tr>\n",
       "    <tr>\n",
       "      <th>2</th>\n",
       "      <td>[0.0, 0.0, 0.0, 0.0, 0.0, 0.0, 0.0, 0.0, 0.0, ...</td>\n",
       "      <td>NC</td>\n",
       "    </tr>\n",
       "    <tr>\n",
       "      <th>3</th>\n",
       "      <td>[998.371, 695.195, 1001.12, 712.743, 989.487, ...</td>\n",
       "      <td>NC</td>\n",
       "    </tr>\n",
       "    <tr>\n",
       "      <th>4</th>\n",
       "      <td>[1110.14, 692.249, 1104.25, 701.048, 1095.41, ...</td>\n",
       "      <td>NC</td>\n",
       "    </tr>\n",
       "    <tr>\n",
       "      <th>...</th>\n",
       "      <td>...</td>\n",
       "      <td>...</td>\n",
       "    </tr>\n",
       "    <tr>\n",
       "      <th>440</th>\n",
       "      <td>[0.0, 0.0, 0.0, 0.0, 0.0, 0.0, 0.0, 0.0, 0.0, ...</td>\n",
       "      <td>C</td>\n",
       "    </tr>\n",
       "    <tr>\n",
       "      <th>441</th>\n",
       "      <td>[0.0, 0.0, 0.0, 0.0, 0.0, 0.0, 0.0, 0.0, 0.0, ...</td>\n",
       "      <td>C</td>\n",
       "    </tr>\n",
       "    <tr>\n",
       "      <th>442</th>\n",
       "      <td>[409.747, 656.802, 406.572, 668.61, 406.676, 6...</td>\n",
       "      <td>C</td>\n",
       "    </tr>\n",
       "    <tr>\n",
       "      <th>443</th>\n",
       "      <td>[409.747, 656.802, 406.572, 668.61, 406.676, 6...</td>\n",
       "      <td>C</td>\n",
       "    </tr>\n",
       "    <tr>\n",
       "      <th>444</th>\n",
       "      <td>[0.0, 0.0, 0.0, 0.0, 0.0, 0.0, 0.0, 0.0, 0.0, ...</td>\n",
       "      <td>C</td>\n",
       "    </tr>\n",
       "  </tbody>\n",
       "</table>\n",
       "<p>445 rows × 2 columns</p>\n",
       "</div>"
      ],
      "text/plain": [
       "                                             keypoints C/NC\n",
       "0    [0.0, 0.0, 500.893, 753.958, 506.685, 754.027,...   NC\n",
       "1    [1448.57, 674.503, 1442.74, 698.071, 1422.12, ...   NC\n",
       "2    [0.0, 0.0, 0.0, 0.0, 0.0, 0.0, 0.0, 0.0, 0.0, ...   NC\n",
       "3    [998.371, 695.195, 1001.12, 712.743, 989.487, ...   NC\n",
       "4    [1110.14, 692.249, 1104.25, 701.048, 1095.41, ...   NC\n",
       "..                                                 ...  ...\n",
       "440  [0.0, 0.0, 0.0, 0.0, 0.0, 0.0, 0.0, 0.0, 0.0, ...    C\n",
       "441  [0.0, 0.0, 0.0, 0.0, 0.0, 0.0, 0.0, 0.0, 0.0, ...    C\n",
       "442  [409.747, 656.802, 406.572, 668.61, 406.676, 6...    C\n",
       "443  [409.747, 656.802, 406.572, 668.61, 406.676, 6...    C\n",
       "444  [0.0, 0.0, 0.0, 0.0, 0.0, 0.0, 0.0, 0.0, 0.0, ...    C\n",
       "\n",
       "[445 rows x 2 columns]"
      ]
     },
     "execution_count": 166,
     "metadata": {},
     "output_type": "execute_result"
    }
   ],
   "source": [
    "c_nc_df"
   ]
  },
  {
   "cell_type": "code",
   "execution_count": 298,
   "metadata": {},
   "outputs": [],
   "source": [
    "c_nc_df=pd.concat([ncrossing_df,crossing_df],ignore_index=True)\n",
    "# c_nc_df.to_csv('./final_annot/csv_data/c_nc.csv',index=False) #use pickle"
   ]
  },
  {
   "cell_type": "code",
   "execution_count": 155,
   "metadata": {},
   "outputs": [],
   "source": [
    "# ncrossing_df.drop(158,axis=0,inplace=True)"
   ]
  },
  {
   "cell_type": "markdown",
   "metadata": {},
   "source": [
    "## Converting zeros keypoints element to average "
   ]
  },
  {
   "cell_type": "code",
   "execution_count": 300,
   "metadata": {},
   "outputs": [],
   "source": [
    "# c_nc_df.to_pickle('./final_annot/pickle_json_data/c_nc_pkl.pkl')"
   ]
  },
  {
   "cell_type": "code",
   "execution_count": 516,
   "metadata": {},
   "outputs": [],
   "source": [
    "temp_df_0=pd.read_pickle('./final_annot/pickle_json_data/c_nc_pkl.pkl')"
   ]
  },
  {
   "cell_type": "code",
   "execution_count": 517,
   "metadata": {},
   "outputs": [
    {
     "data": {
      "text/html": [
       "<div>\n",
       "<style scoped>\n",
       "    .dataframe tbody tr th:only-of-type {\n",
       "        vertical-align: middle;\n",
       "    }\n",
       "\n",
       "    .dataframe tbody tr th {\n",
       "        vertical-align: top;\n",
       "    }\n",
       "\n",
       "    .dataframe thead th {\n",
       "        text-align: right;\n",
       "    }\n",
       "</style>\n",
       "<table border=\"1\" class=\"dataframe\">\n",
       "  <thead>\n",
       "    <tr style=\"text-align: right;\">\n",
       "      <th></th>\n",
       "      <th>keypoints</th>\n",
       "      <th>C/NC</th>\n",
       "    </tr>\n",
       "  </thead>\n",
       "  <tbody>\n",
       "    <tr>\n",
       "      <th>0</th>\n",
       "      <td>[568.542, 718.622, 592.123, 739.291, 603.817, ...</td>\n",
       "      <td>NC</td>\n",
       "    </tr>\n",
       "    <tr>\n",
       "      <th>1</th>\n",
       "      <td>[1448.57, 674.503, 1442.74, 698.071, 1422.12, ...</td>\n",
       "      <td>NC</td>\n",
       "    </tr>\n",
       "    <tr>\n",
       "      <th>2</th>\n",
       "      <td>[0.0, 0.0, 0.0, 0.0, 0.0, 0.0, 0.0, 0.0, 0.0, ...</td>\n",
       "      <td>NC</td>\n",
       "    </tr>\n",
       "    <tr>\n",
       "      <th>3</th>\n",
       "      <td>[998.371, 695.195, 1001.12, 712.743, 989.487, ...</td>\n",
       "      <td>NC</td>\n",
       "    </tr>\n",
       "    <tr>\n",
       "      <th>4</th>\n",
       "      <td>[1110.14, 692.249, 1104.25, 701.048, 1095.41, ...</td>\n",
       "      <td>NC</td>\n",
       "    </tr>\n",
       "    <tr>\n",
       "      <th>...</th>\n",
       "      <td>...</td>\n",
       "      <td>...</td>\n",
       "    </tr>\n",
       "    <tr>\n",
       "      <th>440</th>\n",
       "      <td>[0.0, 0.0, 0.0, 0.0, 0.0, 0.0, 0.0, 0.0, 0.0, ...</td>\n",
       "      <td>C</td>\n",
       "    </tr>\n",
       "    <tr>\n",
       "      <th>441</th>\n",
       "      <td>[0.0, 0.0, 0.0, 0.0, 0.0, 0.0, 0.0, 0.0, 0.0, ...</td>\n",
       "      <td>C</td>\n",
       "    </tr>\n",
       "    <tr>\n",
       "      <th>442</th>\n",
       "      <td>[409.747, 656.802, 406.572, 668.61, 406.676, 6...</td>\n",
       "      <td>C</td>\n",
       "    </tr>\n",
       "    <tr>\n",
       "      <th>443</th>\n",
       "      <td>[409.747, 656.802, 406.572, 668.61, 406.676, 6...</td>\n",
       "      <td>C</td>\n",
       "    </tr>\n",
       "    <tr>\n",
       "      <th>444</th>\n",
       "      <td>[0.0, 0.0, 0.0, 0.0, 0.0, 0.0, 0.0, 0.0, 0.0, ...</td>\n",
       "      <td>C</td>\n",
       "    </tr>\n",
       "  </tbody>\n",
       "</table>\n",
       "<p>445 rows × 2 columns</p>\n",
       "</div>"
      ],
      "text/plain": [
       "                                             keypoints C/NC\n",
       "0    [568.542, 718.622, 592.123, 739.291, 603.817, ...   NC\n",
       "1    [1448.57, 674.503, 1442.74, 698.071, 1422.12, ...   NC\n",
       "2    [0.0, 0.0, 0.0, 0.0, 0.0, 0.0, 0.0, 0.0, 0.0, ...   NC\n",
       "3    [998.371, 695.195, 1001.12, 712.743, 989.487, ...   NC\n",
       "4    [1110.14, 692.249, 1104.25, 701.048, 1095.41, ...   NC\n",
       "..                                                 ...  ...\n",
       "440  [0.0, 0.0, 0.0, 0.0, 0.0, 0.0, 0.0, 0.0, 0.0, ...    C\n",
       "441  [0.0, 0.0, 0.0, 0.0, 0.0, 0.0, 0.0, 0.0, 0.0, ...    C\n",
       "442  [409.747, 656.802, 406.572, 668.61, 406.676, 6...    C\n",
       "443  [409.747, 656.802, 406.572, 668.61, 406.676, 6...    C\n",
       "444  [0.0, 0.0, 0.0, 0.0, 0.0, 0.0, 0.0, 0.0, 0.0, ...    C\n",
       "\n",
       "[445 rows x 2 columns]"
      ]
     },
     "execution_count": 517,
     "metadata": {},
     "output_type": "execute_result"
    }
   ],
   "source": [
    "temp_df_0"
   ]
  },
  {
   "cell_type": "code",
   "execution_count": 445,
   "metadata": {},
   "outputs": [
    {
     "data": {
      "text/html": [
       "<div>\n",
       "<style scoped>\n",
       "    .dataframe tbody tr th:only-of-type {\n",
       "        vertical-align: middle;\n",
       "    }\n",
       "\n",
       "    .dataframe tbody tr th {\n",
       "        vertical-align: top;\n",
       "    }\n",
       "\n",
       "    .dataframe thead th {\n",
       "        text-align: right;\n",
       "    }\n",
       "</style>\n",
       "<table border=\"1\" class=\"dataframe\">\n",
       "  <thead>\n",
       "    <tr style=\"text-align: right;\">\n",
       "      <th></th>\n",
       "      <th>keypoints</th>\n",
       "      <th>C/NC</th>\n",
       "    </tr>\n",
       "  </thead>\n",
       "  <tbody>\n",
       "    <tr>\n",
       "      <th>0</th>\n",
       "      <td>[568.542, 718.622, 592.123, 739.291, 603.817, ...</td>\n",
       "      <td>NC</td>\n",
       "    </tr>\n",
       "    <tr>\n",
       "      <th>1</th>\n",
       "      <td>[1448.57, 674.503, 1442.74, 698.071, 1422.12, ...</td>\n",
       "      <td>NC</td>\n",
       "    </tr>\n",
       "    <tr>\n",
       "      <th>2</th>\n",
       "      <td>[0.0, 0.0, 0.0, 0.0, 0.0, 0.0, 0.0, 0.0, 0.0, ...</td>\n",
       "      <td>NC</td>\n",
       "    </tr>\n",
       "    <tr>\n",
       "      <th>3</th>\n",
       "      <td>[998.371, 695.195, 1001.12, 712.743, 989.487, ...</td>\n",
       "      <td>NC</td>\n",
       "    </tr>\n",
       "    <tr>\n",
       "      <th>4</th>\n",
       "      <td>[1110.14, 692.249, 1104.25, 701.048, 1095.41, ...</td>\n",
       "      <td>NC</td>\n",
       "    </tr>\n",
       "    <tr>\n",
       "      <th>...</th>\n",
       "      <td>...</td>\n",
       "      <td>...</td>\n",
       "    </tr>\n",
       "    <tr>\n",
       "      <th>440</th>\n",
       "      <td>[0.0, 0.0, 0.0, 0.0, 0.0, 0.0, 0.0, 0.0, 0.0, ...</td>\n",
       "      <td>C</td>\n",
       "    </tr>\n",
       "    <tr>\n",
       "      <th>441</th>\n",
       "      <td>[0.0, 0.0, 0.0, 0.0, 0.0, 0.0, 0.0, 0.0, 0.0, ...</td>\n",
       "      <td>C</td>\n",
       "    </tr>\n",
       "    <tr>\n",
       "      <th>442</th>\n",
       "      <td>[409.747, 656.802, 406.572, 668.61, 406.676, 6...</td>\n",
       "      <td>C</td>\n",
       "    </tr>\n",
       "    <tr>\n",
       "      <th>443</th>\n",
       "      <td>[409.747, 656.802, 406.572, 668.61, 406.676, 6...</td>\n",
       "      <td>C</td>\n",
       "    </tr>\n",
       "    <tr>\n",
       "      <th>444</th>\n",
       "      <td>[0.0, 0.0, 0.0, 0.0, 0.0, 0.0, 0.0, 0.0, 0.0, ...</td>\n",
       "      <td>C</td>\n",
       "    </tr>\n",
       "  </tbody>\n",
       "</table>\n",
       "<p>445 rows × 2 columns</p>\n",
       "</div>"
      ],
      "text/plain": [
       "                                             keypoints C/NC\n",
       "0    [568.542, 718.622, 592.123, 739.291, 603.817, ...   NC\n",
       "1    [1448.57, 674.503, 1442.74, 698.071, 1422.12, ...   NC\n",
       "2    [0.0, 0.0, 0.0, 0.0, 0.0, 0.0, 0.0, 0.0, 0.0, ...   NC\n",
       "3    [998.371, 695.195, 1001.12, 712.743, 989.487, ...   NC\n",
       "4    [1110.14, 692.249, 1104.25, 701.048, 1095.41, ...   NC\n",
       "..                                                 ...  ...\n",
       "440  [0.0, 0.0, 0.0, 0.0, 0.0, 0.0, 0.0, 0.0, 0.0, ...    C\n",
       "441  [0.0, 0.0, 0.0, 0.0, 0.0, 0.0, 0.0, 0.0, 0.0, ...    C\n",
       "442  [409.747, 656.802, 406.572, 668.61, 406.676, 6...    C\n",
       "443  [409.747, 656.802, 406.572, 668.61, 406.676, 6...    C\n",
       "444  [0.0, 0.0, 0.0, 0.0, 0.0, 0.0, 0.0, 0.0, 0.0, ...    C\n",
       "\n",
       "[445 rows x 2 columns]"
      ]
     },
     "execution_count": 445,
     "metadata": {},
     "output_type": "execute_result"
    }
   ],
   "source": [
    "temp_df"
   ]
  },
  {
   "cell_type": "code",
   "execution_count": 395,
   "metadata": {},
   "outputs": [],
   "source": [
    "test_array=temp_df['keypoints'][0].reshape(300,25,2)"
   ]
  },
  {
   "cell_type": "code",
   "execution_count": 316,
   "metadata": {},
   "outputs": [],
   "source": [
    "# c_nc_df.to_pickle('./final_annot/pickle_json_data/temp.pkl')"
   ]
  },
  {
   "cell_type": "code",
   "execution_count": 312,
   "metadata": {},
   "outputs": [],
   "source": [
    "np.set_printoptions(threshold=1000)"
   ]
  },
  {
   "cell_type": "code",
   "execution_count": 443,
   "metadata": {},
   "outputs": [],
   "source": [
    "# test_array=temp_df['keypoints'][0].reshape(300,25,2)\n",
    "for index in range(445):\n",
    "    person_array=temp_df['keypoints'][index].reshape(300,25,2)\n",
    "    for frame in range(300):\n",
    "        array_per_frame=person_array[frame]\n",
    "        if np.all(array_per_frame==0):\n",
    "            continue\n",
    "        if np.all(array_per_frame!=0):\n",
    "            continue\n",
    "        if np.all(array_per_frame[:,0] !=0) or np.all(array_per_frame[:,1] !=0):\n",
    "            continue\n",
    "        col_1_sum=np.sum(array_per_frame[:,0])\n",
    "        col_2_sum=np.sum(array_per_frame[:,1])\n",
    "        total_non_zero_element=np.sum(array_per_frame[:,0] != 0)\n",
    "        col_1_avg=col_1_sum/total_non_zero_element\n",
    "        col_2_avg=col_2_sum/total_non_zero_element\n",
    "        person_array[frame][:,0]=(person_array[frame][:,0]==0)*col_1_avg+person_array[frame][:,0]\n",
    "        person_array[frame][:,1]=(person_array[frame][:,1]==0)*col_2_avg+person_array[frame][:,1]\n",
    "    person_array_flat=person_array.flatten()\n",
    "    temp_df['keypoints'][index]=person_array_flat\n"
   ]
  },
  {
   "cell_type": "code",
   "execution_count": 444,
   "metadata": {},
   "outputs": [],
   "source": [
    "temp_df.to_pickle('./final_annot/pickle_json_data/c_nc_averaged.pkl')"
   ]
  },
  {
   "cell_type": "code",
   "execution_count": 498,
   "metadata": {
    "collapsed": true,
    "jupyter": {
     "outputs_hidden": true
    }
   },
   "outputs": [
    {
     "data": {
      "text/plain": [
       "[164,\n",
       " 165,\n",
       " 166,\n",
       " 167,\n",
       " 168,\n",
       " 169,\n",
       " 170,\n",
       " 171,\n",
       " 192,\n",
       " 194,\n",
       " 206,\n",
       " 217,\n",
       " 221,\n",
       " 222,\n",
       " 224,\n",
       " 234,\n",
       " 235,\n",
       " 237,\n",
       " 238,\n",
       " 240,\n",
       " 258,\n",
       " 260,\n",
       " 275,\n",
       " 277,\n",
       " 278,\n",
       " 301,\n",
       " 321,\n",
       " 347,\n",
       " 348,\n",
       " 358,\n",
       " 381,\n",
       " 383,\n",
       " 384,\n",
       " 417,\n",
       " 418]"
      ]
     },
     "execution_count": 498,
     "metadata": {},
     "output_type": "execute_result"
    }
   ],
   "source": [
    "del_index"
   ]
  },
  {
   "cell_type": "code",
   "execution_count": 523,
   "metadata": {},
   "outputs": [],
   "source": [
    "temp_df=pd.read_pickle('./final_annot/pickle_json_data/c_nc_averaged.pkl')"
   ]
  },
  {
   "cell_type": "code",
   "execution_count": 524,
   "metadata": {},
   "outputs": [
    {
     "data": {
      "text/html": [
       "<div>\n",
       "<style scoped>\n",
       "    .dataframe tbody tr th:only-of-type {\n",
       "        vertical-align: middle;\n",
       "    }\n",
       "\n",
       "    .dataframe tbody tr th {\n",
       "        vertical-align: top;\n",
       "    }\n",
       "\n",
       "    .dataframe thead th {\n",
       "        text-align: right;\n",
       "    }\n",
       "</style>\n",
       "<table border=\"1\" class=\"dataframe\">\n",
       "  <thead>\n",
       "    <tr style=\"text-align: right;\">\n",
       "      <th></th>\n",
       "      <th>keypoints</th>\n",
       "      <th>C/NC</th>\n",
       "    </tr>\n",
       "  </thead>\n",
       "  <tbody>\n",
       "    <tr>\n",
       "      <th>0</th>\n",
       "      <td>[568.542, 718.622, 592.123, 739.291, 603.817, ...</td>\n",
       "      <td>NC</td>\n",
       "    </tr>\n",
       "    <tr>\n",
       "      <th>1</th>\n",
       "      <td>[1448.57, 674.503, 1442.74, 698.071, 1422.12, ...</td>\n",
       "      <td>NC</td>\n",
       "    </tr>\n",
       "    <tr>\n",
       "      <th>2</th>\n",
       "      <td>[0.0, 0.0, 0.0, 0.0, 0.0, 0.0, 0.0, 0.0, 0.0, ...</td>\n",
       "      <td>NC</td>\n",
       "    </tr>\n",
       "    <tr>\n",
       "      <th>3</th>\n",
       "      <td>[998.371, 695.195, 1001.12, 712.743, 989.487, ...</td>\n",
       "      <td>NC</td>\n",
       "    </tr>\n",
       "    <tr>\n",
       "      <th>4</th>\n",
       "      <td>[1110.14, 692.249, 1104.25, 701.048, 1095.41, ...</td>\n",
       "      <td>NC</td>\n",
       "    </tr>\n",
       "    <tr>\n",
       "      <th>...</th>\n",
       "      <td>...</td>\n",
       "      <td>...</td>\n",
       "    </tr>\n",
       "    <tr>\n",
       "      <th>440</th>\n",
       "      <td>[0.0, 0.0, 0.0, 0.0, 0.0, 0.0, 0.0, 0.0, 0.0, ...</td>\n",
       "      <td>C</td>\n",
       "    </tr>\n",
       "    <tr>\n",
       "      <th>441</th>\n",
       "      <td>[0.0, 0.0, 0.0, 0.0, 0.0, 0.0, 0.0, 0.0, 0.0, ...</td>\n",
       "      <td>C</td>\n",
       "    </tr>\n",
       "    <tr>\n",
       "      <th>442</th>\n",
       "      <td>[409.747, 656.802, 406.572, 668.61, 406.676, 6...</td>\n",
       "      <td>C</td>\n",
       "    </tr>\n",
       "    <tr>\n",
       "      <th>443</th>\n",
       "      <td>[409.747, 656.802, 406.572, 668.61, 406.676, 6...</td>\n",
       "      <td>C</td>\n",
       "    </tr>\n",
       "    <tr>\n",
       "      <th>444</th>\n",
       "      <td>[0.0, 0.0, 0.0, 0.0, 0.0, 0.0, 0.0, 0.0, 0.0, ...</td>\n",
       "      <td>C</td>\n",
       "    </tr>\n",
       "  </tbody>\n",
       "</table>\n",
       "<p>445 rows × 2 columns</p>\n",
       "</div>"
      ],
      "text/plain": [
       "                                             keypoints C/NC\n",
       "0    [568.542, 718.622, 592.123, 739.291, 603.817, ...   NC\n",
       "1    [1448.57, 674.503, 1442.74, 698.071, 1422.12, ...   NC\n",
       "2    [0.0, 0.0, 0.0, 0.0, 0.0, 0.0, 0.0, 0.0, 0.0, ...   NC\n",
       "3    [998.371, 695.195, 1001.12, 712.743, 989.487, ...   NC\n",
       "4    [1110.14, 692.249, 1104.25, 701.048, 1095.41, ...   NC\n",
       "..                                                 ...  ...\n",
       "440  [0.0, 0.0, 0.0, 0.0, 0.0, 0.0, 0.0, 0.0, 0.0, ...    C\n",
       "441  [0.0, 0.0, 0.0, 0.0, 0.0, 0.0, 0.0, 0.0, 0.0, ...    C\n",
       "442  [409.747, 656.802, 406.572, 668.61, 406.676, 6...    C\n",
       "443  [409.747, 656.802, 406.572, 668.61, 406.676, 6...    C\n",
       "444  [0.0, 0.0, 0.0, 0.0, 0.0, 0.0, 0.0, 0.0, 0.0, ...    C\n",
       "\n",
       "[445 rows x 2 columns]"
      ]
     },
     "execution_count": 524,
     "metadata": {},
     "output_type": "execute_result"
    }
   ],
   "source": [
    "temp_df"
   ]
  },
  {
   "cell_type": "code",
   "execution_count": 525,
   "metadata": {},
   "outputs": [],
   "source": [
    "temp_df.drop(del_index,axis=0,inplace=True)"
   ]
  },
  {
   "cell_type": "code",
   "execution_count": 526,
   "metadata": {},
   "outputs": [],
   "source": [
    "temp_df.reset_index(inplace=True)"
   ]
  },
  {
   "cell_type": "code",
   "execution_count": 527,
   "metadata": {},
   "outputs": [],
   "source": [
    "temp_df.drop(['index'],axis=1,inplace=True)"
   ]
  },
  {
   "cell_type": "code",
   "execution_count": 528,
   "metadata": {},
   "outputs": [
    {
     "data": {
      "text/html": [
       "<div>\n",
       "<style scoped>\n",
       "    .dataframe tbody tr th:only-of-type {\n",
       "        vertical-align: middle;\n",
       "    }\n",
       "\n",
       "    .dataframe tbody tr th {\n",
       "        vertical-align: top;\n",
       "    }\n",
       "\n",
       "    .dataframe thead th {\n",
       "        text-align: right;\n",
       "    }\n",
       "</style>\n",
       "<table border=\"1\" class=\"dataframe\">\n",
       "  <thead>\n",
       "    <tr style=\"text-align: right;\">\n",
       "      <th></th>\n",
       "      <th>keypoints</th>\n",
       "      <th>C/NC</th>\n",
       "    </tr>\n",
       "  </thead>\n",
       "  <tbody>\n",
       "    <tr>\n",
       "      <th>0</th>\n",
       "      <td>[568.542, 718.622, 592.123, 739.291, 603.817, ...</td>\n",
       "      <td>NC</td>\n",
       "    </tr>\n",
       "    <tr>\n",
       "      <th>1</th>\n",
       "      <td>[1448.57, 674.503, 1442.74, 698.071, 1422.12, ...</td>\n",
       "      <td>NC</td>\n",
       "    </tr>\n",
       "    <tr>\n",
       "      <th>2</th>\n",
       "      <td>[0.0, 0.0, 0.0, 0.0, 0.0, 0.0, 0.0, 0.0, 0.0, ...</td>\n",
       "      <td>NC</td>\n",
       "    </tr>\n",
       "    <tr>\n",
       "      <th>3</th>\n",
       "      <td>[998.371, 695.195, 1001.12, 712.743, 989.487, ...</td>\n",
       "      <td>NC</td>\n",
       "    </tr>\n",
       "    <tr>\n",
       "      <th>4</th>\n",
       "      <td>[1110.14, 692.249, 1104.25, 701.048, 1095.41, ...</td>\n",
       "      <td>NC</td>\n",
       "    </tr>\n",
       "    <tr>\n",
       "      <th>...</th>\n",
       "      <td>...</td>\n",
       "      <td>...</td>\n",
       "    </tr>\n",
       "    <tr>\n",
       "      <th>405</th>\n",
       "      <td>[0.0, 0.0, 0.0, 0.0, 0.0, 0.0, 0.0, 0.0, 0.0, ...</td>\n",
       "      <td>C</td>\n",
       "    </tr>\n",
       "    <tr>\n",
       "      <th>406</th>\n",
       "      <td>[0.0, 0.0, 0.0, 0.0, 0.0, 0.0, 0.0, 0.0, 0.0, ...</td>\n",
       "      <td>C</td>\n",
       "    </tr>\n",
       "    <tr>\n",
       "      <th>407</th>\n",
       "      <td>[409.747, 656.802, 406.572, 668.61, 406.676, 6...</td>\n",
       "      <td>C</td>\n",
       "    </tr>\n",
       "    <tr>\n",
       "      <th>408</th>\n",
       "      <td>[409.747, 656.802, 406.572, 668.61, 406.676, 6...</td>\n",
       "      <td>C</td>\n",
       "    </tr>\n",
       "    <tr>\n",
       "      <th>409</th>\n",
       "      <td>[0.0, 0.0, 0.0, 0.0, 0.0, 0.0, 0.0, 0.0, 0.0, ...</td>\n",
       "      <td>C</td>\n",
       "    </tr>\n",
       "  </tbody>\n",
       "</table>\n",
       "<p>410 rows × 2 columns</p>\n",
       "</div>"
      ],
      "text/plain": [
       "                                             keypoints C/NC\n",
       "0    [568.542, 718.622, 592.123, 739.291, 603.817, ...   NC\n",
       "1    [1448.57, 674.503, 1442.74, 698.071, 1422.12, ...   NC\n",
       "2    [0.0, 0.0, 0.0, 0.0, 0.0, 0.0, 0.0, 0.0, 0.0, ...   NC\n",
       "3    [998.371, 695.195, 1001.12, 712.743, 989.487, ...   NC\n",
       "4    [1110.14, 692.249, 1104.25, 701.048, 1095.41, ...   NC\n",
       "..                                                 ...  ...\n",
       "405  [0.0, 0.0, 0.0, 0.0, 0.0, 0.0, 0.0, 0.0, 0.0, ...    C\n",
       "406  [0.0, 0.0, 0.0, 0.0, 0.0, 0.0, 0.0, 0.0, 0.0, ...    C\n",
       "407  [409.747, 656.802, 406.572, 668.61, 406.676, 6...    C\n",
       "408  [409.747, 656.802, 406.572, 668.61, 406.676, 6...    C\n",
       "409  [0.0, 0.0, 0.0, 0.0, 0.0, 0.0, 0.0, 0.0, 0.0, ...    C\n",
       "\n",
       "[410 rows x 2 columns]"
      ]
     },
     "execution_count": 528,
     "metadata": {},
     "output_type": "execute_result"
    }
   ],
   "source": [
    "temp_df"
   ]
  },
  {
   "cell_type": "code",
   "execution_count": 529,
   "metadata": {},
   "outputs": [],
   "source": [
    "temp_df.to_pickle('./final_annot/pickle_json_data/c_nc_averaged_dropped_null.pkl')"
   ]
  },
  {
   "cell_type": "code",
   "execution_count": 442,
   "metadata": {},
   "outputs": [
    {
     "data": {
      "text/plain": [
       "array([[568.542, 718.622],\n",
       "       [592.123, 739.291],\n",
       "       [603.817, 739.309],\n",
       "       [615.56 , 765.802],\n",
       "       [598.103, 786.37 ],\n",
       "       [574.571, 739.363],\n",
       "       [571.389, 771.65 ],\n",
       "       [553.85 , 798.164],\n",
       "       [594.982, 801.091],\n",
       "       [600.955, 798.174],\n",
       "       [601.004, 854.002],\n",
       "       [600.983, 901.117],\n",
       "       [577.467, 803.992],\n",
       "       [574.393, 854.023],\n",
       "       [571.533, 904.008],\n",
       "       [571.533, 904.008],\n",
       "       [571.395, 715.754],\n",
       "       [597.95 , 715.76 ],\n",
       "       [577.31 , 718.52 ],\n",
       "       [556.834, 904.123],\n",
       "       [553.904, 904.202],\n",
       "       [574.428, 907.041],\n",
       "       [595.071, 901.096],\n",
       "       [603.848, 901.092],\n",
       "       [601.018, 904.12 ]])"
      ]
     },
     "execution_count": 442,
     "metadata": {},
     "output_type": "execute_result"
    }
   ],
   "source": [
    "person_array[0]"
   ]
  },
  {
   "cell_type": "code",
   "execution_count": 438,
   "metadata": {},
   "outputs": [
    {
     "data": {
      "text/plain": [
       "766.4016428571429"
      ]
     },
     "execution_count": 438,
     "metadata": {},
     "output_type": "execute_result"
    }
   ],
   "source": [
    "np.sum(person_array[290,:,1])/np.sum(person_array[290,:,1]!=0)"
   ]
  },
  {
   "cell_type": "code",
   "execution_count": 424,
   "metadata": {},
   "outputs": [
    {
     "name": "stdout",
     "output_type": "stream",
     "text": [
      "all-not-zero\n",
      "one column not-zero\n"
     ]
    }
   ],
   "source": [
    "a=0\n",
    "if np.all(test_array[a]==0):\n",
    "    print('all-zero')\n",
    "if np.all(test_array[a]!=0):\n",
    "    print('all-not-zero')\n",
    "if np.all(test_array[a,:,0] !=0) or np.all(test_array[a,:,1] !=0):\n",
    "    print('one column not-zero')"
   ]
  },
  {
   "cell_type": "code",
   "execution_count": 328,
   "metadata": {},
   "outputs": [],
   "source": [
    "test_array[0]=(test_array[0]==0)*-1+test_array[0]"
   ]
  },
  {
   "cell_type": "code",
   "execution_count": 430,
   "metadata": {},
   "outputs": [
    {
     "data": {
      "text/plain": [
       "25"
      ]
     },
     "execution_count": 430,
     "metadata": {},
     "output_type": "execute_result"
    }
   ],
   "source": [
    "test_array_0=test_array[0]\n",
    "np.sum(test_array_0[:,0]!=0)"
   ]
  },
  {
   "cell_type": "code",
   "execution_count": 399,
   "metadata": {},
   "outputs": [
    {
     "data": {
      "text/plain": [
       "array([0, 0, 0, 0, 0, 0, 0, 0, 0, 0, 0, 0, 0, 0, 0, 2, 0, 0, 0, 0, 0, 0,\n",
       "       0, 0, 0])"
      ]
     },
     "execution_count": 399,
     "metadata": {},
     "output_type": "execute_result"
    }
   ],
   "source": [
    "np.any(test_array[1]==0, axis=1)*2"
   ]
  },
  {
   "cell_type": "code",
   "execution_count": 433,
   "metadata": {},
   "outputs": [
    {
     "data": {
      "text/plain": [
       "array([718.646, 739.237, 739.169, 765.707, 762.794, 739.353, 780.397,\n",
       "       777.497, 806.854, 804.042, 853.979, 898.137, 806.936, 854.089,\n",
       "       903.977,   3.   , 715.709, 715.726, 715.8  , 904.09 , 904.208,\n",
       "       907.017, 898.226, 898.159, 903.961])"
      ]
     },
     "execution_count": 433,
     "metadata": {},
     "output_type": "execute_result"
    }
   ],
   "source": [
    "(test_array[50,:,1]==0)*3+test_array[50,:,1]"
   ]
  },
  {
   "cell_type": "code",
   "execution_count": 200,
   "metadata": {},
   "outputs": [
    {
     "data": {
      "text/plain": [
       "['1448.57', '674.503', '1442.74', '...', '0.', '0.', '0.']"
      ]
     },
     "execution_count": 200,
     "metadata": {},
     "output_type": "execute_result"
    }
   ],
   "source": [
    "# c_nc_df['keypoints'][1].split('[')[1].split(']')[0].split()"
   ]
  },
  {
   "cell_type": "markdown",
   "metadata": {},
   "source": [
    "## Converting 300 dim to 200 removing zeros"
   ]
  },
  {
   "cell_type": "code",
   "execution_count": 3,
   "metadata": {},
   "outputs": [],
   "source": [
    "df=pd.read_pickle('../pickle_json_data/c_nc_averaged_dropped_null.pkl')"
   ]
  },
  {
   "cell_type": "code",
   "execution_count": 65,
   "metadata": {},
   "outputs": [
    {
     "data": {
      "text/html": [
       "<div>\n",
       "<style scoped>\n",
       "    .dataframe tbody tr th:only-of-type {\n",
       "        vertical-align: middle;\n",
       "    }\n",
       "\n",
       "    .dataframe tbody tr th {\n",
       "        vertical-align: top;\n",
       "    }\n",
       "\n",
       "    .dataframe thead th {\n",
       "        text-align: right;\n",
       "    }\n",
       "</style>\n",
       "<table border=\"1\" class=\"dataframe\">\n",
       "  <thead>\n",
       "    <tr style=\"text-align: right;\">\n",
       "      <th></th>\n",
       "      <th>keypoints</th>\n",
       "      <th>C/NC</th>\n",
       "    </tr>\n",
       "  </thead>\n",
       "  <tbody>\n",
       "    <tr>\n",
       "      <th>0</th>\n",
       "      <td>[580.284, 721.597, 595.037, 742.143, 574.561, ...</td>\n",
       "      <td>NC</td>\n",
       "    </tr>\n",
       "    <tr>\n",
       "      <th>1</th>\n",
       "      <td>[1448.57, 674.503, 1442.74, 698.071, 1422.12, ...</td>\n",
       "      <td>NC</td>\n",
       "    </tr>\n",
       "    <tr>\n",
       "      <th>2</th>\n",
       "      <td>[0.0, 0.0, 0.0, 0.0, 0.0, 0.0, 0.0, 0.0, 0.0, ...</td>\n",
       "      <td>NC</td>\n",
       "    </tr>\n",
       "    <tr>\n",
       "      <th>3</th>\n",
       "      <td>[998.371, 695.195, 1001.12, 712.743, 989.487, ...</td>\n",
       "      <td>NC</td>\n",
       "    </tr>\n",
       "    <tr>\n",
       "      <th>4</th>\n",
       "      <td>[1110.14, 692.249, 1104.25, 701.048, 1095.41, ...</td>\n",
       "      <td>NC</td>\n",
       "    </tr>\n",
       "    <tr>\n",
       "      <th>...</th>\n",
       "      <td>...</td>\n",
       "      <td>...</td>\n",
       "    </tr>\n",
       "    <tr>\n",
       "      <th>405</th>\n",
       "      <td>[0.0, 0.0, 0.0, 0.0, 0.0, 0.0, 0.0, 0.0, 0.0, ...</td>\n",
       "      <td>C</td>\n",
       "    </tr>\n",
       "    <tr>\n",
       "      <th>406</th>\n",
       "      <td>[0.0, 0.0, 0.0, 0.0, 0.0, 0.0, 0.0, 0.0, 0.0, ...</td>\n",
       "      <td>C</td>\n",
       "    </tr>\n",
       "    <tr>\n",
       "      <th>407</th>\n",
       "      <td>[409.747, 656.802, 406.572, 668.61, 406.676, 6...</td>\n",
       "      <td>C</td>\n",
       "    </tr>\n",
       "    <tr>\n",
       "      <th>408</th>\n",
       "      <td>[409.747, 656.802, 406.572, 668.61, 406.676, 6...</td>\n",
       "      <td>C</td>\n",
       "    </tr>\n",
       "    <tr>\n",
       "      <th>409</th>\n",
       "      <td>[0.0, 0.0, 0.0, 0.0, 0.0, 0.0, 0.0, 0.0, 0.0, ...</td>\n",
       "      <td>C</td>\n",
       "    </tr>\n",
       "  </tbody>\n",
       "</table>\n",
       "<p>410 rows × 2 columns</p>\n",
       "</div>"
      ],
      "text/plain": [
       "                                             keypoints C/NC\n",
       "0    [580.284, 721.597, 595.037, 742.143, 574.561, ...   NC\n",
       "1    [1448.57, 674.503, 1442.74, 698.071, 1422.12, ...   NC\n",
       "2    [0.0, 0.0, 0.0, 0.0, 0.0, 0.0, 0.0, 0.0, 0.0, ...   NC\n",
       "3    [998.371, 695.195, 1001.12, 712.743, 989.487, ...   NC\n",
       "4    [1110.14, 692.249, 1104.25, 701.048, 1095.41, ...   NC\n",
       "..                                                 ...  ...\n",
       "405  [0.0, 0.0, 0.0, 0.0, 0.0, 0.0, 0.0, 0.0, 0.0, ...    C\n",
       "406  [0.0, 0.0, 0.0, 0.0, 0.0, 0.0, 0.0, 0.0, 0.0, ...    C\n",
       "407  [409.747, 656.802, 406.572, 668.61, 406.676, 6...    C\n",
       "408  [409.747, 656.802, 406.572, 668.61, 406.676, 6...    C\n",
       "409  [0.0, 0.0, 0.0, 0.0, 0.0, 0.0, 0.0, 0.0, 0.0, ...    C\n",
       "\n",
       "[410 rows x 2 columns]"
      ]
     },
     "execution_count": 65,
     "metadata": {},
     "output_type": "execute_result"
    }
   ],
   "source": [
    "df"
   ]
  },
  {
   "cell_type": "code",
   "execution_count": 85,
   "metadata": {},
   "outputs": [
    {
     "data": {
      "text/html": [
       "<div>\n",
       "<style scoped>\n",
       "    .dataframe tbody tr th:only-of-type {\n",
       "        vertical-align: middle;\n",
       "    }\n",
       "\n",
       "    .dataframe tbody tr th {\n",
       "        vertical-align: top;\n",
       "    }\n",
       "\n",
       "    .dataframe thead th {\n",
       "        text-align: right;\n",
       "    }\n",
       "</style>\n",
       "<table border=\"1\" class=\"dataframe\">\n",
       "  <thead>\n",
       "    <tr style=\"text-align: right;\">\n",
       "      <th></th>\n",
       "      <th>keypoints</th>\n",
       "      <th>C/NC</th>\n",
       "    </tr>\n",
       "  </thead>\n",
       "  <tbody>\n",
       "    <tr>\n",
       "      <th>158</th>\n",
       "      <td>[0.0, 0.0, 0.0, 0.0, 0.0, 0.0, 0.0, 0.0, 0.0, ...</td>\n",
       "      <td>C</td>\n",
       "    </tr>\n",
       "    <tr>\n",
       "      <th>159</th>\n",
       "      <td>[0.0, 0.0, 0.0, 0.0, 0.0, 0.0, 0.0, 0.0, 0.0, ...</td>\n",
       "      <td>C</td>\n",
       "    </tr>\n",
       "    <tr>\n",
       "      <th>160</th>\n",
       "      <td>[0.0, 0.0, 0.0, 0.0, 0.0, 0.0, 0.0, 0.0, 0.0, ...</td>\n",
       "      <td>C</td>\n",
       "    </tr>\n",
       "    <tr>\n",
       "      <th>161</th>\n",
       "      <td>[0.0, 0.0, 0.0, 0.0, 0.0, 0.0, 0.0, 0.0, 0.0, ...</td>\n",
       "      <td>C</td>\n",
       "    </tr>\n",
       "    <tr>\n",
       "      <th>162</th>\n",
       "      <td>[1354.36, 648.205, 1357.44, 662.749, 1366.14, ...</td>\n",
       "      <td>C</td>\n",
       "    </tr>\n",
       "    <tr>\n",
       "      <th>...</th>\n",
       "      <td>...</td>\n",
       "      <td>...</td>\n",
       "    </tr>\n",
       "    <tr>\n",
       "      <th>405</th>\n",
       "      <td>[0.0, 0.0, 0.0, 0.0, 0.0, 0.0, 0.0, 0.0, 0.0, ...</td>\n",
       "      <td>C</td>\n",
       "    </tr>\n",
       "    <tr>\n",
       "      <th>406</th>\n",
       "      <td>[0.0, 0.0, 0.0, 0.0, 0.0, 0.0, 0.0, 0.0, 0.0, ...</td>\n",
       "      <td>C</td>\n",
       "    </tr>\n",
       "    <tr>\n",
       "      <th>407</th>\n",
       "      <td>[409.747, 656.802, 406.572, 668.61, 406.676, 6...</td>\n",
       "      <td>C</td>\n",
       "    </tr>\n",
       "    <tr>\n",
       "      <th>408</th>\n",
       "      <td>[409.747, 656.802, 406.572, 668.61, 406.676, 6...</td>\n",
       "      <td>C</td>\n",
       "    </tr>\n",
       "    <tr>\n",
       "      <th>409</th>\n",
       "      <td>[0.0, 0.0, 0.0, 0.0, 0.0, 0.0, 0.0, 0.0, 0.0, ...</td>\n",
       "      <td>C</td>\n",
       "    </tr>\n",
       "  </tbody>\n",
       "</table>\n",
       "<p>252 rows × 2 columns</p>\n",
       "</div>"
      ],
      "text/plain": [
       "                                             keypoints C/NC\n",
       "158  [0.0, 0.0, 0.0, 0.0, 0.0, 0.0, 0.0, 0.0, 0.0, ...    C\n",
       "159  [0.0, 0.0, 0.0, 0.0, 0.0, 0.0, 0.0, 0.0, 0.0, ...    C\n",
       "160  [0.0, 0.0, 0.0, 0.0, 0.0, 0.0, 0.0, 0.0, 0.0, ...    C\n",
       "161  [0.0, 0.0, 0.0, 0.0, 0.0, 0.0, 0.0, 0.0, 0.0, ...    C\n",
       "162  [1354.36, 648.205, 1357.44, 662.749, 1366.14, ...    C\n",
       "..                                                 ...  ...\n",
       "405  [0.0, 0.0, 0.0, 0.0, 0.0, 0.0, 0.0, 0.0, 0.0, ...    C\n",
       "406  [0.0, 0.0, 0.0, 0.0, 0.0, 0.0, 0.0, 0.0, 0.0, ...    C\n",
       "407  [409.747, 656.802, 406.572, 668.61, 406.676, 6...    C\n",
       "408  [409.747, 656.802, 406.572, 668.61, 406.676, 6...    C\n",
       "409  [0.0, 0.0, 0.0, 0.0, 0.0, 0.0, 0.0, 0.0, 0.0, ...    C\n",
       "\n",
       "[252 rows x 2 columns]"
      ]
     },
     "execution_count": 85,
     "metadata": {},
     "output_type": "execute_result"
    }
   ],
   "source": [
    "df[df['C/NC']=='C']"
   ]
  },
  {
   "cell_type": "code",
   "execution_count": 63,
   "metadata": {},
   "outputs": [
    {
     "data": {
      "text/plain": [
       "(410, 10000)"
      ]
     },
     "execution_count": 63,
     "metadata": {},
     "output_type": "execute_result"
    }
   ],
   "source": [
    "np.array(list(df['keypoints'])).shape"
   ]
  },
  {
   "cell_type": "code",
   "execution_count": 70,
   "metadata": {},
   "outputs": [],
   "source": [
    "index_fr_zeros=[]\n",
    "index_fr_nonzero=[]\n",
    "for i in range(410):\n",
    "    if np.all(df['keypoints'][i].reshape(200,25,2)[100:200]==0):\n",
    "        index_fr_zeros.append(i)\n",
    "        continue\n",
    "    index_fr_nonzero.append(i)"
   ]
  },
  {
   "cell_type": "code",
   "execution_count": 71,
   "metadata": {},
   "outputs": [
    {
     "data": {
      "text/plain": [
       "223"
      ]
     },
     "execution_count": 71,
     "metadata": {},
     "output_type": "execute_result"
    }
   ],
   "source": [
    "len(index_fr_zeros)"
   ]
  },
  {
   "cell_type": "code",
   "execution_count": 72,
   "metadata": {},
   "outputs": [
    {
     "data": {
      "text/plain": [
       "187"
      ]
     },
     "execution_count": 72,
     "metadata": {},
     "output_type": "execute_result"
    }
   ],
   "source": [
    "len(index_fr_nonzero)"
   ]
  },
  {
   "cell_type": "code",
   "execution_count": 60,
   "metadata": {},
   "outputs": [],
   "source": [
    "temp=df['keypoints'][0].reshape(300,25,2)[100:300]"
   ]
  },
  {
   "cell_type": "code",
   "execution_count": 61,
   "metadata": {},
   "outputs": [
    {
     "data": {
      "text/plain": [
       "(10000,)"
      ]
     },
     "execution_count": 61,
     "metadata": {},
     "output_type": "execute_result"
    }
   ],
   "source": [
    "temp.flatten().shape"
   ]
  },
  {
   "cell_type": "code",
   "execution_count": 62,
   "metadata": {},
   "outputs": [],
   "source": [
    "for i in range(410):\n",
    "    if i in index_fr_zeros:\n",
    "        new_array=df['keypoints'][i].reshape(300,25,2)[:200]\n",
    "        new_array=new_array.flatten()\n",
    "        df['keypoints'][i]=new_array\n",
    "    if i in index_fr_nonzero:\n",
    "        new_array=df['keypoints'][i].reshape(300,25,2)[100:300]\n",
    "        new_array=new_array.flatten()\n",
    "        df['keypoints'][i]=new_array\n"
   ]
  },
  {
   "cell_type": "code",
   "execution_count": 64,
   "metadata": {},
   "outputs": [],
   "source": [
    "df.to_pickle('../pickle_json_data/c_nc_averaged_dropped_null_200.pkl')"
   ]
  },
  {
   "cell_type": "markdown",
   "metadata": {},
   "source": [
    "## Testing"
   ]
  },
  {
   "cell_type": "code",
   "execution_count": 132,
   "metadata": {},
   "outputs": [
    {
     "name": "stdout",
     "output_type": "stream",
     "text": [
      "158\n"
     ]
    }
   ],
   "source": [
    "#for counting total person in json files\n",
    "total=0\n",
    "files_name=os.listdir('./final_annot/ncrossing_candidate/')\n",
    "for file_name in files_name:\n",
    "    json_path='./final_annot/ncrossing_candidate/'+file_name\n",
    "    \n",
    "    with open(json_path,'r') as f:\n",
    "        data=json.load(f)\n",
    "        a=len(data)\n",
    "        #print(data.keys())\n",
    "        total=total+a\n",
    "    \n",
    "print(total)"
   ]
  },
  {
   "cell_type": "raw",
   "metadata": {},
   "source": [
    "287-crossing\n",
    "158-ncrossing"
   ]
  },
  {
   "cell_type": "code",
   "execution_count": 24,
   "metadata": {},
   "outputs": [],
   "source": [
    "keypoints_arr=np.array(frame_list)"
   ]
  },
  {
   "cell_type": "code",
   "execution_count": 30,
   "metadata": {},
   "outputs": [],
   "source": [
    "flatten_array=keypoints_arr.flatten()"
   ]
  },
  {
   "cell_type": "code",
   "execution_count": 31,
   "metadata": {},
   "outputs": [],
   "source": [
    "new_array=flatten_array.reshape(300,25,2)"
   ]
  },
  {
   "cell_type": "code",
   "execution_count": 84,
   "metadata": {},
   "outputs": [
    {
     "data": {
      "text/plain": [
       "(15000,)"
      ]
     },
     "execution_count": 84,
     "metadata": {},
     "output_type": "execute_result"
    }
   ],
   "source": [
    "flatten_array.shape"
   ]
  },
  {
   "cell_type": "code",
   "execution_count": 58,
   "metadata": {},
   "outputs": [],
   "source": [
    "###### for jaad json#####\n",
    "video_num='0000'+str(2)\n",
    "video_num=video_num[-4:]\n",
    "json_path='./annot_json/video_'+video_num+'.json'\n",
    "\n",
    "with open(json_path,'r') as f:\n",
    "    jaad_data=json.load(f)"
   ]
  },
  {
   "cell_type": "code",
   "execution_count": 17,
   "metadata": {},
   "outputs": [],
   "source": [
    "jaad_bboxes={}\n",
    "for i in range (len(jaad_data)):\n",
    "    frame_num=0\n",
    "    keys=[*jaad_data]\n",
    "    try:\n",
    "        jaad_bbox=jaad_data[keys[i]][str(frame_num)]['bbox']\n",
    "    except:\n",
    "        continue\n",
    "    jaad_bboxes[keys[i]]=jaad_bbox"
   ]
  },
  {
   "cell_type": "code",
   "execution_count": 14,
   "metadata": {},
   "outputs": [],
   "source": [
    "#for keypoints file name\n",
    "file_num='000000000000'+str(frame_num)\n",
    "file_num=file_num[-12:]\n",
    "file_name='./nbn_output/video_'+video_num+'/video_'+video_num+'_'+file_num+'_keypoints.json'"
   ]
  },
  {
   "cell_type": "code",
   "execution_count": 59,
   "metadata": {},
   "outputs": [
    {
     "name": "stdout",
     "output_type": "stream",
     "text": [
      "210\n"
     ]
    }
   ],
   "source": [
    "import os\n",
    "\n",
    "listt = os.listdir('./nbn_output/video_'+video_num)\n",
    "number_files = len(listt)\n",
    "print (number_files)"
   ]
  },
  {
   "cell_type": "code",
   "execution_count": 250,
   "metadata": {},
   "outputs": [],
   "source": [
    "for _ in range(10,9):\n",
    "    print (1)"
   ]
  },
  {
   "cell_type": "code",
   "execution_count": 489,
   "metadata": {
    "collapsed": true,
    "jupyter": {
     "outputs_hidden": true
    }
   },
   "outputs": [
    {
     "name": "stdout",
     "output_type": "stream",
     "text": [
      "164\n",
      "165\n",
      "166\n",
      "167\n",
      "168\n",
      "169\n",
      "170\n",
      "171\n",
      "192\n",
      "194\n",
      "206\n",
      "217\n",
      "221\n",
      "222\n",
      "224\n",
      "234\n",
      "235\n",
      "237\n",
      "238\n",
      "240\n",
      "258\n",
      "260\n",
      "275\n",
      "277\n",
      "278\n",
      "301\n",
      "321\n",
      "347\n",
      "348\n",
      "358\n",
      "381\n",
      "383\n",
      "384\n",
      "417\n",
      "418\n"
     ]
    }
   ],
   "source": [
    "count_arr=[]\n",
    "del_index=[]\n",
    "for i in range(445):\n",
    "    t_f=np.all(temp_df['keypoints'][i].reshape(300,25,2)[0:300]==0)\n",
    "    if t_f==True:\n",
    "        print(i)\n",
    "        del_index.append(i)\n",
    "    count_arr.append(t_f)\n"
   ]
  },
  {
   "cell_type": "code",
   "execution_count": 493,
   "metadata": {},
   "outputs": [
    {
     "data": {
      "text/plain": [
       "False"
      ]
     },
     "execution_count": 493,
     "metadata": {},
     "output_type": "execute_result"
    }
   ],
   "source": [
    "np.all(temp_df['keypoints'][416]==0)"
   ]
  },
  {
   "cell_type": "code",
   "execution_count": 73,
   "metadata": {},
   "outputs": [],
   "source": [
    "temp_df=pd.read_pickle('../pickle_json_data/c_nc_dropped_null.pkl')"
   ]
  },
  {
   "cell_type": "code",
   "execution_count": 82,
   "metadata": {},
   "outputs": [
    {
     "data": {
      "text/plain": [
       "0      [568.542, 718.622, 592.123, 739.291, 603.817, ...\n",
       "1      [1448.57, 674.503, 1442.74, 698.071, 1422.12, ...\n",
       "2      [0.0, 0.0, 0.0, 0.0, 0.0, 0.0, 0.0, 0.0, 0.0, ...\n",
       "3      [998.371, 695.195, 1001.12, 712.743, 989.487, ...\n",
       "4      [1110.14, 692.249, 1104.25, 701.048, 1095.41, ...\n",
       "                             ...                        \n",
       "153    [0.0, 0.0, 951.211, 612.727, 954.079, 615.62, ...\n",
       "154    [998.272, 680.349, 1001.15, 695.095, 986.477, ...\n",
       "155    [0.0, 0.0, 1051.22, 727.479, 1062.96, 727.484,...\n",
       "156    [998.272, 680.349, 1001.15, 695.095, 986.477, ...\n",
       "157    [0.0, 0.0, 0.0, 0.0, 0.0, 0.0, 0.0, 0.0, 0.0, ...\n",
       "Name: keypoints, Length: 158, dtype: object"
      ]
     },
     "execution_count": 82,
     "metadata": {},
     "output_type": "execute_result"
    }
   ],
   "source": [
    "temp_df['keypoints'][temp_df['C/NC']=='NC']"
   ]
  },
  {
   "cell_type": "markdown",
   "metadata": {},
   "source": [
    "## Adjacency matrix"
   ]
  },
  {
   "cell_type": "code",
   "execution_count": null,
   "metadata": {},
   "outputs": [],
   "source": [
    "a_r=[0, 1, 2, 3, 4, 5, 6, 7, 8, 9, 10, 11, 12, 13, 14, 15, 16, 17, 18, 19, 20, 21, 22, 23, 24]"
   ]
  },
  {
   "cell_type": "code",
   "execution_count": 342,
   "metadata": {
    "jupyter": {
     "source_hidden": true
    }
   },
   "outputs": [],
   "source": [
    "A=[    \n",
    "    [1, 1, 0, 0, 0, 0, 0, 0, 0, 0, 0,  0,  0,  0,  0,  1,  1,  0,  0,  0,  0,  0,  0,  0,  0],\n",
    "    [1, 1, 1, 0, 0, 1, 0, 0, 1, 0, 0,  0,  0,  0,  0,  0,  0,  0,  0,  0,  0,  0,  0,  0,  0],    \n",
    "    [0, 1, 1, 1, 0, 0, 0, 0, 0, 0, 0,  0,  0,  0,  0,  0,  0,  0,  0,  0,  0,  0,  0,  0,  0],    \n",
    "    [0, 0, 1, 1, 1, 0, 0, 0, 0, 0, 0,  0,  0,  0,  0,  0,  0,  0,  0,  0,  0,  0,  0,  0,  0],    \n",
    "    [0, 0, 0, 1, 1, 0, 0, 0, 0, 0, 0,  0,  0,  0,  0,  0,  0,  0,  0,  0,  0,  0,  0,  0,  0],    \n",
    "    [0, 1, 0, 0, 0, 1, 1, 0, 0, 0, 0,  0,  0,  0,  0,  0,  0,  0,  0,  0,  0,  0,  0,  0,  0],    \n",
    "    [0, 0, 0, 0, 0, 1, 1, 1, 0, 0, 0,  0,  0,  0,  0,  0,  0,  0,  0,  0,  0,  0,  0,  0,  0],    \n",
    "    [0, 0, 0, 0, 0, 0, 1, 1, 0, 0, 0,  0,  0,  0,  0,  0,  0,  0,  0,  0,  0,  0,  0,  0,  0],    \n",
    "    [0, 1, 0, 0, 0, 0, 0, 0, 1, 1, 0,  0,  1,  0,  0,  0,  0,  0,  0,  0,  0,  0,  0,  0,  0],    \n",
    "    [0, 0, 0, 0, 0, 0, 0, 0, 1, 1, 1,  0,  0,  0,  0,  0,  0,  0,  0,  0,  0,  0,  0,  0,  0],    \n",
    "    [0, 0, 0, 0, 0, 0, 0, 0, 0, 1, 1,  1,  0,  0,  0,  0,  0,  0,  0,  0,  0,  0,  0,  0,  0],    \n",
    "    [0, 0, 0, 0, 0, 0, 0, 0, 0, 0, 1,  1,  0,  0,  0,  0,  0,  0,  0,  0,  0,  0,  1,  0,  1],    \n",
    "    [0, 0, 0, 0, 0, 0, 0, 0, 1, 0, 0,  0,  1,  1,  0,  0,  0,  0,  0,  0,  0,  0,  0,  0,  0],    \n",
    "    [0, 0, 0, 0, 0, 0, 0, 0, 0, 0, 0,  0,  1,  1,  1,  0,  0,  0,  0,  0,  0,  0,  0,  0,  0],    \n",
    "    [0, 0, 0, 0, 0, 0, 0, 0, 0, 0, 0,  0,  0,  1,  1,  0,  0,  0,  0,  1,  0,  1,  0,  0,  0],    \n",
    "    [1, 0, 0, 0, 0, 0, 0, 0, 0, 0, 0,  0,  0,  0,  0,  1,  0,  1,  0,  0,  0,  0,  0,  0,  0],    \n",
    "    [1, 0, 0, 0, 0, 0, 0, 0, 0, 0, 0,  0,  0,  0,  0,  0,  1,  0,  1,  0,  0,  0,  0,  0,  0],    \n",
    "    [0, 0, 0, 0, 0, 0, 0, 0, 0, 0, 0,  0,  0,  0,  0,  1,  0,  1,  0,  0,  0,  0,  0,  0,  0],    \n",
    "    [0, 0, 0, 0, 0, 0, 0, 0, 0, 0, 0,  0,  0,  0,  0,  0,  1,  0,  1,  0,  0,  0,  0,  0,  0],    \n",
    "    [0, 0, 0, 0, 0, 0, 0, 0, 0, 0, 0,  0,  0,  0,  1,  0,  0,  0,  0,  1,  1,  0,  0,  0,  0],    \n",
    "    [0, 0, 0, 0, 0, 0, 0, 0, 0, 0, 0,  0,  0,  0,  0,  0,  0,  0,  0,  1,  1,  0,  0,  0,  0],    \n",
    "    [0, 0, 0, 0, 0, 0, 0, 0, 0, 0, 0,  0,  0,  0,  1,  0,  0,  0,  0,  0,  0,  1,  0,  0,  0],    \n",
    "    [0, 0, 0, 0, 0, 0, 0, 0, 0, 0, 0,  1,  0,  0,  0,  0,  0,  0,  0,  0,  0,  0,  1,  1,  0],    \n",
    "    [0, 0, 0, 0, 0, 0, 0, 0, 0, 0, 0,  0,  0,  0,  0,  0,  0,  0,  0,  0,  0,  0,  1,  1,  0],\n",
    "    [0, 0, 0, 0, 0, 0, 0, 0, 0, 0, 0,  1,  0,  0,  0,  0,  0,  0,  0,  0,  0,  0,  0,  0,  1]\n",
    "    \n",
    "]"
   ]
  },
  {
   "cell_type": "code",
   "execution_count": 347,
   "metadata": {
    "jupyter": {
     "source_hidden": true
    }
   },
   "outputs": [],
   "source": [
    "modified_A=[    \n",
    "    [1, 1, 0, 0, 0, 0, 0, 0, 0, 0, 0,  0,  0,  0,  0,  1,  1,  0,  0,  0,  0,  0,  0,  0,  0],\n",
    "    [1, 1, 1, 0, 0, 1, 0, 0, 1, 0, 0,  0,  0,  0,  0,  0,  0,  0,  0,  0,  0,  0,  0,  0,  0],    \n",
    "    [0, 1, 1, 1, 0, 0, 0, 0, 0, 0, 0,  0,  0,  0,  0,  0,  0,  0,  0,  0,  0,  0,  0,  0,  0],    \n",
    "    [0, 0, 1, 1, 1, 0, 0, 0, 0, 0, 0,  0,  0,  0,  0,  0,  0,  0,  0,  0,  0,  0,  0,  0,  0],    \n",
    "    [0, 0, 0, 1, 1, 0, 0, 0, 0, 0, 0,  0,  0,  0,  0,  0,  0,  0,  0,  0,  0,  0,  0,  0,  0],    \n",
    "    [0, 1, 0, 0, 0, 1, 1, 0, 0, 0, 0,  0,  0,  0,  0,  0,  0,  0,  0,  0,  0,  0,  0,  0,  0],    \n",
    "    [0, 0, 0, 0, 0, 1, 1, 1, 0, 0, 0,  0,  0,  0,  0,  0,  0,  0,  0,  0,  0,  0,  0,  0,  0],    \n",
    "    [0, 0, 0, 0, 0, 0, 1, 1, 0, 0, 0,  0,  0,  0,  0,  0,  0,  0,  0,  0,  0,  0,  0,  0,  0],    \n",
    "    [0, 1, 0, 0, 0, 0, 0, 0, 1, 1, 0,  0,  1,  0,  0,  0,  0,  0,  0,  0,  0,  0,  0,  0,  0],    \n",
    "    [0, 0, 0, 0, 0, 0, 0, 0, 1, 1, 1,  0,  0,  0,  0,  0,  0,  0,  0,  0,  0,  0,  0,  0,  0],    \n",
    "    [0, 0, 0, 0, 0, 0, 0, 0, 0, 1, 1,  1,  0,  0,  0,  0,  0,  0,  0,  0,  0,  0,  0,  0,  0],    \n",
    "    [0, 0, 0, 0, 0, 0, 0, 0, 0, 0, 1,  1,  0,  0,  0,  0,  0,  0,  0,  0,  0,  0,  1,  0,  0.5],    \n",
    "    [0, 0, 0, 0, 0, 0, 0, 0, 1, 0, 0,  0,  1,  1,  0,  0,  0,  0,  0,  0,  0,  0,  0,  0,  0],    \n",
    "    [0, 0, 0, 0, 0, 0, 0, 0, 0, 0, 0,  0,  1,  1,  1,  0,  0,  0,  0,  0,  0,  0,  0,  0,  0],    \n",
    "    [0, 0, 0, 0, 0, 0, 0, 0, 0, 0, 0,  0,  0,  1,  1,  0,  0,  0,  0,  1,  0,  0.5,  0,  0,  0],    \n",
    "    [1, 0, 0, 0, 0, 0, 0, 0, 0, 0, 0,  0,  0,  0,  0,  1,  0,  1,  0,  0,  0,  0,  0,  0,  0],    \n",
    "    [1, 0, 0, 0, 0, 0, 0, 0, 0, 0, 0,  0,  0,  0,  0,  0,  1,  0,  1,  0,  0,  0,  0,  0,  0],    \n",
    "    [0, 0, 0, 0, 0, 0, 0, 0, 0, 0, 0,  0,  0,  0,  0,  1,  0,  1,  0,  0,  0,  0,  0,  0,  0],    \n",
    "    [0, 0, 0, 0, 0, 0, 0, 0, 0, 0, 0,  0,  0,  0,  0,  0,  1,  0,  1,  0,  0,  0,  0,  0,  0],    \n",
    "    [0, 0, 0, 0, 0, 0, 0, 0, 0, 0, 0,  0,  0,  0,  1,  0,  0,  0,  0,  1,  0.5,  0,  0,  0,  0],    \n",
    "    [0, 0, 0, 0, 0, 0, 0, 0, 0, 0, 0,  0,  0,  0,  0,  0,  0,  0,  0,  0.5,  1,  0,  0,  0,  0],    \n",
    "    [0, 0, 0, 0, 0, 0, 0, 0, 0, 0, 0,  0,  0,  0,  0.5,  0,  0,  0,  0,  0,  0,  1,  0,  0,  0],    \n",
    "    [0, 0, 0, 0, 0, 0, 0, 0, 0, 0, 0,  1,  0,  0,  0,  0,  0,  0,  0,  0,  0,  0,  1,  0.5,  0],    \n",
    "    [0, 0, 0, 0, 0, 0, 0, 0, 0, 0, 0,  0,  0,  0,  0,  0,  0,  0,  0,  0,  0,  0,  0.5,  1,  0],\n",
    "    [0, 0, 0, 0, 0, 0, 0, 0, 0, 0, 0,  0.5,  0,  0,  0,  0,  0,  0,  0,  0,  0,  0,  0,  0,  1]   \n",
    "]"
   ]
  },
  {
   "cell_type": "code",
   "execution_count": 348,
   "metadata": {},
   "outputs": [
    {
     "data": {
      "text/plain": [
       "(25, 25)"
      ]
     },
     "execution_count": 348,
     "metadata": {},
     "output_type": "execute_result"
    }
   ],
   "source": [
    "np.array(modified_A).shape"
   ]
  },
  {
   "cell_type": "code",
   "execution_count": 387,
   "metadata": {},
   "outputs": [
    {
     "data": {
      "text/plain": [
       "4"
      ]
     },
     "execution_count": 387,
     "metadata": {},
     "output_type": "execute_result"
    }
   ],
   "source": [
    "i"
   ]
  },
  {
   "cell_type": "code",
   "execution_count": null,
   "metadata": {},
   "outputs": [],
   "source": []
  }
 ],
 "metadata": {
  "kernelspec": {
   "display_name": "Python 3.6.12 64-bit ('torch-gcn': conda)",
   "language": "python",
   "name": "python361264bittorchgcnconda2ada321a99b24395909b734b9a6775d7"
  },
  "language_info": {
   "codemirror_mode": {
    "name": "ipython",
    "version": 3
   },
   "file_extension": ".py",
   "mimetype": "text/x-python",
   "name": "python",
   "nbconvert_exporter": "python",
   "pygments_lexer": "ipython3",
   "version": "3.6.12"
  }
 },
 "nbformat": 4,
 "nbformat_minor": 4
}
